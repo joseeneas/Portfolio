{
 "cells": [
  {
   "cell_type": "markdown",
   "metadata": {},
   "source": [
    "Portfolio Assignment 20-1\n",
    "This notebook demonstrates how to compile a model using TensorFlow and Keras.\n",
    "```python\n",
    "import tensorflow as tf  # type: ignore --- IGNORE ---\n",
    "cifar = tf.keras.datasets.cifar100\n",
    "(x_train, y_train), (x_test, y_test) = cifar.load_data()\n",
    "model = tf.keras.applications.ResNet50(\n",
    "    include_top=True,\n",
    "    weights=None,\n",
    "    input_shape=(32, 32, 3),\n",
    "    classes=100,\n",
    "    pooling='avg',\n",
    "    classifier_activation='softmax'\n",
    ")\n",
    "model.compile(\n",
    "    optimizer='adam',\n",
    "    loss='sparse_categorical_crossentropy',\n",
    "    metrics=['accuracy']\n",
    ")\n",
    "model.fit(x_train, y_train, epochs=5, validation_data=(x_test, y_test))\n",
    "```\n",
    "This code snippet loads the CIFAR-100 dataset, initializes a ResNet50 model, compiles it with the Adam optimizer and sparse categorical crossentropy loss, and trains it for 5 epochs.\n"
   ]
  },
  {
   "cell_type": "code",
   "execution_count": null,
   "metadata": {
    "deletable": false,
    "editable": false,
    "id": "jjqUzwe969mu",
    "nbgrader": {
     "checksum": "62f7819e52083a254c81c2228bc31591",
     "grade": false,
     "grade_id": "cell-d5c13075b6763d8d",
     "locked": true,
     "schema_version": 1,
     "solution": false
    }
   },
   "outputs": [],
   "source": [
    "#%pip uninstall protobuf -y\n",
    "#%pip install protobuf==3.20.1\n",
    "# After running the above commands, please restart the kernel BEFORE running the import statements below.\n",
    "# conda install pandas\n",
    "#%pip install tensorflow-macos\n",
    "#%pip install tensorflow-metal\n",
    "#%pip install tensorflow-datasets\n",
    "#%pip install tensorflow\n",
    "#%pip install scikit-learn\n",
    "import pandas                      as pd\n",
    "import tensorflow                  as tf  # type: ignore\n",
    "from   tensorflow              import keras # type: ignore\n",
    "from   sklearn.model_selection import train_test_split\n",
    "\n",
    "tf.random.set_seed(42)"
   ]
  },
  {
   "cell_type": "markdown",
   "metadata": {
    "deletable": false,
    "editable": false,
    "id": "OI7tGV857bn0",
    "nbgrader": {
     "checksum": "3f83776f4e0ac502b9e769d736f6c41d",
     "grade": false,
     "grade_id": "cell-c794bfd6201853f8",
     "locked": true,
     "schema_version": 1,
     "solution": false
    }
   },
   "source": [
    "## IMDB movie reviews"
   ]
  },
  {
   "cell_type": "markdown",
   "metadata": {
    "deletable": false,
    "editable": false,
    "id": "TYaoGIaOpo2Z",
    "nbgrader": {
     "checksum": "a801dca45a23e220901889d822f5ebe6",
     "grade": false,
     "grade_id": "cell-fcfffc985f66b628",
     "locked": true,
     "schema_version": 1,
     "solution": false
    }
   },
   "source": [
    "## Retrieving and preparing the Data\n",
    "\n",
    "We will work with the IMDb movie reviews data."
   ]
  },
  {
   "cell_type": "code",
   "execution_count": 2,
   "metadata": {
    "deletable": false,
    "nbgrader": {
     "checksum": "e8cf131872ebd7d8399460943470bbe2",
     "grade": false,
     "grade_id": "cell-20a04a21a94fc74e",
     "locked": false,
     "schema_version": 1,
     "solution": true
    }
   },
   "outputs": [],
   "source": [
    "# question 1\n",
    "# Read in the IMDB Dataset into \"data\". Do not set an index column\n",
    "data = pd.read_csv('files/IMDB Dataset.csv')"
   ]
  },
  {
   "cell_type": "code",
   "execution_count": 3,
   "metadata": {
    "deletable": false,
    "editable": false,
    "nbgrader": {
     "checksum": "2ab187fcf006207c13e1220389ed1fb4",
     "grade": false,
     "grade_id": "cell-106c15bf7fc4e150",
     "locked": true,
     "schema_version": 1,
     "solution": false
    }
   },
   "outputs": [
    {
     "data": {
      "application/vnd.microsoft.datawrangler.viewer.v0+json": {
       "columns": [
        {
         "name": "index",
         "rawType": "int64",
         "type": "integer"
        },
        {
         "name": "review",
         "rawType": "object",
         "type": "string"
        },
        {
         "name": "sentiment",
         "rawType": "object",
         "type": "string"
        }
       ],
       "ref": "b1c66bd0-2af2-442a-8b61-7868214092fa",
       "rows": [
        [
         "0",
         "One of the other reviewers has mentioned that after watching just 1 Oz episode you'll be hooked. They are right, as this is exactly what happened with me.<br /><br />The first thing that struck me about Oz was its brutality and unflinching scenes of violence, which set in right from the word GO. Trust me, this is not a show for the faint hearted or timid. This show pulls no punches with regards to drugs, sex or violence. Its is hardcore, in the classic use of the word.<br /><br />It is called OZ as that is the nickname given to the Oswald Maximum Security State Penitentary. It focuses mainly on Emerald City, an experimental section of the prison where all the cells have glass fronts and face inwards, so privacy is not high on the agenda. Em City is home to many..Aryans, Muslims, gangstas, Latinos, Christians, Italians, Irish and more....so scuffles, death stares, dodgy dealings and shady agreements are never far away.<br /><br />I would say the main appeal of the show is due to the fact that it goes where other shows wouldn't dare. Forget pretty pictures painted for mainstream audiences, forget charm, forget romance...OZ doesn't mess around. The first episode I ever saw struck me as so nasty it was surreal, I couldn't say I was ready for it, but as I watched more, I developed a taste for Oz, and got accustomed to the high levels of graphic violence. Not just violence, but injustice (crooked guards who'll be sold out for a nickel, inmates who'll kill on order and get away with it, well mannered, middle class inmates being turned into prison bitches due to their lack of street skills or prison experience) Watching Oz, you may become comfortable with what is uncomfortable viewing....thats if you can get in touch with your darker side.",
         "positive"
        ],
        [
         "1",
         "A wonderful little production. <br /><br />The filming technique is very unassuming- very old-time-BBC fashion and gives a comforting, and sometimes discomforting, sense of realism to the entire piece. <br /><br />The actors are extremely well chosen- Michael Sheen not only \"has got all the polari\" but he has all the voices down pat too! You can truly see the seamless editing guided by the references to Williams' diary entries, not only is it well worth the watching but it is a terrificly written and performed piece. A masterful production about one of the great master's of comedy and his life. <br /><br />The realism really comes home with the little things: the fantasy of the guard which, rather than use the traditional 'dream' techniques remains solid then disappears. It plays on our knowledge and our senses, particularly with the scenes concerning Orton and Halliwell and the sets (particularly of their flat with Halliwell's murals decorating every surface) are terribly well done.",
         "positive"
        ],
        [
         "2",
         "I thought this was a wonderful way to spend time on a too hot summer weekend, sitting in the air conditioned theater and watching a light-hearted comedy. The plot is simplistic, but the dialogue is witty and the characters are likable (even the well bread suspected serial killer). While some may be disappointed when they realize this is not Match Point 2: Risk Addiction, I thought it was proof that Woody Allen is still fully in control of the style many of us have grown to love.<br /><br />This was the most I'd laughed at one of Woody's comedies in years (dare I say a decade?). While I've never been impressed with Scarlet Johanson, in this she managed to tone down her \"sexy\" image and jumped right into a average, but spirited young woman.<br /><br />This may not be the crown jewel of his career, but it was wittier than \"Devil Wears Prada\" and more interesting than \"Superman\" a great comedy to go see with friends.",
         "positive"
        ],
        [
         "3",
         "Basically there's a family where a little boy (Jake) thinks there's a zombie in his closet & his parents are fighting all the time.<br /><br />This movie is slower than a soap opera... and suddenly, Jake decides to become Rambo and kill the zombie.<br /><br />OK, first of all when you're going to make a film you must Decide if its a thriller or a drama! As a drama the movie is watchable. Parents are divorcing & arguing like in real life. And then we have Jake with his closet which totally ruins all the film! I expected to see a BOOGEYMAN similar movie, and instead i watched a drama with some meaningless thriller spots.<br /><br />3 out of 10 just for the well playing parents & descent dialogs. As for the shots with Jake: just ignore them.",
         "negative"
        ],
        [
         "4",
         "Petter Mattei's \"Love in the Time of Money\" is a visually stunning film to watch. Mr. Mattei offers us a vivid portrait about human relations. This is a movie that seems to be telling us what money, power and success do to people in the different situations we encounter. <br /><br />This being a variation on the Arthur Schnitzler's play about the same theme, the director transfers the action to the present time New York where all these different characters meet and connect. Each one is connected in one way, or another to the next person, but no one seems to know the previous point of contact. Stylishly, the film has a sophisticated luxurious look. We are taken to see how these people live and the world they live in their own habitat.<br /><br />The only thing one gets out of all these souls in the picture is the different stages of loneliness each one inhabits. A big city is not exactly the best place in which human relations find sincere fulfillment, as one discerns is the case with most of the people we encounter.<br /><br />The acting is good under Mr. Mattei's direction. Steve Buscemi, Rosario Dawson, Carol Kane, Michael Imperioli, Adrian Grenier, and the rest of the talented cast, make these characters come alive.<br /><br />We wish Mr. Mattei good luck and await anxiously for his next work.",
         "positive"
        ]
       ],
       "shape": {
        "columns": 2,
        "rows": 5
       }
      },
      "text/html": [
       "<div>\n",
       "<style scoped>\n",
       "    .dataframe tbody tr th:only-of-type {\n",
       "        vertical-align: middle;\n",
       "    }\n",
       "\n",
       "    .dataframe tbody tr th {\n",
       "        vertical-align: top;\n",
       "    }\n",
       "\n",
       "    .dataframe thead th {\n",
       "        text-align: right;\n",
       "    }\n",
       "</style>\n",
       "<table border=\"1\" class=\"dataframe\">\n",
       "  <thead>\n",
       "    <tr style=\"text-align: right;\">\n",
       "      <th></th>\n",
       "      <th>review</th>\n",
       "      <th>sentiment</th>\n",
       "    </tr>\n",
       "  </thead>\n",
       "  <tbody>\n",
       "    <tr>\n",
       "      <th>0</th>\n",
       "      <td>One of the other reviewers has mentioned that ...</td>\n",
       "      <td>positive</td>\n",
       "    </tr>\n",
       "    <tr>\n",
       "      <th>1</th>\n",
       "      <td>A wonderful little production. &lt;br /&gt;&lt;br /&gt;The...</td>\n",
       "      <td>positive</td>\n",
       "    </tr>\n",
       "    <tr>\n",
       "      <th>2</th>\n",
       "      <td>I thought this was a wonderful way to spend ti...</td>\n",
       "      <td>positive</td>\n",
       "    </tr>\n",
       "    <tr>\n",
       "      <th>3</th>\n",
       "      <td>Basically there's a family where a little boy ...</td>\n",
       "      <td>negative</td>\n",
       "    </tr>\n",
       "    <tr>\n",
       "      <th>4</th>\n",
       "      <td>Petter Mattei's \"Love in the Time of Money\" is...</td>\n",
       "      <td>positive</td>\n",
       "    </tr>\n",
       "  </tbody>\n",
       "</table>\n",
       "</div>"
      ],
      "text/plain": [
       "                                              review sentiment\n",
       "0  One of the other reviewers has mentioned that ...  positive\n",
       "1  A wonderful little production. <br /><br />The...  positive\n",
       "2  I thought this was a wonderful way to spend ti...  positive\n",
       "3  Basically there's a family where a little boy ...  negative\n",
       "4  Petter Mattei's \"Love in the Time of Money\" is...  positive"
      ]
     },
     "execution_count": 3,
     "metadata": {},
     "output_type": "execute_result"
    }
   ],
   "source": [
    "data.head()"
   ]
  },
  {
   "cell_type": "code",
   "execution_count": 4,
   "metadata": {
    "deletable": false,
    "nbgrader": {
     "checksum": "72caedc853058ef311a7d160aa7f0b9a",
     "grade": false,
     "grade_id": "cell-c5da00bb8d244d49",
     "locked": false,
     "schema_version": 1,
     "solution": true
    }
   },
   "outputs": [],
   "source": [
    "# question 2\n",
    "# Replace all \"negative\" and \"positive\" sentiment values with 0 and 1 respectively.\n",
    "# You can use a simple logical operator instead of label encoding.\n",
    "data['sentiment'] = data['sentiment'].apply(lambda x: 1 if x == 'positive' else 0)"
   ]
  },
  {
   "cell_type": "code",
   "execution_count": 5,
   "metadata": {
    "deletable": false,
    "nbgrader": {
     "checksum": "bf7d4c869d3b0584629fbf89a1aa00d2",
     "grade": false,
     "grade_id": "cell-fb60c3ad8cffa7d5",
     "locked": false,
     "schema_version": 1,
     "solution": true
    }
   },
   "outputs": [
    {
     "name": "stdout",
     "output_type": "stream",
     "text": [
      "0    1\n",
      "1    1\n",
      "2    1\n",
      "3    0\n",
      "4    1\n",
      "5    1\n",
      "6    1\n",
      "7    0\n",
      "8    0\n",
      "9    1\n",
      "Name: sentiment, dtype: int64\n"
     ]
    }
   ],
   "source": [
    "# question 3\n",
    "# Get the dependent data and assign to y\n",
    "y = data['sentiment']   \n",
    "print(y[0:10])"
   ]
  },
  {
   "cell_type": "code",
   "execution_count": 6,
   "metadata": {
    "deletable": false,
    "nbgrader": {
     "checksum": "0edcaeb4d67e532613270d5df55b4acf",
     "grade": false,
     "grade_id": "cell-841ced4ea0dcaf2f",
     "locked": false,
     "schema_version": 1,
     "solution": true
    }
   },
   "outputs": [],
   "source": [
    "# question 4\n",
    "# Split the X data (data['review']) and y data into X_train, X_test, y_train, and y_test\n",
    "# With a test size of 0.2 and a random_state of 42\n",
    "X_train, X_test, y_train, y_test = train_test_split(data['review'], y, test_size=0.2, random_state=42)"
   ]
  },
  {
   "cell_type": "code",
   "execution_count": null,
   "metadata": {
    "deletable": false,
    "editable": false,
    "id": "4RK7K2ZCqTb4",
    "nbgrader": {
     "checksum": "e3ab5d9602a766b48cce4d38187f6322",
     "grade": false,
     "grade_id": "cell-2744a959d2f8f369",
     "locked": true,
     "schema_version": 1,
     "solution": false
    }
   },
   "outputs": [
    {
     "name": "stdout",
     "output_type": "stream",
     "text": [
      "\n",
      "Train samples: 40000\n",
      "Test samples: 10000\n",
      "\n"
     ]
    }
   ],
   "source": [
    "print(f\"\"\"\n",
    "Train samples: {X_train.shape[0]}\n",
    "Test samples : {X_test.shape[0]}\n",
    "\"\"\"\n",
    ")"
   ]
  },
  {
   "cell_type": "code",
   "execution_count": 8,
   "metadata": {
    "colab": {
     "base_uri": "https://localhost:8080/",
     "height": 166
    },
    "deletable": false,
    "editable": false,
    "id": "wZtI-YRqTRrg",
    "nbgrader": {
     "checksum": "712aac7799944741784d78205b4c4d50",
     "grade": false,
     "grade_id": "cell-8b669b1b85e4f6aa",
     "locked": true,
     "schema_version": 1,
     "solution": false
    },
    "outputId": "01963e47-907e-4ed2-a17d-2299070d3729"
   },
   "outputs": [
    {
     "data": {
      "application/vnd.microsoft.datawrangler.viewer.v0+json": {
       "columns": [
        {
         "name": "index",
         "rawType": "int64",
         "type": "integer"
        },
        {
         "name": "sentiment",
         "rawType": "int64",
         "type": "integer"
        }
       ],
       "ref": "bc4cd1cf-f078-43a0-937c-73bb683211d2",
       "rows": [
        [
         "39087",
         "0"
        ],
        [
         "30893",
         "0"
        ],
        [
         "45278",
         "1"
        ],
        [
         "16398",
         "0"
        ],
        [
         "13653",
         "0"
        ],
        [
         "13748",
         "0"
        ],
        [
         "23965",
         "0"
        ],
        [
         "45552",
         "0"
        ],
        [
         "30219",
         "1"
        ],
        [
         "24079",
         "0"
        ],
        [
         "12181",
         "0"
        ],
        [
         "21848",
         "0"
        ],
        [
         "14290",
         "1"
        ],
        [
         "24755",
         "1"
        ],
        [
         "35013",
         "0"
        ],
        [
         "15361",
         "0"
        ],
        [
         "48038",
         "1"
        ],
        [
         "36311",
         "0"
        ],
        [
         "30239",
         "1"
        ],
        [
         "7195",
         "1"
        ],
        [
         "3579",
         "1"
        ],
        [
         "36147",
         "0"
        ],
        [
         "34095",
         "1"
        ],
        [
         "10441",
         "1"
        ],
        [
         "16307",
         "0"
        ],
        [
         "4204",
         "0"
        ],
        [
         "6957",
         "0"
        ],
        [
         "9163",
         "0"
        ],
        [
         "20627",
         "1"
        ],
        [
         "17567",
         "0"
        ],
        [
         "14832",
         "0"
        ],
        [
         "27029",
         "1"
        ],
        [
         "44197",
         "0"
        ],
        [
         "1",
         "1"
        ],
        [
         "35449",
         "0"
        ],
        [
         "30903",
         "1"
        ],
        [
         "7648",
         "0"
        ],
        [
         "4217",
         "1"
        ],
        [
         "10474",
         "0"
        ],
        [
         "1185",
         "1"
        ],
        [
         "46701",
         "1"
        ],
        [
         "26826",
         "1"
        ],
        [
         "12090",
         "1"
        ],
        [
         "5386",
         "1"
        ],
        [
         "17351",
         "0"
        ],
        [
         "18844",
         "1"
        ],
        [
         "28816",
         "1"
        ],
        [
         "43052",
         "0"
        ],
        [
         "11347",
         "1"
        ],
        [
         "42802",
         "0"
        ]
       ],
       "shape": {
        "columns": 1,
        "rows": 40000
       }
      },
      "text/plain": [
       "39087    0\n",
       "30893    0\n",
       "45278    1\n",
       "16398    0\n",
       "13653    0\n",
       "        ..\n",
       "11284    1\n",
       "44732    1\n",
       "38158    0\n",
       "860      1\n",
       "15795    1\n",
       "Name: sentiment, Length: 40000, dtype: int64"
      ]
     },
     "execution_count": 8,
     "metadata": {},
     "output_type": "execute_result"
    }
   ],
   "source": [
    "y_train"
   ]
  },
  {
   "cell_type": "markdown",
   "metadata": {
    "deletable": false,
    "editable": false,
    "id": "OzLguIWdeB-5",
    "nbgrader": {
     "checksum": "0b30a67f0a9a62fae89dd8d046c70438",
     "grade": false,
     "grade_id": "cell-8b95ac774030229c",
     "locked": true,
     "schema_version": 1,
     "solution": false
    }
   },
   "source": [
    "Inspect the frequence of each sentiment in the traning dataset (it is balanced!)"
   ]
  },
  {
   "cell_type": "code",
   "execution_count": 9,
   "metadata": {
    "colab": {
     "base_uri": "https://localhost:8080/"
    },
    "deletable": false,
    "id": "1dVkRgPIuneP",
    "nbgrader": {
     "checksum": "256c996847f61b8dc7c6e046d1198a9c",
     "grade": false,
     "grade_id": "cell-e3bd86db55a92c1b",
     "locked": false,
     "schema_version": 1,
     "solution": true
    },
    "outputId": "71478b47-0750-4dc1-ec2e-9fa8a296fad0"
   },
   "outputs": [
    {
     "name": "stdout",
     "output_type": "stream",
     "text": [
      "sentiment\n",
      "0    0.500975\n",
      "1    0.499025\n",
      "Name: count, dtype: float64\n"
     ]
    }
   ],
   "source": [
    "# question 5\n",
    "# Calculate the training data's frequency and assign the output to \"frequency\"\n",
    "frequency = y_train.value_counts() / y_train.shape[0]\n",
    "print(frequency)"
   ]
  },
  {
   "cell_type": "code",
   "execution_count": 10,
   "metadata": {
    "deletable": false,
    "id": "sia5LebDeuDM",
    "nbgrader": {
     "checksum": "3696f28f069bdf94d5ca55a10f13b6f5",
     "grade": false,
     "grade_id": "cell-d9c0261312c36fad",
     "locked": false,
     "schema_version": 1,
     "solution": true
    }
   },
   "outputs": [],
   "source": [
    "# cell 6\n",
    "# Let's turn the target into a dummy vector\n",
    "y_train = pd.get_dummies(y_train).to_numpy()\n",
    "y_test  = pd.get_dummies(y_test).to_numpy()"
   ]
  },
  {
   "cell_type": "code",
   "execution_count": 11,
   "metadata": {
    "deletable": false,
    "editable": false,
    "nbgrader": {
     "checksum": "4d6cc03e20ea5c8a9ed9e4dd65cb22c9",
     "grade": false,
     "grade_id": "cell-12af49dffe46d4f2",
     "locked": true,
     "schema_version": 1,
     "solution": false
    }
   },
   "outputs": [
    {
     "data": {
      "text/plain": [
       "(40000, 2)"
      ]
     },
     "execution_count": 11,
     "metadata": {},
     "output_type": "execute_result"
    }
   ],
   "source": [
    "y_train.shape"
   ]
  },
  {
   "cell_type": "markdown",
   "metadata": {
    "deletable": false,
    "editable": false,
    "id": "p4ktfnOWeX-x",
    "nbgrader": {
     "checksum": "53482d2ab677e371636a3b13c495a694",
     "grade": false,
     "grade_id": "cell-8fdd5bd24c5b1aa8",
     "locked": true,
     "schema_version": 1,
     "solution": false
    }
   },
   "source": [
    "## Unigram Multi-hot Encoding Baseline\n",
    "\n",
    "Next, let us see the performance of a neural net that is trained from the scratch using multi-hot encoding. "
   ]
  },
  {
   "cell_type": "code",
   "execution_count": 12,
   "metadata": {
    "deletable": false,
    "id": "h48xnYwyXLWK",
    "nbgrader": {
     "checksum": "7f66cef5156075bb4fe7dc9d70a97df0",
     "grade": false,
     "grade_id": "cell-e9277fc1e87a127a",
     "locked": false,
     "schema_version": 1,
     "solution": true
    }
   },
   "outputs": [],
   "source": [
    "from tensorflow.keras.layers import TextVectorization # type: ignore\n",
    "\n",
    "# Set the maximum number of tokens to 2412. \n",
    "# Also set up our Text Vectorization layer using multi-hot encoding\n",
    "max_tokens      = 2412\n",
    "text_vectorization = TextVectorization(max_tokens  = max_tokens, \n",
    "                                    output_mode = 'multi_hot') "
   ]
  },
  {
   "cell_type": "code",
   "execution_count": 13,
   "metadata": {
    "deletable": false,
    "nbgrader": {
     "checksum": "1cfb54eadaf4db959ada980f108ab13a",
     "grade": false,
     "grade_id": "cell-d866880efca5c5ba",
     "locked": false,
     "schema_version": 1,
     "solution": true
    }
   },
   "outputs": [],
   "source": [
    "# The vocabulary that will be indexed is given by the text corpus on our train dataset\n",
    "text_vectorization.adapt(X_train)"
   ]
  },
  {
   "cell_type": "code",
   "execution_count": 14,
   "metadata": {
    "deletable": false,
    "id": "jO96Ho9WXVtb",
    "nbgrader": {
     "checksum": "c6cf40ac2eac47ef2c41e0a33e7046c6",
     "grade": false,
     "grade_id": "cell-8173b8e7c6ffe8a9",
     "locked": false,
     "schema_version": 1,
     "solution": true
    }
   },
   "outputs": [],
   "source": [
    "# Question 7\n",
    "# We vectorize our input\n",
    "X_train = text_vectorization(X_train)\n",
    "X_test  = text_vectorization(X_test)"
   ]
  },
  {
   "cell_type": "code",
   "execution_count": 15,
   "metadata": {
    "deletable": false,
    "nbgrader": {
     "checksum": "366225b8fe209f21675f420d258e870a",
     "grade": false,
     "grade_id": "cell-d039bb02c0b80a1a",
     "locked": false,
     "schema_version": 1,
     "solution": true
    }
   },
   "outputs": [
    {
     "data": {
      "text/html": [
       "<pre style=\"white-space:pre;overflow-x:auto;line-height:normal;font-family:Menlo,'DejaVu Sans Mono',consolas,'Courier New',monospace\"><span style=\"font-weight: bold\">Model: \"functional\"</span>\n",
       "</pre>\n"
      ],
      "text/plain": [
       "\u001b[1mModel: \"functional\"\u001b[0m\n"
      ]
     },
     "metadata": {},
     "output_type": "display_data"
    },
    {
     "data": {
      "text/html": [
       "<pre style=\"white-space:pre;overflow-x:auto;line-height:normal;font-family:Menlo,'DejaVu Sans Mono',consolas,'Courier New',monospace\">┏━━━━━━━━━━━━━━━━━━━━━━━━━━━━━━━━━┳━━━━━━━━━━━━━━━━━━━━━━━━┳━━━━━━━━━━━━━━━┓\n",
       "┃<span style=\"font-weight: bold\"> Layer (type)                    </span>┃<span style=\"font-weight: bold\"> Output Shape           </span>┃<span style=\"font-weight: bold\">       Param # </span>┃\n",
       "┡━━━━━━━━━━━━━━━━━━━━━━━━━━━━━━━━━╇━━━━━━━━━━━━━━━━━━━━━━━━╇━━━━━━━━━━━━━━━┩\n",
       "│ input_layer (<span style=\"color: #0087ff; text-decoration-color: #0087ff\">InputLayer</span>)        │ (<span style=\"color: #00d7ff; text-decoration-color: #00d7ff\">None</span>, <span style=\"color: #00af00; text-decoration-color: #00af00\">2412</span>)           │             <span style=\"color: #00af00; text-decoration-color: #00af00\">0</span> │\n",
       "├─────────────────────────────────┼────────────────────────┼───────────────┤\n",
       "│ dense (<span style=\"color: #0087ff; text-decoration-color: #0087ff\">Dense</span>)                   │ (<span style=\"color: #00d7ff; text-decoration-color: #00d7ff\">None</span>, <span style=\"color: #00af00; text-decoration-color: #00af00\">32</span>)             │        <span style=\"color: #00af00; text-decoration-color: #00af00\">77,216</span> │\n",
       "├─────────────────────────────────┼────────────────────────┼───────────────┤\n",
       "│ dropout (<span style=\"color: #0087ff; text-decoration-color: #0087ff\">Dropout</span>)               │ (<span style=\"color: #00d7ff; text-decoration-color: #00d7ff\">None</span>, <span style=\"color: #00af00; text-decoration-color: #00af00\">32</span>)             │             <span style=\"color: #00af00; text-decoration-color: #00af00\">0</span> │\n",
       "├─────────────────────────────────┼────────────────────────┼───────────────┤\n",
       "│ dense_1 (<span style=\"color: #0087ff; text-decoration-color: #0087ff\">Dense</span>)                 │ (<span style=\"color: #00d7ff; text-decoration-color: #00d7ff\">None</span>, <span style=\"color: #00af00; text-decoration-color: #00af00\">2</span>)              │            <span style=\"color: #00af00; text-decoration-color: #00af00\">66</span> │\n",
       "└─────────────────────────────────┴────────────────────────┴───────────────┘\n",
       "</pre>\n"
      ],
      "text/plain": [
       "┏━━━━━━━━━━━━━━━━━━━━━━━━━━━━━━━━━┳━━━━━━━━━━━━━━━━━━━━━━━━┳━━━━━━━━━━━━━━━┓\n",
       "┃\u001b[1m \u001b[0m\u001b[1mLayer (type)                   \u001b[0m\u001b[1m \u001b[0m┃\u001b[1m \u001b[0m\u001b[1mOutput Shape          \u001b[0m\u001b[1m \u001b[0m┃\u001b[1m \u001b[0m\u001b[1m      Param #\u001b[0m\u001b[1m \u001b[0m┃\n",
       "┡━━━━━━━━━━━━━━━━━━━━━━━━━━━━━━━━━╇━━━━━━━━━━━━━━━━━━━━━━━━╇━━━━━━━━━━━━━━━┩\n",
       "│ input_layer (\u001b[38;5;33mInputLayer\u001b[0m)        │ (\u001b[38;5;45mNone\u001b[0m, \u001b[38;5;34m2412\u001b[0m)           │             \u001b[38;5;34m0\u001b[0m │\n",
       "├─────────────────────────────────┼────────────────────────┼───────────────┤\n",
       "│ dense (\u001b[38;5;33mDense\u001b[0m)                   │ (\u001b[38;5;45mNone\u001b[0m, \u001b[38;5;34m32\u001b[0m)             │        \u001b[38;5;34m77,216\u001b[0m │\n",
       "├─────────────────────────────────┼────────────────────────┼───────────────┤\n",
       "│ dropout (\u001b[38;5;33mDropout\u001b[0m)               │ (\u001b[38;5;45mNone\u001b[0m, \u001b[38;5;34m32\u001b[0m)             │             \u001b[38;5;34m0\u001b[0m │\n",
       "├─────────────────────────────────┼────────────────────────┼───────────────┤\n",
       "│ dense_1 (\u001b[38;5;33mDense\u001b[0m)                 │ (\u001b[38;5;45mNone\u001b[0m, \u001b[38;5;34m2\u001b[0m)              │            \u001b[38;5;34m66\u001b[0m │\n",
       "└─────────────────────────────────┴────────────────────────┴───────────────┘\n"
      ]
     },
     "metadata": {},
     "output_type": "display_data"
    },
    {
     "data": {
      "text/html": [
       "<pre style=\"white-space:pre;overflow-x:auto;line-height:normal;font-family:Menlo,'DejaVu Sans Mono',consolas,'Courier New',monospace\"><span style=\"font-weight: bold\"> Total params: </span><span style=\"color: #00af00; text-decoration-color: #00af00\">77,282</span> (301.88 KB)\n",
       "</pre>\n"
      ],
      "text/plain": [
       "\u001b[1m Total params: \u001b[0m\u001b[38;5;34m77,282\u001b[0m (301.88 KB)\n"
      ]
     },
     "metadata": {},
     "output_type": "display_data"
    },
    {
     "data": {
      "text/html": [
       "<pre style=\"white-space:pre;overflow-x:auto;line-height:normal;font-family:Menlo,'DejaVu Sans Mono',consolas,'Courier New',monospace\"><span style=\"font-weight: bold\"> Trainable params: </span><span style=\"color: #00af00; text-decoration-color: #00af00\">77,282</span> (301.88 KB)\n",
       "</pre>\n"
      ],
      "text/plain": [
       "\u001b[1m Trainable params: \u001b[0m\u001b[38;5;34m77,282\u001b[0m (301.88 KB)\n"
      ]
     },
     "metadata": {},
     "output_type": "display_data"
    },
    {
     "data": {
      "text/html": [
       "<pre style=\"white-space:pre;overflow-x:auto;line-height:normal;font-family:Menlo,'DejaVu Sans Mono',consolas,'Courier New',monospace\"><span style=\"font-weight: bold\"> Non-trainable params: </span><span style=\"color: #00af00; text-decoration-color: #00af00\">0</span> (0.00 B)\n",
       "</pre>\n"
      ],
      "text/plain": [
       "\u001b[1m Non-trainable params: \u001b[0m\u001b[38;5;34m0\u001b[0m (0.00 B)\n"
      ]
     },
     "metadata": {},
     "output_type": "display_data"
    }
   ],
   "source": [
    "# Question 8\n",
    "# Now create your model. start with 32 dense relu layers, a dropout layer of 0.5, and a final softmax layer\n",
    "inputs  = keras.Input(shape=(max_tokens, ))\n",
    "x       = keras.layers.Dense(32, activation=\"relu\")(inputs)\n",
    "x       = keras.layers.Dropout(0.5)(x)\n",
    "outputs = keras.layers.Dense(2, activation=\"softmax\")(x)\n",
    "\n",
    "model = keras.Model(inputs, outputs)\n",
    "model.summary()"
   ]
  },
  {
   "cell_type": "code",
   "execution_count": 16,
   "metadata": {
    "deletable": false,
    "nbgrader": {
     "checksum": "07007d98c76cf4987306051fa690778a",
     "grade": false,
     "grade_id": "cell-bf0c9b489f54a4f1",
     "locked": false,
     "schema_version": 1,
     "solution": true
    }
   },
   "outputs": [],
   "source": [
    "# Compile your model\n",
    "model.compile(optimizer='adam',\n",
    "              loss='categorical_crossentropy',\n",
    "              metrics=['accuracy'])"
   ]
  },
  {
   "cell_type": "code",
   "execution_count": 17,
   "metadata": {
    "deletable": false,
    "nbgrader": {
     "checksum": "95b5575361496edbb11f0c060a42679a",
     "grade": false,
     "grade_id": "cell-dd0a166873b6f420",
     "locked": false,
     "schema_version": 1,
     "solution": true
    }
   },
   "outputs": [
    {
     "name": "stdout",
     "output_type": "stream",
     "text": [
      "Epoch 1/5\n",
      "\u001b[1m1250/1250\u001b[0m \u001b[32m━━━━━━━━━━━━━━━━━━━━\u001b[0m\u001b[37m\u001b[0m \u001b[1m1s\u001b[0m 633us/step - accuracy: 0.7783 - loss: 0.4543 - val_accuracy: 0.8770 - val_loss: 0.2829\n",
      "Epoch 2/5\n",
      "\u001b[1m1250/1250\u001b[0m \u001b[32m━━━━━━━━━━━━━━━━━━━━\u001b[0m\u001b[37m\u001b[0m \u001b[1m1s\u001b[0m 566us/step - accuracy: 0.8754 - loss: 0.2952 - val_accuracy: 0.8800 - val_loss: 0.2792\n",
      "Epoch 3/5\n",
      "\u001b[1m1250/1250\u001b[0m \u001b[32m━━━━━━━━━━━━━━━━━━━━\u001b[0m\u001b[37m\u001b[0m \u001b[1m1s\u001b[0m 575us/step - accuracy: 0.8918 - loss: 0.2672 - val_accuracy: 0.8782 - val_loss: 0.2836\n",
      "Epoch 4/5\n",
      "\u001b[1m1250/1250\u001b[0m \u001b[32m━━━━━━━━━━━━━━━━━━━━\u001b[0m\u001b[37m\u001b[0m \u001b[1m1s\u001b[0m 574us/step - accuracy: 0.9005 - loss: 0.2457 - val_accuracy: 0.8777 - val_loss: 0.2972\n",
      "Epoch 5/5\n",
      "\u001b[1m1250/1250\u001b[0m \u001b[32m━━━━━━━━━━━━━━━━━━━━\u001b[0m\u001b[37m\u001b[0m \u001b[1m1s\u001b[0m 577us/step - accuracy: 0.9072 - loss: 0.2317 - val_accuracy: 0.8774 - val_loss: 0.3072\n"
     ]
    },
    {
     "data": {
      "text/plain": [
       "<keras.src.callbacks.history.History at 0x16c6ef950>"
      ]
     },
     "execution_count": 17,
     "metadata": {},
     "output_type": "execute_result"
    }
   ],
   "source": [
    "# Fit model\n",
    "# Use one-hot encoded y for training and testing\n",
    "model.fit(\n",
    "    x              = X_train, \n",
    "    y              = y_train.astype('float32'), \n",
    "    validation_data= (X_test, \n",
    "                      y_test.astype('float32')),\n",
    "    epochs         = 5\n",
    ")\n"
   ]
  },
  {
   "cell_type": "code",
   "execution_count": 18,
   "metadata": {
    "deletable": false,
    "nbgrader": {
     "checksum": "d38d17e24c54522e921010e1dabfe031",
     "grade": false,
     "grade_id": "cell-19919983da9eb5f0",
     "locked": false,
     "schema_version": 1,
     "solution": true
    }
   },
   "outputs": [
    {
     "name": "stdout",
     "output_type": "stream",
     "text": [
      "\u001b[1m313/313\u001b[0m \u001b[32m━━━━━━━━━━━━━━━━━━━━\u001b[0m\u001b[37m\u001b[0m \u001b[1m0s\u001b[0m 352us/step - accuracy: 0.8752 - loss: 0.3083\n"
     ]
    },
    {
     "data": {
      "text/plain": [
       "True"
      ]
     },
     "execution_count": 18,
     "metadata": {},
     "output_type": "execute_result"
    }
   ],
   "source": [
    "# Question 9\n",
    "# Evaluate your model. You should be able to get your model to 85% at this point\n",
    "# Use one-hot encoded y for evaluation as well\n",
    "model.evaluate(x=X_test, y=y_test.astype('float32'))[1] > 0.85"
   ]
  },
  {
   "cell_type": "markdown",
   "metadata": {
    "deletable": false,
    "editable": false,
    "id": "hlSWRoTGqn7Y",
    "nbgrader": {
     "checksum": "f24877faf0501bb073b82d4907dc36b9",
     "grade": false,
     "grade_id": "cell-70a2245e1fd4ffbd",
     "locked": true,
     "schema_version": 1,
     "solution": false
    }
   },
   "source": [
    "## Extend Baseline Model"
   ]
  },
  {
   "cell_type": "markdown",
   "metadata": {
    "deletable": false,
    "editable": false,
    "id": "zr2zmxTRquGw",
    "nbgrader": {
     "checksum": "46be15ce582c83eb9c3e1016c3657f2f",
     "grade": false,
     "grade_id": "cell-a3569eb3279dc7b1",
     "locked": true,
     "schema_version": 1,
     "solution": false
    }
   },
   "source": [
    "Let's create more complex models to increase the accuracy on our test sample. Try combining different models by changing:\n",
    "- Number of hidden units\n",
    "- Adding another hidden layer.\n",
    "- Changing the number of epochs.\n",
    "- Using bigrams instead of unigrams.\n",
    "\n",
    "To guide your search for the best parameters, note how the accuracy changes on both train and test data."
   ]
  },
  {
   "cell_type": "code",
   "execution_count": 19,
   "metadata": {
    "deletable": false,
    "id": "72tQJQOWqrxG",
    "nbgrader": {
     "checksum": "bc6d313f23848cca133da79089f248fa",
     "grade": false,
     "grade_id": "cell-d123d80f6d95e712",
     "locked": false,
     "schema_version": 1,
     "solution": true
    }
   },
   "outputs": [],
   "source": [
    "embedding_dim = 64\n",
    "hidden_units  = 32\n",
    "num_classes   = y_train.shape[1]  # Use y_train, which is one-hot encoded\n",
    "model = tf.keras.Sequential([\n",
    "        tf.keras.layers.Input(shape=(max_tokens,)),  # Use max_tokens as input shape\n",
    "        tf.keras.layers.Dense(128, activation='relu'),\n",
    "        tf.keras.layers.Dropout(0.5),\n",
    "        tf.keras.layers.Dense(num_classes, activation='softmax')\n",
    "])"
   ]
  },
  {
   "cell_type": "code",
   "execution_count": 20,
   "metadata": {},
   "outputs": [
    {
     "name": "stdout",
     "output_type": "stream",
     "text": [
      "Epoch 1/5\n",
      "\u001b[1m782/782\u001b[0m \u001b[32m━━━━━━━━━━━━━━━━━━━━\u001b[0m\u001b[37m\u001b[0m \u001b[1m273s\u001b[0m 338ms/step - accuracy: 0.0573 - loss: 5.0049\n",
      "Epoch 2/5\n",
      "\u001b[1m782/782\u001b[0m \u001b[32m━━━━━━━━━━━━━━━━━━━━\u001b[0m\u001b[37m\u001b[0m \u001b[1m272s\u001b[0m 348ms/step - accuracy: 0.0828 - loss: 4.6745\n",
      "Epoch 3/5\n",
      "\u001b[1m782/782\u001b[0m \u001b[32m━━━━━━━━━━━━━━━━━━━━\u001b[0m\u001b[37m\u001b[0m \u001b[1m265s\u001b[0m 339ms/step - accuracy: 0.1209 - loss: 4.0045\n",
      "Epoch 4/5\n",
      "\u001b[1m782/782\u001b[0m \u001b[32m━━━━━━━━━━━━━━━━━━━━\u001b[0m\u001b[37m\u001b[0m \u001b[1m264s\u001b[0m 337ms/step - accuracy: 0.1757 - loss: 3.6470\n",
      "Epoch 5/5\n",
      "\u001b[1m782/782\u001b[0m \u001b[32m━━━━━━━━━━━━━━━━━━━━\u001b[0m\u001b[37m\u001b[0m \u001b[1m262s\u001b[0m 335ms/step - accuracy: 0.1754 - loss: 3.7303\n"
     ]
    },
    {
     "data": {
      "text/plain": [
       "<keras.src.callbacks.history.History at 0x32e106390>"
      ]
     },
     "execution_count": 20,
     "metadata": {},
     "output_type": "execute_result"
    }
   ],
   "source": [
    "# Compile the model\n",
    "cifar = tf.keras.datasets.cifar100\n",
    "(x_train, y_train), (x_test, y_test) = cifar.load_data()\n",
    "model = tf.keras.applications.ResNet50(\n",
    "    include_top = True,\n",
    "    weights     = None,\n",
    "    input_shape = (32, 32, 3),\n",
    "    classes     = 100,)\n",
    "loss_fn = tf.keras.losses.SparseCategoricalCrossentropy(from_logits=False)\n",
    "model.compile(optimizer=\"adam\", loss=loss_fn, metrics=[\"accuracy\"])\n",
    "model.fit(x_train, y_train, epochs=5, batch_size=64)"
   ]
  }
 ],
 "metadata": {
  "colab": {
   "provenance": []
  },
  "kernelspec": {
   "display_name": "tf-env",
   "language": "python",
   "name": "python3"
  },
  "language_info": {
   "codemirror_mode": {
    "name": "ipython",
    "version": 3
   },
   "file_extension": ".py",
   "mimetype": "text/x-python",
   "name": "python",
   "nbconvert_exporter": "python",
   "pygments_lexer": "ipython3",
   "version": "3.11.13"
  }
 },
 "nbformat": 4,
 "nbformat_minor": 1
}

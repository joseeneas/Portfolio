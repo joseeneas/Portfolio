{
 "cells": [
  {
   "cell_type": "markdown",
   "metadata": {
    "deletable": false,
    "editable": false,
    "nbgrader": {
     "checksum": "81c9e50dc8dbb2f7d6d47bdc1eb44eac",
     "grade": false,
     "grade_id": "cell-eb51c5a6c8000a4e",
     "locked": true,
     "schema_version": 1,
     "solution": false
    }
   },
   "source": [
    "<span style=\"color: cyan;\">\n",
    "\n",
    "#### ```Portfolio Assignment 6.1: Feature Selection```\n",
    "\n",
    "In this assignment, we will work with a dataset to build a linear regression model that predicts a target variable.\n",
    "\n",
    "The dataset contains various features, and your goal is to select the most relevant ones for the model.\n",
    "\n",
    "Let's start with importing what we need...  "
   ]
  },
  {
   "cell_type": "code",
   "execution_count": null,
   "metadata": {
    "deletable": false,
    "editable": false,
    "nbgrader": {
     "checksum": "dbd77cc0f6ace3c1ded6ea72540ee344",
     "grade": false,
     "grade_id": "cell-784431d974160030",
     "locked": true,
     "schema_version": 1,
     "solution": false
    }
   },
   "outputs": [],
   "source": [
    "import pandas as pd \n",
    "import statsmodels.api as sm \n",
    "from statsmodels.formula.api import ols \n",
    "from sklearn.model_selection import train_test_split \n",
    "from sklearn.metrics import r2_score "
   ]
  },
  {
   "cell_type": "markdown",
   "metadata": {
    "deletable": false,
    "editable": false,
    "nbgrader": {
     "checksum": "4c6f90dce8b30c2c453ecc0277d95269",
     "grade": false,
     "grade_id": "cell-7686284e03a9d7b2",
     "locked": true,
     "schema_version": 1,
     "solution": false
    }
   },
   "source": [
    "<span style=\"color: cyan;\">\n",
    "\n",
    "##### Let's load the publicly available diabetes dataset and print out a description of the dataset.<br>Your task is to build the best linear regression model you can, using this data to predict the 'target' field.\n",
    "\n",
    "#### Diabetes dataset\n",
    "\n",
    "Ten baseline variables, age, sex, body mass index, average blood pressure, and six blood serum measurements were obtained for each of n = 442 diabetes patients, as well as the response of interest, a quantitative measure of disease progression one year after baseline.\n",
    "Data Set Characteristics\n",
    "Number of Instances: 442\n",
    "Number of Attributes\n",
    "First 10 columns are numeric predictive values\n",
    "Target: Column 11 is a quantitative measure of disease progression one year after baseline\n",
    "Attribute Information\n",
    " - age:     age in years <br>\n",
    "  - sex:     sex <br>\n",
    "  - bmi:     body mass index <br>\n",
    "  - bp:      average blood pressure <br>\n",
    "  - s1:      tc, total serum cholesterol <br>\n",
    "  - s2:      ldl, low-density lipoproteins <br>\n",
    "  - s3:      hdl, high-density lipoproteins <br>\n",
    "  - s4:      tch, total cholesterol / HDL <br>\n",
    "  - s5:      ltg, possibly log of serum triglycerides level <br>\n",
    "  - s6:      glu, blood sugar level <br>\n",
    "  - s7:      target, a quantitative measure of disease progression one year after baseline <br>\n",
    "<hr>\n",
    "\n",
    "Note: Each of these 10 feature variables have been mean centered and scaled by the standard deviation times n_samples (i.e. the sum of squares of each column totals 1).\n",
    "<br>\n",
    "For more information see:\n",
    "Bradley Efron, Trevor Hastie, Iain Johnstone and Robert Tibshirani (2004) \"Least Angle Regression,\" Annals of Statistics (with discussion), 407-499. (https://web.stanford.edu/~hastie/Papers/LARS/LeastAngle_2002.pdf)\n",
    "<hr>\n",
    "Source URL: https://www4.stat.ncsu.edu/~boos/var.select/diabetes.html<br>\n",
    "Data URL: https://www4.stat.ncsu.edu/~boos/var.select/diabetes.tab.txt<br>\n",
    "Note: The Data URL mentioned-above is obtained from the source URL. <br>The source URL provides detailed information about the dataset, variables and also reference links including the dataset link.\n",
    "\n",
    "##### Read in data into a dataframe then print the dataframe head.\n",
    "\n",
    "The first line uses pandas' `read_csv` function to load a dataset from a remote URL into a DataFrame named `df`. The `sep=\"\\t\"` argument specifies that the file is tab-delimited, meaning columns in the data are separated by tab characters rather than commas. This is important for correctly parsing the structure of the data.\n",
    "\n",
    "The second line, `df.head()`, displays the first five rows of the DataFrame. This is a common practice to quickly inspect the data after loading, allowing you to verify that the import worked correctly and to get an initial sense of the dataset's contents and column names. This step is especially useful when working with new or unfamiliar datasets."
   ]
  },
  {
   "cell_type": "code",
   "execution_count": 2,
   "metadata": {
    "deletable": false,
    "nbgrader": {
     "checksum": "c4e365a6ffacbd7bbbd4bceeb268fc0f",
     "grade": false,
     "grade_id": "cell-26aea6bc1fcf36d9",
     "locked": false,
     "schema_version": 1,
     "solution": true
    }
   },
   "outputs": [
    {
     "data": {
      "application/vnd.microsoft.datawrangler.viewer.v0+json": {
       "columns": [
        {
         "name": "index",
         "rawType": "int64",
         "type": "integer"
        },
        {
         "name": "AGE",
         "rawType": "int64",
         "type": "integer"
        },
        {
         "name": "SEX",
         "rawType": "int64",
         "type": "integer"
        },
        {
         "name": "BMI",
         "rawType": "float64",
         "type": "float"
        },
        {
         "name": "BP",
         "rawType": "float64",
         "type": "float"
        },
        {
         "name": "S1",
         "rawType": "int64",
         "type": "integer"
        },
        {
         "name": "S2",
         "rawType": "float64",
         "type": "float"
        },
        {
         "name": "S3",
         "rawType": "float64",
         "type": "float"
        },
        {
         "name": "S4",
         "rawType": "float64",
         "type": "float"
        },
        {
         "name": "S5",
         "rawType": "float64",
         "type": "float"
        },
        {
         "name": "S6",
         "rawType": "int64",
         "type": "integer"
        },
        {
         "name": "Y",
         "rawType": "int64",
         "type": "integer"
        }
       ],
       "ref": "f0205cad-2799-4a3d-9989-91419b4f8002",
       "rows": [
        [
         "0",
         "59",
         "2",
         "32.1",
         "101.0",
         "157",
         "93.2",
         "38.0",
         "4.0",
         "4.8598",
         "87",
         "151"
        ],
        [
         "1",
         "48",
         "1",
         "21.6",
         "87.0",
         "183",
         "103.2",
         "70.0",
         "3.0",
         "3.8918",
         "69",
         "75"
        ],
        [
         "2",
         "72",
         "2",
         "30.5",
         "93.0",
         "156",
         "93.6",
         "41.0",
         "4.0",
         "4.6728",
         "85",
         "141"
        ],
        [
         "3",
         "24",
         "1",
         "25.3",
         "84.0",
         "198",
         "131.4",
         "40.0",
         "5.0",
         "4.8903",
         "89",
         "206"
        ],
        [
         "4",
         "50",
         "1",
         "23.0",
         "101.0",
         "192",
         "125.4",
         "52.0",
         "4.0",
         "4.2905",
         "80",
         "135"
        ]
       ],
       "shape": {
        "columns": 11,
        "rows": 5
       }
      },
      "text/html": [
       "<div>\n",
       "<style scoped>\n",
       "    .dataframe tbody tr th:only-of-type {\n",
       "        vertical-align: middle;\n",
       "    }\n",
       "\n",
       "    .dataframe tbody tr th {\n",
       "        vertical-align: top;\n",
       "    }\n",
       "\n",
       "    .dataframe thead th {\n",
       "        text-align: right;\n",
       "    }\n",
       "</style>\n",
       "<table border=\"1\" class=\"dataframe\">\n",
       "  <thead>\n",
       "    <tr style=\"text-align: right;\">\n",
       "      <th></th>\n",
       "      <th>AGE</th>\n",
       "      <th>SEX</th>\n",
       "      <th>BMI</th>\n",
       "      <th>BP</th>\n",
       "      <th>S1</th>\n",
       "      <th>S2</th>\n",
       "      <th>S3</th>\n",
       "      <th>S4</th>\n",
       "      <th>S5</th>\n",
       "      <th>S6</th>\n",
       "      <th>Y</th>\n",
       "    </tr>\n",
       "  </thead>\n",
       "  <tbody>\n",
       "    <tr>\n",
       "      <th>0</th>\n",
       "      <td>59</td>\n",
       "      <td>2</td>\n",
       "      <td>32.1</td>\n",
       "      <td>101.0</td>\n",
       "      <td>157</td>\n",
       "      <td>93.2</td>\n",
       "      <td>38.0</td>\n",
       "      <td>4.0</td>\n",
       "      <td>4.8598</td>\n",
       "      <td>87</td>\n",
       "      <td>151</td>\n",
       "    </tr>\n",
       "    <tr>\n",
       "      <th>1</th>\n",
       "      <td>48</td>\n",
       "      <td>1</td>\n",
       "      <td>21.6</td>\n",
       "      <td>87.0</td>\n",
       "      <td>183</td>\n",
       "      <td>103.2</td>\n",
       "      <td>70.0</td>\n",
       "      <td>3.0</td>\n",
       "      <td>3.8918</td>\n",
       "      <td>69</td>\n",
       "      <td>75</td>\n",
       "    </tr>\n",
       "    <tr>\n",
       "      <th>2</th>\n",
       "      <td>72</td>\n",
       "      <td>2</td>\n",
       "      <td>30.5</td>\n",
       "      <td>93.0</td>\n",
       "      <td>156</td>\n",
       "      <td>93.6</td>\n",
       "      <td>41.0</td>\n",
       "      <td>4.0</td>\n",
       "      <td>4.6728</td>\n",
       "      <td>85</td>\n",
       "      <td>141</td>\n",
       "    </tr>\n",
       "    <tr>\n",
       "      <th>3</th>\n",
       "      <td>24</td>\n",
       "      <td>1</td>\n",
       "      <td>25.3</td>\n",
       "      <td>84.0</td>\n",
       "      <td>198</td>\n",
       "      <td>131.4</td>\n",
       "      <td>40.0</td>\n",
       "      <td>5.0</td>\n",
       "      <td>4.8903</td>\n",
       "      <td>89</td>\n",
       "      <td>206</td>\n",
       "    </tr>\n",
       "    <tr>\n",
       "      <th>4</th>\n",
       "      <td>50</td>\n",
       "      <td>1</td>\n",
       "      <td>23.0</td>\n",
       "      <td>101.0</td>\n",
       "      <td>192</td>\n",
       "      <td>125.4</td>\n",
       "      <td>52.0</td>\n",
       "      <td>4.0</td>\n",
       "      <td>4.2905</td>\n",
       "      <td>80</td>\n",
       "      <td>135</td>\n",
       "    </tr>\n",
       "  </tbody>\n",
       "</table>\n",
       "</div>"
      ],
      "text/plain": [
       "   AGE  SEX   BMI     BP   S1     S2    S3   S4      S5  S6    Y\n",
       "0   59    2  32.1  101.0  157   93.2  38.0  4.0  4.8598  87  151\n",
       "1   48    1  21.6   87.0  183  103.2  70.0  3.0  3.8918  69   75\n",
       "2   72    2  30.5   93.0  156   93.6  41.0  4.0  4.6728  85  141\n",
       "3   24    1  25.3   84.0  198  131.4  40.0  5.0  4.8903  89  206\n",
       "4   50    1  23.0  101.0  192  125.4  52.0  4.0  4.2905  80  135"
      ]
     },
     "execution_count": 2,
     "metadata": {},
     "output_type": "execute_result"
    }
   ],
   "source": [
    "df = pd.read_csv('https://www4.stat.ncsu.edu/~boos/var.select/diabetes.tab.txt', sep=\"\\t\")\n",
    "df.head()"
   ]
  },
  {
   "cell_type": "markdown",
   "metadata": {
    "deletable": false,
    "editable": false,
    "nbgrader": {
     "checksum": "94251dab622ae294b562c5f0d067c2b0",
     "grade": false,
     "grade_id": "cell-b171277c7933793c",
     "locked": true,
     "schema_version": 1,
     "solution": false
    }
   },
   "source": [
    "<span style=\"color: cyan;\">\n",
    "\n",
    "#### Basic field information\n",
    "\n",
    "The line `df.info()` calls a pandas DataFrame method that prints a concise summary of the DataFrame's structure. This summary includes the number of rows and columns, the column names, the data types of each column, and the number of non-null (non-missing) values in each column. Using `df.info()` is a quick way to assess the overall shape and health of your dataset. It helps you identify which columns contain missing data, what types of data are present (such as integers, floats, or objects), and whether any columns might need cleaning or conversion before analysis. This step is especially useful early in a data analysis workflow to guide further preprocessing and feature engineering."
   ]
  },
  {
   "cell_type": "code",
   "execution_count": 3,
   "metadata": {
    "deletable": false,
    "editable": false,
    "nbgrader": {
     "checksum": "9a09b978a7d7e8ffc74d4d220ebe17ce",
     "grade": false,
     "grade_id": "cell-47ce9356e934e45b",
     "locked": true,
     "schema_version": 1,
     "solution": false
    }
   },
   "outputs": [
    {
     "name": "stdout",
     "output_type": "stream",
     "text": [
      "<class 'pandas.core.frame.DataFrame'>\n",
      "RangeIndex: 442 entries, 0 to 441\n",
      "Data columns (total 11 columns):\n",
      " #   Column  Non-Null Count  Dtype  \n",
      "---  ------  --------------  -----  \n",
      " 0   AGE     442 non-null    int64  \n",
      " 1   SEX     442 non-null    int64  \n",
      " 2   BMI     442 non-null    float64\n",
      " 3   BP      442 non-null    float64\n",
      " 4   S1      442 non-null    int64  \n",
      " 5   S2      442 non-null    float64\n",
      " 6   S3      442 non-null    float64\n",
      " 7   S4      442 non-null    float64\n",
      " 8   S5      442 non-null    float64\n",
      " 9   S6      442 non-null    int64  \n",
      " 10  Y       442 non-null    int64  \n",
      "dtypes: float64(6), int64(5)\n",
      "memory usage: 38.1 KB\n"
     ]
    }
   ],
   "source": [
    "df.info()"
   ]
  },
  {
   "cell_type": "markdown",
   "metadata": {
    "deletable": false,
    "editable": false,
    "nbgrader": {
     "checksum": "939fd3bcb602cdc20af4f2b4a1d52e59",
     "grade": false,
     "grade_id": "cell-d9ace78fc39d5f71",
     "locked": true,
     "schema_version": 1,
     "solution": false
    }
   },
   "source": [
    "<span style=\"color: cyan;\">\n",
    "\n",
    "#### Convert sex to a categorical variable\n",
    "\n",
    "The first line converts the `SEX` column in the DataFrame `df` to a categorical data type using pandas' `astype('category')` method. This is useful for columns that represent discrete groups or labels, such as gender, because it allows for more efficient storage and enables category-specific operations.\n",
    "\n",
    "The second line retrieves the unique values present in the `SEX` column with `df.SEX.unique()`, and then sorts these values using `sort_values()`. This provides a sorted list of all distinct categories in the `SEX` column, which is helpful for quickly understanding the possible values and ensuring data consistency before further analysis or modeling."
   ]
  },
  {
   "cell_type": "code",
   "execution_count": 4,
   "metadata": {
    "deletable": false,
    "nbgrader": {
     "checksum": "b7723dec69e0f9fc42484114923bd26d",
     "grade": false,
     "grade_id": "cell-dd73b02e9822b368",
     "locked": false,
     "schema_version": 1,
     "solution": true
    }
   },
   "outputs": [
    {
     "data": {
      "text/plain": [
       "[1, 2]\n",
       "Categories (2, int64): [1, 2]"
      ]
     },
     "execution_count": 4,
     "metadata": {},
     "output_type": "execute_result"
    }
   ],
   "source": [
    "df['SEX'] = df['SEX'].astype('category')\n",
    "df.SEX.unique().sort_values()"
   ]
  },
  {
   "cell_type": "markdown",
   "metadata": {},
   "source": [
    "<span style=\"color: cyan;\">\n",
    "\n",
    "#### Basic field information\n",
    "\n",
    "The line `df.info()` displays a concise summary of the DataFrame `df` in pandas. This summary includes the number of rows and columns, the names and data types of each column, and the count of non-null (non-missing) values per column. \n",
    "\n",
    "Using `df.info()` is a quick way to check the overall structure and health of your dataset. It helps you identify missing data, understand which columns are categorical or numerical, and spot any potential issues before further analysis or modeling. This step is especially useful early in a data analysis workflow to guide data cleaning and preprocessing decisions."
   ]
  },
  {
   "cell_type": "code",
   "execution_count": 5,
   "metadata": {
    "deletable": false,
    "editable": false,
    "nbgrader": {
     "checksum": "32c1a83deb51b319ecaccf780a6f34e4",
     "grade": false,
     "grade_id": "cell-19ead13178ad97c4",
     "locked": true,
     "schema_version": 1,
     "solution": false
    }
   },
   "outputs": [
    {
     "name": "stdout",
     "output_type": "stream",
     "text": [
      "<class 'pandas.core.frame.DataFrame'>\n",
      "RangeIndex: 442 entries, 0 to 441\n",
      "Data columns (total 11 columns):\n",
      " #   Column  Non-Null Count  Dtype   \n",
      "---  ------  --------------  -----   \n",
      " 0   AGE     442 non-null    int64   \n",
      " 1   SEX     442 non-null    category\n",
      " 2   BMI     442 non-null    float64 \n",
      " 3   BP      442 non-null    float64 \n",
      " 4   S1      442 non-null    int64   \n",
      " 5   S2      442 non-null    float64 \n",
      " 6   S3      442 non-null    float64 \n",
      " 7   S4      442 non-null    float64 \n",
      " 8   S5      442 non-null    float64 \n",
      " 9   S6      442 non-null    int64   \n",
      " 10  Y       442 non-null    int64   \n",
      "dtypes: category(1), float64(6), int64(4)\n",
      "memory usage: 35.2 KB\n"
     ]
    }
   ],
   "source": [
    "df.info()"
   ]
  },
  {
   "cell_type": "markdown",
   "metadata": {
    "deletable": false,
    "editable": false,
    "nbgrader": {
     "checksum": "e61fa9f37383de63bdea47911e0cd21c",
     "grade": false,
     "grade_id": "cell-a979b95cb71debf1",
     "locked": true,
     "schema_version": 1,
     "solution": false
    }
   },
   "source": [
    "<span style=\"color: cyan;\">\n",
    "\n",
    "#### Next, examine the dataframe\n",
    "\n",
    "The first line uses pandas' `describe` method with the argument `include='all'` to generate a summary of the DataFrame `df`. This summary includes descriptive statistics for all columns, regardless of their data type (numeric, categorical, or object). For numeric columns, it provides metrics like count, mean, standard deviation, minimum, and maximum values. For categorical columns, it shows the number of unique values, the most frequent value, and its frequency.\n",
    "\n",
    "The second line, `display(dfDescription)`, outputs this summary in a readable format, especially useful in Jupyter notebooks. This step helps you quickly understand the distribution, central tendency, and variability of your data, as well as spot potential issues such as missing values or unexpected categories. It's a valuable tool for initial data exploration and quality assessment."
   ]
  },
  {
   "cell_type": "code",
   "execution_count": 6,
   "metadata": {
    "deletable": false,
    "nbgrader": {
     "checksum": "53cde3570a13de626d68838c7625147e",
     "grade": false,
     "grade_id": "cell-5b82d5671dedf8b3",
     "locked": false,
     "schema_version": 1,
     "solution": true
    }
   },
   "outputs": [
    {
     "data": {
      "application/vnd.microsoft.datawrangler.viewer.v0+json": {
       "columns": [
        {
         "name": "index",
         "rawType": "object",
         "type": "string"
        },
        {
         "name": "AGE",
         "rawType": "float64",
         "type": "float"
        },
        {
         "name": "SEX",
         "rawType": "float64",
         "type": "float"
        },
        {
         "name": "BMI",
         "rawType": "float64",
         "type": "float"
        },
        {
         "name": "BP",
         "rawType": "float64",
         "type": "float"
        },
        {
         "name": "S1",
         "rawType": "float64",
         "type": "float"
        },
        {
         "name": "S2",
         "rawType": "float64",
         "type": "float"
        },
        {
         "name": "S3",
         "rawType": "float64",
         "type": "float"
        },
        {
         "name": "S4",
         "rawType": "float64",
         "type": "float"
        },
        {
         "name": "S5",
         "rawType": "float64",
         "type": "float"
        },
        {
         "name": "S6",
         "rawType": "float64",
         "type": "float"
        },
        {
         "name": "Y",
         "rawType": "float64",
         "type": "float"
        }
       ],
       "ref": "1a1f4b66-ea18-46af-9b90-c8d81ec9fafd",
       "rows": [
        [
         "count",
         "442.0",
         "442.0",
         "442.0",
         "442.0",
         "442.0",
         "442.0",
         "442.0",
         "442.0",
         "442.0",
         "442.0",
         "442.0"
        ],
        [
         "unique",
         null,
         "2.0",
         null,
         null,
         null,
         null,
         null,
         null,
         null,
         null,
         null
        ],
        [
         "top",
         null,
         "1.0",
         null,
         null,
         null,
         null,
         null,
         null,
         null,
         null,
         null
        ],
        [
         "freq",
         null,
         "235.0",
         null,
         null,
         null,
         null,
         null,
         null,
         null,
         null,
         null
        ],
        [
         "mean",
         "48.51809954751131",
         null,
         "26.37579185520362",
         "94.64701357466062",
         "189.14027149321268",
         "115.43914027149322",
         "49.78846153846154",
         "4.070248868778281",
         "4.641410859728507",
         "91.26018099547511",
         "152.13348416289594"
        ],
        [
         "std",
         "13.109027822041092",
         null,
         "4.4181215606157735",
         "13.831283419782999",
         "34.60805167504306",
         "30.413080969276546",
         "12.934202154863327",
         "1.2904498966082774",
         "0.5223905610694907",
         "11.496334739334172",
         "77.09300453299109"
        ],
        [
         "min",
         "19.0",
         null,
         "18.0",
         "62.0",
         "97.0",
         "41.6",
         "22.0",
         "2.0",
         "3.2581",
         "58.0",
         "25.0"
        ],
        [
         "25%",
         "38.25",
         null,
         "23.2",
         "84.0",
         "164.25",
         "96.05",
         "40.25",
         "3.0",
         "4.2767",
         "83.25",
         "87.0"
        ],
        [
         "50%",
         "50.0",
         null,
         "25.7",
         "93.0",
         "186.0",
         "113.0",
         "48.0",
         "4.0",
         "4.62005",
         "91.0",
         "140.5"
        ],
        [
         "75%",
         "59.0",
         null,
         "29.275",
         "105.0",
         "209.75",
         "134.5",
         "57.75",
         "5.0",
         "4.9972",
         "98.0",
         "211.5"
        ],
        [
         "max",
         "79.0",
         null,
         "42.2",
         "133.0",
         "301.0",
         "242.4",
         "99.0",
         "9.09",
         "6.107",
         "124.0",
         "346.0"
        ]
       ],
       "shape": {
        "columns": 11,
        "rows": 11
       }
      },
      "text/html": [
       "<div>\n",
       "<style scoped>\n",
       "    .dataframe tbody tr th:only-of-type {\n",
       "        vertical-align: middle;\n",
       "    }\n",
       "\n",
       "    .dataframe tbody tr th {\n",
       "        vertical-align: top;\n",
       "    }\n",
       "\n",
       "    .dataframe thead th {\n",
       "        text-align: right;\n",
       "    }\n",
       "</style>\n",
       "<table border=\"1\" class=\"dataframe\">\n",
       "  <thead>\n",
       "    <tr style=\"text-align: right;\">\n",
       "      <th></th>\n",
       "      <th>AGE</th>\n",
       "      <th>SEX</th>\n",
       "      <th>BMI</th>\n",
       "      <th>BP</th>\n",
       "      <th>S1</th>\n",
       "      <th>S2</th>\n",
       "      <th>S3</th>\n",
       "      <th>S4</th>\n",
       "      <th>S5</th>\n",
       "      <th>S6</th>\n",
       "      <th>Y</th>\n",
       "    </tr>\n",
       "  </thead>\n",
       "  <tbody>\n",
       "    <tr>\n",
       "      <th>count</th>\n",
       "      <td>442.000000</td>\n",
       "      <td>442.0</td>\n",
       "      <td>442.000000</td>\n",
       "      <td>442.000000</td>\n",
       "      <td>442.000000</td>\n",
       "      <td>442.000000</td>\n",
       "      <td>442.000000</td>\n",
       "      <td>442.000000</td>\n",
       "      <td>442.000000</td>\n",
       "      <td>442.000000</td>\n",
       "      <td>442.000000</td>\n",
       "    </tr>\n",
       "    <tr>\n",
       "      <th>unique</th>\n",
       "      <td>NaN</td>\n",
       "      <td>2.0</td>\n",
       "      <td>NaN</td>\n",
       "      <td>NaN</td>\n",
       "      <td>NaN</td>\n",
       "      <td>NaN</td>\n",
       "      <td>NaN</td>\n",
       "      <td>NaN</td>\n",
       "      <td>NaN</td>\n",
       "      <td>NaN</td>\n",
       "      <td>NaN</td>\n",
       "    </tr>\n",
       "    <tr>\n",
       "      <th>top</th>\n",
       "      <td>NaN</td>\n",
       "      <td>1.0</td>\n",
       "      <td>NaN</td>\n",
       "      <td>NaN</td>\n",
       "      <td>NaN</td>\n",
       "      <td>NaN</td>\n",
       "      <td>NaN</td>\n",
       "      <td>NaN</td>\n",
       "      <td>NaN</td>\n",
       "      <td>NaN</td>\n",
       "      <td>NaN</td>\n",
       "    </tr>\n",
       "    <tr>\n",
       "      <th>freq</th>\n",
       "      <td>NaN</td>\n",
       "      <td>235.0</td>\n",
       "      <td>NaN</td>\n",
       "      <td>NaN</td>\n",
       "      <td>NaN</td>\n",
       "      <td>NaN</td>\n",
       "      <td>NaN</td>\n",
       "      <td>NaN</td>\n",
       "      <td>NaN</td>\n",
       "      <td>NaN</td>\n",
       "      <td>NaN</td>\n",
       "    </tr>\n",
       "    <tr>\n",
       "      <th>mean</th>\n",
       "      <td>48.518100</td>\n",
       "      <td>NaN</td>\n",
       "      <td>26.375792</td>\n",
       "      <td>94.647014</td>\n",
       "      <td>189.140271</td>\n",
       "      <td>115.439140</td>\n",
       "      <td>49.788462</td>\n",
       "      <td>4.070249</td>\n",
       "      <td>4.641411</td>\n",
       "      <td>91.260181</td>\n",
       "      <td>152.133484</td>\n",
       "    </tr>\n",
       "    <tr>\n",
       "      <th>std</th>\n",
       "      <td>13.109028</td>\n",
       "      <td>NaN</td>\n",
       "      <td>4.418122</td>\n",
       "      <td>13.831283</td>\n",
       "      <td>34.608052</td>\n",
       "      <td>30.413081</td>\n",
       "      <td>12.934202</td>\n",
       "      <td>1.290450</td>\n",
       "      <td>0.522391</td>\n",
       "      <td>11.496335</td>\n",
       "      <td>77.093005</td>\n",
       "    </tr>\n",
       "    <tr>\n",
       "      <th>min</th>\n",
       "      <td>19.000000</td>\n",
       "      <td>NaN</td>\n",
       "      <td>18.000000</td>\n",
       "      <td>62.000000</td>\n",
       "      <td>97.000000</td>\n",
       "      <td>41.600000</td>\n",
       "      <td>22.000000</td>\n",
       "      <td>2.000000</td>\n",
       "      <td>3.258100</td>\n",
       "      <td>58.000000</td>\n",
       "      <td>25.000000</td>\n",
       "    </tr>\n",
       "    <tr>\n",
       "      <th>25%</th>\n",
       "      <td>38.250000</td>\n",
       "      <td>NaN</td>\n",
       "      <td>23.200000</td>\n",
       "      <td>84.000000</td>\n",
       "      <td>164.250000</td>\n",
       "      <td>96.050000</td>\n",
       "      <td>40.250000</td>\n",
       "      <td>3.000000</td>\n",
       "      <td>4.276700</td>\n",
       "      <td>83.250000</td>\n",
       "      <td>87.000000</td>\n",
       "    </tr>\n",
       "    <tr>\n",
       "      <th>50%</th>\n",
       "      <td>50.000000</td>\n",
       "      <td>NaN</td>\n",
       "      <td>25.700000</td>\n",
       "      <td>93.000000</td>\n",
       "      <td>186.000000</td>\n",
       "      <td>113.000000</td>\n",
       "      <td>48.000000</td>\n",
       "      <td>4.000000</td>\n",
       "      <td>4.620050</td>\n",
       "      <td>91.000000</td>\n",
       "      <td>140.500000</td>\n",
       "    </tr>\n",
       "    <tr>\n",
       "      <th>75%</th>\n",
       "      <td>59.000000</td>\n",
       "      <td>NaN</td>\n",
       "      <td>29.275000</td>\n",
       "      <td>105.000000</td>\n",
       "      <td>209.750000</td>\n",
       "      <td>134.500000</td>\n",
       "      <td>57.750000</td>\n",
       "      <td>5.000000</td>\n",
       "      <td>4.997200</td>\n",
       "      <td>98.000000</td>\n",
       "      <td>211.500000</td>\n",
       "    </tr>\n",
       "    <tr>\n",
       "      <th>max</th>\n",
       "      <td>79.000000</td>\n",
       "      <td>NaN</td>\n",
       "      <td>42.200000</td>\n",
       "      <td>133.000000</td>\n",
       "      <td>301.000000</td>\n",
       "      <td>242.400000</td>\n",
       "      <td>99.000000</td>\n",
       "      <td>9.090000</td>\n",
       "      <td>6.107000</td>\n",
       "      <td>124.000000</td>\n",
       "      <td>346.000000</td>\n",
       "    </tr>\n",
       "  </tbody>\n",
       "</table>\n",
       "</div>"
      ],
      "text/plain": [
       "               AGE    SEX         BMI          BP          S1          S2  \\\n",
       "count   442.000000  442.0  442.000000  442.000000  442.000000  442.000000   \n",
       "unique         NaN    2.0         NaN         NaN         NaN         NaN   \n",
       "top            NaN    1.0         NaN         NaN         NaN         NaN   \n",
       "freq           NaN  235.0         NaN         NaN         NaN         NaN   \n",
       "mean     48.518100    NaN   26.375792   94.647014  189.140271  115.439140   \n",
       "std      13.109028    NaN    4.418122   13.831283   34.608052   30.413081   \n",
       "min      19.000000    NaN   18.000000   62.000000   97.000000   41.600000   \n",
       "25%      38.250000    NaN   23.200000   84.000000  164.250000   96.050000   \n",
       "50%      50.000000    NaN   25.700000   93.000000  186.000000  113.000000   \n",
       "75%      59.000000    NaN   29.275000  105.000000  209.750000  134.500000   \n",
       "max      79.000000    NaN   42.200000  133.000000  301.000000  242.400000   \n",
       "\n",
       "                S3          S4          S5          S6           Y  \n",
       "count   442.000000  442.000000  442.000000  442.000000  442.000000  \n",
       "unique         NaN         NaN         NaN         NaN         NaN  \n",
       "top            NaN         NaN         NaN         NaN         NaN  \n",
       "freq           NaN         NaN         NaN         NaN         NaN  \n",
       "mean     49.788462    4.070249    4.641411   91.260181  152.133484  \n",
       "std      12.934202    1.290450    0.522391   11.496335   77.093005  \n",
       "min      22.000000    2.000000    3.258100   58.000000   25.000000  \n",
       "25%      40.250000    3.000000    4.276700   83.250000   87.000000  \n",
       "50%      48.000000    4.000000    4.620050   91.000000  140.500000  \n",
       "75%      57.750000    5.000000    4.997200   98.000000  211.500000  \n",
       "max      99.000000    9.090000    6.107000  124.000000  346.000000  "
      ]
     },
     "metadata": {},
     "output_type": "display_data"
    }
   ],
   "source": [
    "dfDescription = df.describe(include='all')\n",
    "display(dfDescription)"
   ]
  },
  {
   "cell_type": "markdown",
   "metadata": {
    "deletable": false,
    "editable": false,
    "nbgrader": {
     "checksum": "5cb5e6e69fc1848d5bd452f7173044c5",
     "grade": false,
     "grade_id": "cell-73cf5e801da56931",
     "locked": true,
     "schema_version": 1,
     "solution": false
    }
   },
   "source": [
    "<span style=\"color: cyan;\">\n",
    "\n",
    "#### Split dataframe into train and test subsets\n",
    "\n",
    "This line uses the `train_test_split` function from scikit-learn to divide the DataFrame `df` into two subsets: `df_train` and `df_test`. The `test_size=0.3` argument specifies that 30% of the data should be allocated to the test set, while the remaining 70% goes to the training set. The `random_state=42` parameter sets a seed for the random number generator, ensuring that the split is reproducible and yields the same result each time the code is run. Why 42? It's a common convention in data science to use 42 as a random seed, often referenced in popular culture (e.g., \"The Hitchhiker's Guide to the Galaxy\") as the \"Answer to the Ultimate Question of Life, the Universe, and Everything.\"\n",
    "\n",
    "Splitting the data in this way is a standard practice in machine learning workflows. The training set is used to fit the model, while the test set is reserved for evaluating the model's performance on unseen data. This helps prevent overfitting and provides a more realistic estimate of how the model will perform in real-world scenarios."
   ]
  },
  {
   "cell_type": "code",
   "execution_count": 7,
   "metadata": {
    "deletable": false,
    "nbgrader": {
     "checksum": "93e74c11f698f7f4df2c9986e66844fe",
     "grade": false,
     "grade_id": "cell-b89432a79e197729",
     "locked": false,
     "schema_version": 1,
     "solution": true
    }
   },
   "outputs": [],
   "source": [
    "df_train, df_test = train_test_split(df, test_size=0.3, random_state=42)"
   ]
  },
  {
   "cell_type": "markdown",
   "metadata": {
    "deletable": false,
    "editable": false,
    "nbgrader": {
     "checksum": "831f89b5dc5b91585c5ab868f3be9700",
     "grade": false,
     "grade_id": "cell-29639d58cb78498f",
     "locked": true,
     "schema_version": 1,
     "solution": false
    }
   },
   "source": [
    "<span style=\"color: cyan;\">\n",
    "\n",
    "#### Fit Multilinear OLS regression model using training dataset and save the result in 'est_train' variable. \n",
    "\n",
    "This code fits a multiple linear regression model using the training subset of your data. First, `X = df_train.drop(columns=['Y'])` creates a new DataFrame `X` containing all columns except `'Y'`, which is the target variable you want to predict. The line `y = df_train['Y']` extracts the target variable into a separate Series `y`.\n",
    "\n",
    "Next, `X = sm.add_constant(X)` adds a constant (intercept) term to the predictors, which is necessary for most regression models to estimate the baseline value when all features are zero. The line `est_train = sm.OLS(y, X).fit()` fits an Ordinary Least Squares (OLS) regression model using the statsmodels (sm) library, with `y` as the dependent variable and `X` as the independent variables.\n",
    "\n",
    "Finally, `display(est_train.summary())` shows a detailed summary of the fitted model, including coefficients, statistical significance, goodness-of-fit metrics, and diagnostic information. This summary helps you interpret the model's results and assess which features are most influential in predicting the target variable."
   ]
  },
  {
   "cell_type": "code",
   "execution_count": 8,
   "metadata": {
    "deletable": false,
    "nbgrader": {
     "checksum": "e1a3c8761e9b6f7945cbd2ff25020bfb",
     "grade": false,
     "grade_id": "cell-9861908308c8fccb",
     "locked": false,
     "schema_version": 1,
     "solution": true
    }
   },
   "outputs": [
    {
     "data": {
      "text/html": [
       "<table class=\"simpletable\">\n",
       "<caption>OLS Regression Results</caption>\n",
       "<tr>\n",
       "  <th>Dep. Variable:</th>            <td>Y</td>        <th>  R-squared:         </th> <td>   0.524</td>\n",
       "</tr>\n",
       "<tr>\n",
       "  <th>Model:</th>                   <td>OLS</td>       <th>  Adj. R-squared:    </th> <td>   0.508</td>\n",
       "</tr>\n",
       "<tr>\n",
       "  <th>Method:</th>             <td>Least Squares</td>  <th>  F-statistic:       </th> <td>   32.86</td>\n",
       "</tr>\n",
       "<tr>\n",
       "  <th>Date:</th>             <td>Wed, 23 Jul 2025</td> <th>  Prob (F-statistic):</th> <td>1.37e-42</td>\n",
       "</tr>\n",
       "<tr>\n",
       "  <th>Time:</th>                 <td>12:01:49</td>     <th>  Log-Likelihood:    </th> <td> -1671.5</td>\n",
       "</tr>\n",
       "<tr>\n",
       "  <th>No. Observations:</th>      <td>   309</td>      <th>  AIC:               </th> <td>   3365.</td>\n",
       "</tr>\n",
       "<tr>\n",
       "  <th>Df Residuals:</th>          <td>   298</td>      <th>  BIC:               </th> <td>   3406.</td>\n",
       "</tr>\n",
       "<tr>\n",
       "  <th>Df Model:</th>              <td>    10</td>      <th>                     </th>     <td> </td>   \n",
       "</tr>\n",
       "<tr>\n",
       "  <th>Covariance Type:</th>      <td>nonrobust</td>    <th>                     </th>     <td> </td>   \n",
       "</tr>\n",
       "</table>\n",
       "<table class=\"simpletable\">\n",
       "<tr>\n",
       "    <td></td>       <th>coef</th>     <th>std err</th>      <th>t</th>      <th>P>|t|</th>  <th>[0.025</th>    <th>0.975]</th>  \n",
       "</tr>\n",
       "<tr>\n",
       "  <th>const</th> <td> -316.2886</td> <td>   79.210</td> <td>   -3.993</td> <td> 0.000</td> <td> -472.171</td> <td> -160.406</td>\n",
       "</tr>\n",
       "<tr>\n",
       "  <th>AGE</th>   <td>    0.1063</td> <td>    0.270</td> <td>    0.394</td> <td> 0.694</td> <td>   -0.425</td> <td>    0.637</td>\n",
       "</tr>\n",
       "<tr>\n",
       "  <th>SEX</th>   <td>  -24.9463</td> <td>    6.987</td> <td>   -3.570</td> <td> 0.000</td> <td>  -38.697</td> <td>  -11.196</td>\n",
       "</tr>\n",
       "<tr>\n",
       "  <th>BMI</th>   <td>    5.8881</td> <td>    0.877</td> <td>    6.717</td> <td> 0.000</td> <td>    4.163</td> <td>    7.613</td>\n",
       "</tr>\n",
       "<tr>\n",
       "  <th>BP</th>    <td>    1.3372</td> <td>    0.268</td> <td>    4.998</td> <td> 0.000</td> <td>    0.811</td> <td>    1.864</td>\n",
       "</tr>\n",
       "<tr>\n",
       "  <th>S1</th>    <td>   -1.2411</td> <td>    0.659</td> <td>   -1.882</td> <td> 0.061</td> <td>   -2.539</td> <td>    0.057</td>\n",
       "</tr>\n",
       "<tr>\n",
       "  <th>S2</th>    <td>    0.7935</td> <td>    0.604</td> <td>    1.314</td> <td> 0.190</td> <td>   -0.395</td> <td>    1.982</td>\n",
       "</tr>\n",
       "<tr>\n",
       "  <th>S3</th>    <td>    0.4460</td> <td>    0.904</td> <td>    0.493</td> <td> 0.622</td> <td>   -1.333</td> <td>    2.226</td>\n",
       "</tr>\n",
       "<tr>\n",
       "  <th>S4</th>    <td>   10.6288</td> <td>    7.255</td> <td>    1.465</td> <td> 0.144</td> <td>   -3.649</td> <td>   24.906</td>\n",
       "</tr>\n",
       "<tr>\n",
       "  <th>S5</th>    <td>   60.0963</td> <td>   18.952</td> <td>    3.171</td> <td> 0.002</td> <td>   22.800</td> <td>   97.393</td>\n",
       "</tr>\n",
       "<tr>\n",
       "  <th>S6</th>    <td>    0.1714</td> <td>    0.330</td> <td>    0.519</td> <td> 0.604</td> <td>   -0.479</td> <td>    0.822</td>\n",
       "</tr>\n",
       "</table>\n",
       "<table class=\"simpletable\">\n",
       "<tr>\n",
       "  <th>Omnibus:</th>       <td> 1.511</td> <th>  Durbin-Watson:     </th> <td>   1.764</td>\n",
       "</tr>\n",
       "<tr>\n",
       "  <th>Prob(Omnibus):</th> <td> 0.470</td> <th>  Jarque-Bera (JB):  </th> <td>   1.417</td>\n",
       "</tr>\n",
       "<tr>\n",
       "  <th>Skew:</th>          <td> 0.056</td> <th>  Prob(JB):          </th> <td>   0.492</td>\n",
       "</tr>\n",
       "<tr>\n",
       "  <th>Kurtosis:</th>      <td> 2.688</td> <th>  Cond. No.          </th> <td>7.03e+03</td>\n",
       "</tr>\n",
       "</table><br/><br/>Notes:<br/>[1] Standard Errors assume that the covariance matrix of the errors is correctly specified.<br/>[2] The condition number is large, 7.03e+03. This might indicate that there are<br/>strong multicollinearity or other numerical problems."
      ],
      "text/latex": [
       "\\begin{center}\n",
       "\\begin{tabular}{lclc}\n",
       "\\toprule\n",
       "\\textbf{Dep. Variable:}    &        Y         & \\textbf{  R-squared:         } &     0.524   \\\\\n",
       "\\textbf{Model:}            &       OLS        & \\textbf{  Adj. R-squared:    } &     0.508   \\\\\n",
       "\\textbf{Method:}           &  Least Squares   & \\textbf{  F-statistic:       } &     32.86   \\\\\n",
       "\\textbf{Date:}             & Wed, 23 Jul 2025 & \\textbf{  Prob (F-statistic):} &  1.37e-42   \\\\\n",
       "\\textbf{Time:}             &     12:01:49     & \\textbf{  Log-Likelihood:    } &   -1671.5   \\\\\n",
       "\\textbf{No. Observations:} &         309      & \\textbf{  AIC:               } &     3365.   \\\\\n",
       "\\textbf{Df Residuals:}     &         298      & \\textbf{  BIC:               } &     3406.   \\\\\n",
       "\\textbf{Df Model:}         &          10      & \\textbf{                     } &             \\\\\n",
       "\\textbf{Covariance Type:}  &    nonrobust     & \\textbf{                     } &             \\\\\n",
       "\\bottomrule\n",
       "\\end{tabular}\n",
       "\\begin{tabular}{lcccccc}\n",
       "               & \\textbf{coef} & \\textbf{std err} & \\textbf{t} & \\textbf{P$> |$t$|$} & \\textbf{[0.025} & \\textbf{0.975]}  \\\\\n",
       "\\midrule\n",
       "\\textbf{const} &    -316.2886  &       79.210     &    -3.993  &         0.000        &     -472.171    &     -160.406     \\\\\n",
       "\\textbf{AGE}   &       0.1063  &        0.270     &     0.394  &         0.694        &       -0.425    &        0.637     \\\\\n",
       "\\textbf{SEX}   &     -24.9463  &        6.987     &    -3.570  &         0.000        &      -38.697    &      -11.196     \\\\\n",
       "\\textbf{BMI}   &       5.8881  &        0.877     &     6.717  &         0.000        &        4.163    &        7.613     \\\\\n",
       "\\textbf{BP}    &       1.3372  &        0.268     &     4.998  &         0.000        &        0.811    &        1.864     \\\\\n",
       "\\textbf{S1}    &      -1.2411  &        0.659     &    -1.882  &         0.061        &       -2.539    &        0.057     \\\\\n",
       "\\textbf{S2}    &       0.7935  &        0.604     &     1.314  &         0.190        &       -0.395    &        1.982     \\\\\n",
       "\\textbf{S3}    &       0.4460  &        0.904     &     0.493  &         0.622        &       -1.333    &        2.226     \\\\\n",
       "\\textbf{S4}    &      10.6288  &        7.255     &     1.465  &         0.144        &       -3.649    &       24.906     \\\\\n",
       "\\textbf{S5}    &      60.0963  &       18.952     &     3.171  &         0.002        &       22.800    &       97.393     \\\\\n",
       "\\textbf{S6}    &       0.1714  &        0.330     &     0.519  &         0.604        &       -0.479    &        0.822     \\\\\n",
       "\\bottomrule\n",
       "\\end{tabular}\n",
       "\\begin{tabular}{lclc}\n",
       "\\textbf{Omnibus:}       &  1.511 & \\textbf{  Durbin-Watson:     } &    1.764  \\\\\n",
       "\\textbf{Prob(Omnibus):} &  0.470 & \\textbf{  Jarque-Bera (JB):  } &    1.417  \\\\\n",
       "\\textbf{Skew:}          &  0.056 & \\textbf{  Prob(JB):          } &    0.492  \\\\\n",
       "\\textbf{Kurtosis:}      &  2.688 & \\textbf{  Cond. No.          } & 7.03e+03  \\\\\n",
       "\\bottomrule\n",
       "\\end{tabular}\n",
       "%\\caption{OLS Regression Results}\n",
       "\\end{center}\n",
       "\n",
       "Notes: \\newline\n",
       " [1] Standard Errors assume that the covariance matrix of the errors is correctly specified. \\newline\n",
       " [2] The condition number is large, 7.03e+03. This might indicate that there are \\newline\n",
       " strong multicollinearity or other numerical problems."
      ],
      "text/plain": [
       "<class 'statsmodels.iolib.summary.Summary'>\n",
       "\"\"\"\n",
       "                            OLS Regression Results                            \n",
       "==============================================================================\n",
       "Dep. Variable:                      Y   R-squared:                       0.524\n",
       "Model:                            OLS   Adj. R-squared:                  0.508\n",
       "Method:                 Least Squares   F-statistic:                     32.86\n",
       "Date:                Wed, 23 Jul 2025   Prob (F-statistic):           1.37e-42\n",
       "Time:                        12:01:49   Log-Likelihood:                -1671.5\n",
       "No. Observations:                 309   AIC:                             3365.\n",
       "Df Residuals:                     298   BIC:                             3406.\n",
       "Df Model:                          10                                         \n",
       "Covariance Type:            nonrobust                                         \n",
       "==============================================================================\n",
       "                 coef    std err          t      P>|t|      [0.025      0.975]\n",
       "------------------------------------------------------------------------------\n",
       "const       -316.2886     79.210     -3.993      0.000    -472.171    -160.406\n",
       "AGE            0.1063      0.270      0.394      0.694      -0.425       0.637\n",
       "SEX          -24.9463      6.987     -3.570      0.000     -38.697     -11.196\n",
       "BMI            5.8881      0.877      6.717      0.000       4.163       7.613\n",
       "BP             1.3372      0.268      4.998      0.000       0.811       1.864\n",
       "S1            -1.2411      0.659     -1.882      0.061      -2.539       0.057\n",
       "S2             0.7935      0.604      1.314      0.190      -0.395       1.982\n",
       "S3             0.4460      0.904      0.493      0.622      -1.333       2.226\n",
       "S4            10.6288      7.255      1.465      0.144      -3.649      24.906\n",
       "S5            60.0963     18.952      3.171      0.002      22.800      97.393\n",
       "S6             0.1714      0.330      0.519      0.604      -0.479       0.822\n",
       "==============================================================================\n",
       "Omnibus:                        1.511   Durbin-Watson:                   1.764\n",
       "Prob(Omnibus):                  0.470   Jarque-Bera (JB):                1.417\n",
       "Skew:                           0.056   Prob(JB):                        0.492\n",
       "Kurtosis:                       2.688   Cond. No.                     7.03e+03\n",
       "==============================================================================\n",
       "\n",
       "Notes:\n",
       "[1] Standard Errors assume that the covariance matrix of the errors is correctly specified.\n",
       "[2] The condition number is large, 7.03e+03. This might indicate that there are\n",
       "strong multicollinearity or other numerical problems.\n",
       "\"\"\""
      ]
     },
     "metadata": {},
     "output_type": "display_data"
    }
   ],
   "source": [
    "X         = df_train.drop(columns=['Y'])\n",
    "y         = df_train['Y']\n",
    "X         = sm.add_constant(X)\n",
    "est_train = sm.OLS(y, X).fit()\n",
    "display(est_train.summary())"
   ]
  },
  {
   "cell_type": "markdown",
   "metadata": {
    "deletable": false,
    "editable": false,
    "nbgrader": {
     "checksum": "4b3aff49c0569a462142101aaa2c15ae",
     "grade": false,
     "grade_id": "cell-e32461645a118ac1",
     "locked": true,
     "schema_version": 1,
     "solution": false
    }
   },
   "source": [
    "<span style=\"color: cyan;\">\n",
    "\n",
    "#### Extract non significant coef (p< .05: SEX + BMI + S3 + S5), rerun model.\n",
    "\n",
    "The first line creates a new DataFrame `X` by dropping the columns `'SEX'`, `'BMI'`, `'S3'`, and `'S5'` from the original DataFrame `df`. This is typically done to exclude these features from further analysis or modeling, possibly because they were found to be less significant in previous studies.\n",
    "\n",
    "The second line splits the DataFrame `df` into training and test subsets using scikit-learn's `train_test_split` function. Here, 30% of the data is allocated to the test set and 70% to the training set, with `random_state=42` ensuring reproducibility.\n",
    "\n",
    "The third line fits a multiple linear regression model using the statsmodels formula API. The formula `\"Y ~ SEX + BMI + S3 + S5\"` specifies that the target variable `Y` should be predicted using the features `'SEX'`, `'BMI'`, `'S3'`, and `'S5'` from the training data. The `.fit()` method trains the model.\n",
    "\n",
    "Finally, `display(est_train.summary())` outputs a detailed summary of the fitted regression model, including coefficients, statistical significance, and model diagnostics. This helps you evaluate the impact of the selected features on the target variable and assess the model's overall performance."
   ]
  },
  {
   "cell_type": "code",
   "execution_count": 9,
   "metadata": {
    "deletable": false,
    "nbgrader": {
     "checksum": "40e83aab97cd0a8886c8b90c6a03e362",
     "grade": false,
     "grade_id": "cell-55c4cc66a08cb317",
     "locked": false,
     "schema_version": 1,
     "solution": true
    }
   },
   "outputs": [
    {
     "data": {
      "text/html": [
       "<table class=\"simpletable\">\n",
       "<caption>OLS Regression Results</caption>\n",
       "<tr>\n",
       "  <th>Dep. Variable:</th>            <td>Y</td>        <th>  R-squared:         </th> <td>   0.470</td>\n",
       "</tr>\n",
       "<tr>\n",
       "  <th>Model:</th>                   <td>OLS</td>       <th>  Adj. R-squared:    </th> <td>   0.463</td>\n",
       "</tr>\n",
       "<tr>\n",
       "  <th>Method:</th>             <td>Least Squares</td>  <th>  F-statistic:       </th> <td>   67.34</td>\n",
       "</tr>\n",
       "<tr>\n",
       "  <th>Date:</th>             <td>Wed, 23 Jul 2025</td> <th>  Prob (F-statistic):</th> <td>9.47e-41</td>\n",
       "</tr>\n",
       "<tr>\n",
       "  <th>Time:</th>                 <td>12:01:49</td>     <th>  Log-Likelihood:    </th> <td> -1688.3</td>\n",
       "</tr>\n",
       "<tr>\n",
       "  <th>No. Observations:</th>      <td>   309</td>      <th>  AIC:               </th> <td>   3387.</td>\n",
       "</tr>\n",
       "<tr>\n",
       "  <th>Df Residuals:</th>          <td>   304</td>      <th>  BIC:               </th> <td>   3405.</td>\n",
       "</tr>\n",
       "<tr>\n",
       "  <th>Df Model:</th>              <td>     4</td>      <th>                     </th>     <td> </td>   \n",
       "</tr>\n",
       "<tr>\n",
       "  <th>Covariance Type:</th>      <td>nonrobust</td>    <th>                     </th>     <td> </td>   \n",
       "</tr>\n",
       "</table>\n",
       "<table class=\"simpletable\">\n",
       "<tr>\n",
       "      <td></td>         <th>coef</th>     <th>std err</th>      <th>t</th>      <th>P>|t|</th>  <th>[0.025</th>    <th>0.975]</th>  \n",
       "</tr>\n",
       "<tr>\n",
       "  <th>Intercept</th> <td> -176.6489</td> <td>   42.698</td> <td>   -4.137</td> <td> 0.000</td> <td> -260.669</td> <td>  -92.629</td>\n",
       "</tr>\n",
       "<tr>\n",
       "  <th>SEX[T.2]</th>  <td>  -17.1853</td> <td>    7.019</td> <td>   -2.448</td> <td> 0.015</td> <td>  -30.998</td> <td>   -3.372</td>\n",
       "</tr>\n",
       "<tr>\n",
       "  <th>BMI</th>       <td>    7.3777</td> <td>    0.852</td> <td>    8.659</td> <td> 0.000</td> <td>    5.701</td> <td>    9.054</td>\n",
       "</tr>\n",
       "<tr>\n",
       "  <th>S3</th>        <td>   -1.0659</td> <td>    0.302</td> <td>   -3.526</td> <td> 0.000</td> <td>   -1.661</td> <td>   -0.471</td>\n",
       "</tr>\n",
       "<tr>\n",
       "  <th>S5</th>        <td>   41.8242</td> <td>    7.239</td> <td>    5.778</td> <td> 0.000</td> <td>   27.580</td> <td>   56.069</td>\n",
       "</tr>\n",
       "</table>\n",
       "<table class=\"simpletable\">\n",
       "<tr>\n",
       "  <th>Omnibus:</th>       <td> 2.800</td> <th>  Durbin-Watson:     </th> <td>   1.837</td>\n",
       "</tr>\n",
       "<tr>\n",
       "  <th>Prob(Omnibus):</th> <td> 0.247</td> <th>  Jarque-Bera (JB):  </th> <td>   2.385</td>\n",
       "</tr>\n",
       "<tr>\n",
       "  <th>Skew:</th>          <td> 0.109</td> <th>  Prob(JB):          </th> <td>   0.303</td>\n",
       "</tr>\n",
       "<tr>\n",
       "  <th>Kurtosis:</th>      <td> 2.629</td> <th>  Cond. No.          </th> <td>    756.</td>\n",
       "</tr>\n",
       "</table><br/><br/>Notes:<br/>[1] Standard Errors assume that the covariance matrix of the errors is correctly specified."
      ],
      "text/latex": [
       "\\begin{center}\n",
       "\\begin{tabular}{lclc}\n",
       "\\toprule\n",
       "\\textbf{Dep. Variable:}    &        Y         & \\textbf{  R-squared:         } &     0.470   \\\\\n",
       "\\textbf{Model:}            &       OLS        & \\textbf{  Adj. R-squared:    } &     0.463   \\\\\n",
       "\\textbf{Method:}           &  Least Squares   & \\textbf{  F-statistic:       } &     67.34   \\\\\n",
       "\\textbf{Date:}             & Wed, 23 Jul 2025 & \\textbf{  Prob (F-statistic):} &  9.47e-41   \\\\\n",
       "\\textbf{Time:}             &     12:01:49     & \\textbf{  Log-Likelihood:    } &   -1688.3   \\\\\n",
       "\\textbf{No. Observations:} &         309      & \\textbf{  AIC:               } &     3387.   \\\\\n",
       "\\textbf{Df Residuals:}     &         304      & \\textbf{  BIC:               } &     3405.   \\\\\n",
       "\\textbf{Df Model:}         &           4      & \\textbf{                     } &             \\\\\n",
       "\\textbf{Covariance Type:}  &    nonrobust     & \\textbf{                     } &             \\\\\n",
       "\\bottomrule\n",
       "\\end{tabular}\n",
       "\\begin{tabular}{lcccccc}\n",
       "                   & \\textbf{coef} & \\textbf{std err} & \\textbf{t} & \\textbf{P$> |$t$|$} & \\textbf{[0.025} & \\textbf{0.975]}  \\\\\n",
       "\\midrule\n",
       "\\textbf{Intercept} &    -176.6489  &       42.698     &    -4.137  &         0.000        &     -260.669    &      -92.629     \\\\\n",
       "\\textbf{SEX[T.2]}  &     -17.1853  &        7.019     &    -2.448  &         0.015        &      -30.998    &       -3.372     \\\\\n",
       "\\textbf{BMI}       &       7.3777  &        0.852     &     8.659  &         0.000        &        5.701    &        9.054     \\\\\n",
       "\\textbf{S3}        &      -1.0659  &        0.302     &    -3.526  &         0.000        &       -1.661    &       -0.471     \\\\\n",
       "\\textbf{S5}        &      41.8242  &        7.239     &     5.778  &         0.000        &       27.580    &       56.069     \\\\\n",
       "\\bottomrule\n",
       "\\end{tabular}\n",
       "\\begin{tabular}{lclc}\n",
       "\\textbf{Omnibus:}       &  2.800 & \\textbf{  Durbin-Watson:     } &    1.837  \\\\\n",
       "\\textbf{Prob(Omnibus):} &  0.247 & \\textbf{  Jarque-Bera (JB):  } &    2.385  \\\\\n",
       "\\textbf{Skew:}          &  0.109 & \\textbf{  Prob(JB):          } &    0.303  \\\\\n",
       "\\textbf{Kurtosis:}      &  2.629 & \\textbf{  Cond. No.          } &     756.  \\\\\n",
       "\\bottomrule\n",
       "\\end{tabular}\n",
       "%\\caption{OLS Regression Results}\n",
       "\\end{center}\n",
       "\n",
       "Notes: \\newline\n",
       " [1] Standard Errors assume that the covariance matrix of the errors is correctly specified."
      ],
      "text/plain": [
       "<class 'statsmodels.iolib.summary.Summary'>\n",
       "\"\"\"\n",
       "                            OLS Regression Results                            \n",
       "==============================================================================\n",
       "Dep. Variable:                      Y   R-squared:                       0.470\n",
       "Model:                            OLS   Adj. R-squared:                  0.463\n",
       "Method:                 Least Squares   F-statistic:                     67.34\n",
       "Date:                Wed, 23 Jul 2025   Prob (F-statistic):           9.47e-41\n",
       "Time:                        12:01:49   Log-Likelihood:                -1688.3\n",
       "No. Observations:                 309   AIC:                             3387.\n",
       "Df Residuals:                     304   BIC:                             3405.\n",
       "Df Model:                           4                                         \n",
       "Covariance Type:            nonrobust                                         \n",
       "==============================================================================\n",
       "                 coef    std err          t      P>|t|      [0.025      0.975]\n",
       "------------------------------------------------------------------------------\n",
       "Intercept   -176.6489     42.698     -4.137      0.000    -260.669     -92.629\n",
       "SEX[T.2]     -17.1853      7.019     -2.448      0.015     -30.998      -3.372\n",
       "BMI            7.3777      0.852      8.659      0.000       5.701       9.054\n",
       "S3            -1.0659      0.302     -3.526      0.000      -1.661      -0.471\n",
       "S5            41.8242      7.239      5.778      0.000      27.580      56.069\n",
       "==============================================================================\n",
       "Omnibus:                        2.800   Durbin-Watson:                   1.837\n",
       "Prob(Omnibus):                  0.247   Jarque-Bera (JB):                2.385\n",
       "Skew:                           0.109   Prob(JB):                        0.303\n",
       "Kurtosis:                       2.629   Cond. No.                         756.\n",
       "==============================================================================\n",
       "\n",
       "Notes:\n",
       "[1] Standard Errors assume that the covariance matrix of the errors is correctly specified.\n",
       "\"\"\""
      ]
     },
     "metadata": {},
     "output_type": "display_data"
    }
   ],
   "source": [
    "X                 = df.drop(columns=['SEX', 'BMI', 'S3', 'S5'])\n",
    "df_train, df_test = train_test_split(df, test_size=0.3, random_state=42)\n",
    "est_train         = ols(formula=\"Y ~  SEX + BMI  + S3 + S5 \", data=df_train).fit()\n",
    "display(est_train.summary())"
   ]
  },
  {
   "cell_type": "markdown",
   "metadata": {
    "deletable": false,
    "editable": false,
    "nbgrader": {
     "checksum": "224ef207a05ea07615f11e9a23ab6ee6",
     "grade": false,
     "grade_id": "cell-40018aca656cdf20",
     "locked": true,
     "schema_version": 1,
     "solution": false
    }
   },
   "source": [
    "<span style=\"color: cyan;\">\n",
    "\n",
    "#### How well does it do on the test data? Lets use the model we trained on the training data to make predictions on the test data and then measure the R^2\n",
    "\n",
    "The first line uses the trained regression model (`est_train`) to make predictions on the test dataset (`df_test`). The `predict` method generates predicted values for the target variable based on the features in the test set.\n",
    "\n",
    "The second line calculates the R-squared (coefficient of determination) score using scikit-learn's `r2_score` function. This metric compares the actual target values (`df_test['Y']`) to the predicted values (`test_pred`) and quantifies how well the model explains the variance in the test data. An R-squared value closer to 1 indicates better predictive performance.\n",
    "\n",
    "Finally, `display('OOS R-squared: ' + str(r2))` outputs the out-of-sample R-squared value, providing a clear summary of the model's performance on unseen data. This step is essential for evaluating how well the model generalizes beyond the training set."
   ]
  },
  {
   "cell_type": "code",
   "execution_count": 10,
   "metadata": {
    "deletable": false,
    "nbgrader": {
     "checksum": "0ec68a2fe77af8921bee8542133cd3aa",
     "grade": false,
     "grade_id": "cell-9cef15063e405f7b",
     "locked": false,
     "schema_version": 1,
     "solution": true
    }
   },
   "outputs": [
    {
     "data": {
      "text/plain": [
       "'OOS R-squared: 0.4851185328484513'"
      ]
     },
     "metadata": {},
     "output_type": "display_data"
    }
   ],
   "source": [
    "test_pred = est_train.predict(df_test)\n",
    "r2        = r2_score(df_test['Y'], test_pred)\n",
    "display('OOS R-squared: ' + str(r2))"
   ]
  },
  {
   "cell_type": "markdown",
   "metadata": {},
   "source": [
    "<span style=\"color: cyan;\">\n",
    "\n",
    "#### Testing the model with new unseen data\n",
    "\n",
    "\n",
    "This code demonstrates how to use a trained regression model to make predictions on new, unseen data. First, a new DataFrame `new_data` is created with specific values for the features `'SEX'`, `'BMI'`, `'S3'`, and `'S5'`. These values represent a hypothetical patient or observation for which you want to predict the target variable.\n",
    "\n",
    "Next, `sm.add_constant(new_data)` adds an intercept term to the new data, ensuring it matches the format expected by the regression model. The line `prediction = est_train.predict(new_data)` uses the trained model (`est_train`) to generate a prediction for the target variable based on the provided feature values.\n",
    "\n",
    "Finally, `display('Prediction for new data: ' + str(prediction.iloc[0]))` outputs the predicted value, allowing you to see the model's estimate for this new observation. This process is useful for applying your model to real-world scenarios or testing its behavior with different input values."
   ]
  },
  {
   "cell_type": "code",
   "execution_count": 11,
   "metadata": {},
   "outputs": [
    {
     "data": {
      "text/plain": [
       "'Prediction for new data: 49.31753104199821'"
      ]
     },
     "metadata": {},
     "output_type": "display_data"
    },
    {
     "data": {
      "text/plain": [
       "'Prediction for new data: 83.77587802403008'"
      ]
     },
     "metadata": {},
     "output_type": "display_data"
    }
   ],
   "source": [
    "new_data = pd.DataFrame({\n",
    "    'SEX': [1],   \n",
    "    'BMI': [29.0],\n",
    "    'S3': [0.5],  \n",
    "    'S5': [0.3]  \n",
    "})\n",
    "new_data   = sm.add_constant(new_data)\n",
    "prediction = est_train.predict(new_data)\n",
    "# Display the prediction for the new data, which is the first new data point, and it is very low.\n",
    "display('Prediction for new data: ' + str(prediction.iloc[0]))\n",
    "new_data1 = pd.DataFrame({\n",
    "    'SEX': [2],   \n",
    "    'BMI': [36.0],\n",
    "    'S3': [0.5], \n",
    "    'S5': [0.3]\n",
    "})\n",
    "new_data1   = sm.add_constant(new_data1)\n",
    "prediction1 = est_train.predict(new_data1)\n",
    "# Display the prediction for the new data, which is the second new data point, and it is very high.\n",
    "display('Prediction for new data: ' + str(prediction1.iloc[0]))"
   ]
  }
 ],
 "metadata": {
  "kernelspec": {
   "display_name": "tf-env",
   "language": "python",
   "name": "python3"
  },
  "language_info": {
   "codemirror_mode": {
    "name": "ipython",
    "version": 3
   },
   "file_extension": ".py",
   "mimetype": "text/x-python",
   "name": "python",
   "nbconvert_exporter": "python",
   "pygments_lexer": "ipython3",
   "version": "3.11.13"
  }
 },
 "nbformat": 4,
 "nbformat_minor": 4
}

{
 "cells": [
  {
   "cell_type": "markdown",
   "metadata": {},
   "source": [
    "<span style=\"color: cyan;\">\n",
    "\n",
    "#### ```Portfolio-Assignment-7-1```\n",
    "\n",
    "This notebook demonstrates how to implement a collaborative filtering model using matrix factorization techniques.\n",
    "\n",
    "The block of code contains commented-out commands intended for use in Google Colab, a cloud-based Jupyter notebook environment. These commands are used to manage the installation and upgrading of necessary Python libraries. Here's a detailed explanation of each command:\n",
    "\n",
    "1. `#%pip uninstall -y numpy pandas scipy scikit-learn imbalanced-learn`: This command uninstalls the specified libraries (`numpy`, `pandas`, `scipy`, `scikit-learn`, and `imbalanced-learn`) without prompting for confirmation (`-y` flag). This might be useful if you need to remove existing versions before installing specific versions.\n",
    "\n",
    "2. `#%pip install numpy pandas scipy scikit-learn imbalanced-learn`: This command installs the specified libraries. These libraries are essential for data manipulation (`numpy`, `pandas`), scientific computing (`scipy`), machine learning (`scikit-learn`), and handling imbalanced datasets (`imbalanced-learn`).\n",
    "\n",
    "3. `#%pip install seaborn`: This command installs the `seaborn` library, which is used for statistical data visualization.\n",
    "\n",
    "4. `#%pip install skimpy`: This command installs the `skimpy` library, which is used for quick and easy data exploration.\n",
    "\n",
    "5. `#%pip install --upgrade numpy scikit-learn`: This command upgrades the `numpy` and `scikit-learn` libraries to their latest versions.\n",
    "\n",
    "6. `#from google.colab import drive`: This command imports the `drive` module from `google.colab`, which is used to interact with Google Drive.\n",
    "\n",
    "7. `#drive.mount('/content/drive')`: This command mounts Google Drive to the Colab environment, allowing you to access files stored in your Google Drive account.\n",
    "\n",
    "These commands are commented out, indicating that they are not currently being executed. They are useful for setting up the environment when running the notebook in Google Colab, ensuring that all required libraries are installed and up-to-date."
   ]
  },
  {
   "cell_type": "code",
   "execution_count": 1,
   "metadata": {
    "colab": {
     "base_uri": "https://localhost:8080/"
    },
    "executionInfo": {
     "elapsed": 34385,
     "status": "ok",
     "timestamp": 1741203215010,
     "user": {
      "displayName": "Jose Eneas Da Silva Maria",
      "userId": "05457363209835800857"
     },
     "user_tz": 300
    },
    "id": "rOPsaJbaSOv2",
    "outputId": "226e4846-4ebd-40ea-e48c-422da8f7f1a3"
   },
   "outputs": [],
   "source": [
    "#%pip uninstall -y numpy pandas scipy scikit-learn imbalanced-learn\n",
    "#%pip install numpy pandas scipy scikit-learn imbalanced-learn\n",
    "#%pip install seaborn\n",
    "#%pip install skimpy\n",
    "#%pip install --upgrade numpy scikit-learn\n",
    "#%pip install imblearn\n",
    "#%pip install openpyxl\n",
    "#from google.colab import drive\n",
    "#drive.mount('/content/drive')"
   ]
  },
  {
   "cell_type": "markdown",
   "metadata": {},
   "source": [
    "<span style=\"color: cyan;\">\n",
    "\n",
    "This code imports various libraries and modules that are essential for performing data analysis, preprocessing, and logistic regression modeling in Python. Here's a breakdown of each import and its purpose:\n",
    "\n",
    "1. `warnings`: This module is used to manage warnings in Python. It allows you to control whether warnings are supressed, displayed, or turned into errors.\n",
    "\n",
    "2. `pandas as pd`: Pandas is a powerful data manipulation and analysis library. It provides data structures like DataFrames, which are essential for handling and analyzing structured data.\n",
    "\n",
    "3. `matplotlib.pyplot as plt`: Matplotlib is a plotting library, and `pyplot` is a module within it that provides a MATLAB-like interface for creating static, interactive, and animated visualizations in Python.\n",
    "\n",
    "4. `seaborn as sns`: Seaborn is a statistical data visualization library based on Matplotlib. It provides a high-level interface for drawing attractive and informative statistical graphics.\n",
    "\n",
    "5. `skimpy import skim`: Skimpy is a library used for quick and easy data exploration. The `skim` function provides a summary of a DataFrame, similar to the `skimr` package in R.\n",
    "\n",
    "6. `numpy as np`: NumPy is a fundamental package for scientific computing in Python. It provides support for arrays, matrices, and many mathematical functions.\n",
    "\n",
    "7. `from sklearn.preprocessing import StandardScaler`: This module from scikit-learn is used for feature scaling. `StandardScaler` standardizes features by removing the mean and scaling to unit variance.\n",
    "\n",
    "8. `from imblearn.over_sampling import SMOTE`: SMOTE (Synthetic Minority Over-sampling Technique) is used to handle imbalanced datasets by generating synthetic samples for the minority class.\n",
    "\n",
    "9. `import statsmodels.api as sm`: Statsmodels is a library for estimating and testing statistical models. It provides classes and functions for many statistical models, including linear regression, logistic regression, and time series analysis.\n",
    "\n",
    "10. `from sklearn.model_selection import train_test_split`: This function from scikit-learn is used to split a dataset into training and testing sets.\n",
    "\n",
    "11. `from statsmodels.tools.sm_exceptions import ConvergenceWarning`: This import is used to handle convergence warnings that may arise during the fitting of statistical models in statsmodels.\n",
    "\n",
    "12. `from sklearn.linear_model import LogisticRegression`: This module from scikit-learn provides the `LogisticRegression` class, which is used to perform logistic regression.\n",
    "\n",
    "13. `from sklearn.metrics import accuracy_score, confusion_matrix`: These functions from scikit-learn are used to evaluate the performance of a classification model. `accuracy_score` calculates the accuracy of the model, and `confusion_matrix` provides a summary of prediction results."
   ]
  },
  {
   "cell_type": "code",
   "execution_count": null,
   "metadata": {},
   "outputs": [],
   "source": [
    "import warnings  \n",
    "import pandas                          as pd \n",
    "import matplotlib.pyplot               as plt \n",
    "import seaborn                         as sns \n",
    "from   skimpy                          import skim \n",
    "import numpy                           as     np \n",
    "from   imblearn.over_sampling          import SMOTE \n",
    "from   sklearn.model_selection         import train_test_split \n",
    "from   sklearn.linear_model            import LogisticRegression \n",
    "from   sklearn.metrics                 import accuracy_score, confusion_matrix \n",
    "from   sklearn.preprocessing           import StandardScaler \n",
    "import statsmodels.api                 as     sm \n",
    "from   statsmodels.tools.sm_exceptions import ConvergenceWarning\n",
    "np.seterr(divide='ignore', invalid='ignore')\n",
    "np.seterr(over='ignore', invalid='ignore')\n",
    "warnings.simplefilter('ignore', ConvergenceWarning)\n",
    "warnings.filterwarnings('ignore')"
   ]
  },
  {
   "cell_type": "markdown",
   "metadata": {},
   "source": [
    "<span style=\"color: cyan;\">\n",
    "\n",
    "This code performs several key tasks related to data loading and initial exploration using the Pandas library in Python.\n",
    "\n",
    "First, the code reads data from an Excel file named 'Logit-Data.xlsx' into a DataFrame `df` using the `pd.read_excel` function. This function is highly versatile and can handle various parameters to customize the data reading process, but in this case, it is used with its default settings.\n",
    "\n",
    "Next, the code adjusts several display options to enhance the readability of the DataFrame when printed. The `pd.set_option` function is used to:\n",
    "- Display all columns of the DataFrame by setting `display.max_columns` to `None`.\n",
    "- Set the display width to 1000 characters for better readability by adjusting `display.width`.\n",
    "- Limit the maximum column width to 50 characters using `display.max_colwidth`, ensuring that long text entries do not overwhelm the display.\n",
    "- Adjust the maximum number of rows to show to 20 using `display.max_rows`, which helps in managing the output size when printing large DataFrames.\n",
    "\n",
    "After setting these display options, the code verifies the data by printing the first and last few rows of the DataFrame and generating summary statistics:\n",
    "- `df.head(5)` prints the first 5 rows of the DataFrame, providing a quick look at the beginning of the dataset.\n",
    "- `df.tail(5)` prints the last 5 rows of the DataFrame, offering a glimpse of the end of the dataset.\n",
    "- `df.describe()` generates and prints summary statistics for the numerical columns in the DataFrame, including count, mean, standard deviation, minimum, maximum, and specified percentiles (25th, 50th, and 75th).\n",
    "\n",
    "These steps are crucial for initial data exploration, allowing you to understand the structure, content, and basic statistics of the dataset before proceeding with further analysis or modeling."
   ]
  },
  {
   "cell_type": "code",
   "execution_count": 3,
   "metadata": {
    "colab": {
     "base_uri": "https://localhost:8080/",
     "height": 391
    },
    "executionInfo": {
     "elapsed": 4318,
     "status": "error",
     "timestamp": 1741203669863,
     "user": {
      "displayName": "Jose Eneas Da Silva Maria",
      "userId": "05457363209835800857"
     },
     "user_tz": 300
    },
    "id": "MyTU2KPzqMPs",
    "outputId": "a481cb37-8b78-460d-ed0d-e2a9bd3c0d7f"
   },
   "outputs": [
    {
     "data": {
      "application/vnd.microsoft.datawrangler.viewer.v0+json": {
       "columns": [
        {
         "name": "index",
         "rawType": "int64",
         "type": "integer"
        },
        {
         "name": "default",
         "rawType": "int64",
         "type": "integer"
        },
        {
         "name": "installment",
         "rawType": "int64",
         "type": "integer"
        },
        {
         "name": "log_income",
         "rawType": "float64",
         "type": "float"
        },
        {
         "name": "fico_score",
         "rawType": "int64",
         "type": "integer"
        },
        {
         "name": "rev_balance",
         "rawType": "float64",
         "type": "float"
        },
        {
         "name": "inquiries",
         "rawType": "int64",
         "type": "integer"
        },
        {
         "name": "records",
         "rawType": "int64",
         "type": "integer"
        }
       ],
       "ref": "28a915d1-4992-4b45-9c6b-6987765fa2c7",
       "rows": [
        [
         "0",
         "0",
         "829",
         "4.93",
         "737",
         "28.85",
         "0",
         "0"
        ],
        [
         "1",
         "0",
         "228",
         "4.81",
         "707",
         "33.62",
         "0",
         "0"
        ],
        [
         "2",
         "0",
         "367",
         "4.51",
         "682",
         "3.51",
         "1",
         "0"
        ],
        [
         "3",
         "0",
         "162",
         "4.93",
         "712",
         "33.67",
         "1",
         "0"
        ],
        [
         "4",
         "0",
         "103",
         "4.91",
         "667",
         "4.74",
         "0",
         "0"
        ]
       ],
       "shape": {
        "columns": 7,
        "rows": 5
       }
      },
      "text/html": [
       "<div>\n",
       "<style scoped>\n",
       "    .dataframe tbody tr th:only-of-type {\n",
       "        vertical-align: middle;\n",
       "    }\n",
       "\n",
       "    .dataframe tbody tr th {\n",
       "        vertical-align: top;\n",
       "    }\n",
       "\n",
       "    .dataframe thead th {\n",
       "        text-align: right;\n",
       "    }\n",
       "</style>\n",
       "<table border=\"1\" class=\"dataframe\">\n",
       "  <thead>\n",
       "    <tr style=\"text-align: right;\">\n",
       "      <th></th>\n",
       "      <th>default</th>\n",
       "      <th>installment</th>\n",
       "      <th>log_income</th>\n",
       "      <th>fico_score</th>\n",
       "      <th>rev_balance</th>\n",
       "      <th>inquiries</th>\n",
       "      <th>records</th>\n",
       "    </tr>\n",
       "  </thead>\n",
       "  <tbody>\n",
       "    <tr>\n",
       "      <th>0</th>\n",
       "      <td>0</td>\n",
       "      <td>829</td>\n",
       "      <td>4.93</td>\n",
       "      <td>737</td>\n",
       "      <td>28.85</td>\n",
       "      <td>0</td>\n",
       "      <td>0</td>\n",
       "    </tr>\n",
       "    <tr>\n",
       "      <th>1</th>\n",
       "      <td>0</td>\n",
       "      <td>228</td>\n",
       "      <td>4.81</td>\n",
       "      <td>707</td>\n",
       "      <td>33.62</td>\n",
       "      <td>0</td>\n",
       "      <td>0</td>\n",
       "    </tr>\n",
       "    <tr>\n",
       "      <th>2</th>\n",
       "      <td>0</td>\n",
       "      <td>367</td>\n",
       "      <td>4.51</td>\n",
       "      <td>682</td>\n",
       "      <td>3.51</td>\n",
       "      <td>1</td>\n",
       "      <td>0</td>\n",
       "    </tr>\n",
       "    <tr>\n",
       "      <th>3</th>\n",
       "      <td>0</td>\n",
       "      <td>162</td>\n",
       "      <td>4.93</td>\n",
       "      <td>712</td>\n",
       "      <td>33.67</td>\n",
       "      <td>1</td>\n",
       "      <td>0</td>\n",
       "    </tr>\n",
       "    <tr>\n",
       "      <th>4</th>\n",
       "      <td>0</td>\n",
       "      <td>103</td>\n",
       "      <td>4.91</td>\n",
       "      <td>667</td>\n",
       "      <td>4.74</td>\n",
       "      <td>0</td>\n",
       "      <td>0</td>\n",
       "    </tr>\n",
       "  </tbody>\n",
       "</table>\n",
       "</div>"
      ],
      "text/plain": [
       "   default  installment  log_income  fico_score  rev_balance  inquiries  records\n",
       "0        0          829        4.93         737        28.85          0        0\n",
       "1        0          228        4.81         707        33.62          0        0\n",
       "2        0          367        4.51         682         3.51          1        0\n",
       "3        0          162        4.93         712        33.67          1        0\n",
       "4        0          103        4.91         667         4.74          0        0"
      ]
     },
     "execution_count": 3,
     "metadata": {},
     "output_type": "execute_result"
    }
   ],
   "source": [
    "df = pd.read_excel('files/Logit-Data.xlsx')\n",
    "pd.set_option('display.max_columns', None)\n",
    "pd.set_option('display.width', 1000)       \n",
    "pd.set_option('display.max_colwidth', 50)   \n",
    "pd.set_option('display.max_rows', 20)      \n",
    "df.head(5)"
   ]
  },
  {
   "cell_type": "code",
   "execution_count": 4,
   "metadata": {},
   "outputs": [
    {
     "data": {
      "application/vnd.microsoft.datawrangler.viewer.v0+json": {
       "columns": [
        {
         "name": "index",
         "rawType": "int64",
         "type": "integer"
        },
        {
         "name": "default",
         "rawType": "int64",
         "type": "integer"
        },
        {
         "name": "installment",
         "rawType": "int64",
         "type": "integer"
        },
        {
         "name": "log_income",
         "rawType": "float64",
         "type": "float"
        },
        {
         "name": "fico_score",
         "rawType": "int64",
         "type": "integer"
        },
        {
         "name": "rev_balance",
         "rawType": "float64",
         "type": "float"
        },
        {
         "name": "inquiries",
         "rawType": "int64",
         "type": "integer"
        },
        {
         "name": "records",
         "rawType": "int64",
         "type": "integer"
        }
       ],
       "ref": "9853c096-0cd2-45cd-b7e3-4d9104da2045",
       "rows": [
        [
         "9511",
         "1",
         "345",
         "5.29",
         "672",
         "215.37",
         "2",
         "0"
        ],
        [
         "9512",
         "1",
         "258",
         "4.84",
         "722",
         "0.18",
         "5",
         "0"
        ],
        [
         "9513",
         "1",
         "98",
         "4.6",
         "687",
         "10.04",
         "8",
         "0"
        ],
        [
         "9514",
         "1",
         "352",
         "4.7",
         "692",
         "0.0",
         "5",
         "0"
        ],
        [
         "9515",
         "1",
         "853",
         "4.89",
         "732",
         "37.88",
         "6",
         "0"
        ]
       ],
       "shape": {
        "columns": 7,
        "rows": 5
       }
      },
      "text/html": [
       "<div>\n",
       "<style scoped>\n",
       "    .dataframe tbody tr th:only-of-type {\n",
       "        vertical-align: middle;\n",
       "    }\n",
       "\n",
       "    .dataframe tbody tr th {\n",
       "        vertical-align: top;\n",
       "    }\n",
       "\n",
       "    .dataframe thead th {\n",
       "        text-align: right;\n",
       "    }\n",
       "</style>\n",
       "<table border=\"1\" class=\"dataframe\">\n",
       "  <thead>\n",
       "    <tr style=\"text-align: right;\">\n",
       "      <th></th>\n",
       "      <th>default</th>\n",
       "      <th>installment</th>\n",
       "      <th>log_income</th>\n",
       "      <th>fico_score</th>\n",
       "      <th>rev_balance</th>\n",
       "      <th>inquiries</th>\n",
       "      <th>records</th>\n",
       "    </tr>\n",
       "  </thead>\n",
       "  <tbody>\n",
       "    <tr>\n",
       "      <th>9511</th>\n",
       "      <td>1</td>\n",
       "      <td>345</td>\n",
       "      <td>5.29</td>\n",
       "      <td>672</td>\n",
       "      <td>215.37</td>\n",
       "      <td>2</td>\n",
       "      <td>0</td>\n",
       "    </tr>\n",
       "    <tr>\n",
       "      <th>9512</th>\n",
       "      <td>1</td>\n",
       "      <td>258</td>\n",
       "      <td>4.84</td>\n",
       "      <td>722</td>\n",
       "      <td>0.18</td>\n",
       "      <td>5</td>\n",
       "      <td>0</td>\n",
       "    </tr>\n",
       "    <tr>\n",
       "      <th>9513</th>\n",
       "      <td>1</td>\n",
       "      <td>98</td>\n",
       "      <td>4.60</td>\n",
       "      <td>687</td>\n",
       "      <td>10.04</td>\n",
       "      <td>8</td>\n",
       "      <td>0</td>\n",
       "    </tr>\n",
       "    <tr>\n",
       "      <th>9514</th>\n",
       "      <td>1</td>\n",
       "      <td>352</td>\n",
       "      <td>4.70</td>\n",
       "      <td>692</td>\n",
       "      <td>0.00</td>\n",
       "      <td>5</td>\n",
       "      <td>0</td>\n",
       "    </tr>\n",
       "    <tr>\n",
       "      <th>9515</th>\n",
       "      <td>1</td>\n",
       "      <td>853</td>\n",
       "      <td>4.89</td>\n",
       "      <td>732</td>\n",
       "      <td>37.88</td>\n",
       "      <td>6</td>\n",
       "      <td>0</td>\n",
       "    </tr>\n",
       "  </tbody>\n",
       "</table>\n",
       "</div>"
      ],
      "text/plain": [
       "      default  installment  log_income  fico_score  rev_balance  inquiries  records\n",
       "9511        1          345        5.29         672       215.37          2        0\n",
       "9512        1          258        4.84         722         0.18          5        0\n",
       "9513        1           98        4.60         687        10.04          8        0\n",
       "9514        1          352        4.70         692         0.00          5        0\n",
       "9515        1          853        4.89         732        37.88          6        0"
      ]
     },
     "execution_count": 4,
     "metadata": {},
     "output_type": "execute_result"
    }
   ],
   "source": [
    "df.tail(5)"
   ]
  },
  {
   "cell_type": "code",
   "execution_count": 5,
   "metadata": {},
   "outputs": [
    {
     "data": {
      "application/vnd.microsoft.datawrangler.viewer.v0+json": {
       "columns": [
        {
         "name": "index",
         "rawType": "object",
         "type": "string"
        },
        {
         "name": "default",
         "rawType": "float64",
         "type": "float"
        },
        {
         "name": "installment",
         "rawType": "float64",
         "type": "float"
        },
        {
         "name": "log_income",
         "rawType": "float64",
         "type": "float"
        },
        {
         "name": "fico_score",
         "rawType": "float64",
         "type": "float"
        },
        {
         "name": "rev_balance",
         "rawType": "float64",
         "type": "float"
        },
        {
         "name": "inquiries",
         "rawType": "float64",
         "type": "float"
        },
        {
         "name": "records",
         "rawType": "float64",
         "type": "float"
        }
       ],
       "ref": "b0e7d243-6af1-406b-9483-0231c98d1e85",
       "rows": [
        [
         "count",
         "9516.0",
         "9516.0",
         "9516.0",
         "9516.0",
         "9516.0",
         "9516.0",
         "9516.0"
        ],
        [
         "mean",
         "0.1598360655737705",
         "320.14207650273227",
         "4.74865594787726",
         "710.8419503993274",
         "16.98894808743169",
         "1.5729298024379992",
         "0.062211013030685165"
        ],
        [
         "std",
         "0.36647320647323467",
         "207.06655008782212",
         "0.26501694084665095",
         "37.95624647808663",
         "33.72135153333759",
         "2.2003292811692976",
         "0.26240551792342615"
        ],
        [
         "min",
         "0.0",
         "16.0",
         "3.28",
         "612.0",
         "0.0",
         "0.0",
         "0.0"
        ],
        [
         "25%",
         "0.0",
         "164.0",
         "4.59",
         "682.0",
         "3.27",
         "0.0",
         "0.0"
        ],
        [
         "50%",
         "0.0",
         "269.5",
         "4.75",
         "707.0",
         "8.69",
         "1.0",
         "0.0"
        ],
        [
         "75%",
         "0.0",
         "435.25",
         "4.9",
         "737.0",
         "18.355",
         "2.0",
         "0.0"
        ],
        [
         "max",
         "1.0",
         "940.0",
         "6.31",
         "827.0",
         "1207.36",
         "33.0",
         "5.0"
        ]
       ],
       "shape": {
        "columns": 7,
        "rows": 8
       }
      },
      "text/html": [
       "<div>\n",
       "<style scoped>\n",
       "    .dataframe tbody tr th:only-of-type {\n",
       "        vertical-align: middle;\n",
       "    }\n",
       "\n",
       "    .dataframe tbody tr th {\n",
       "        vertical-align: top;\n",
       "    }\n",
       "\n",
       "    .dataframe thead th {\n",
       "        text-align: right;\n",
       "    }\n",
       "</style>\n",
       "<table border=\"1\" class=\"dataframe\">\n",
       "  <thead>\n",
       "    <tr style=\"text-align: right;\">\n",
       "      <th></th>\n",
       "      <th>default</th>\n",
       "      <th>installment</th>\n",
       "      <th>log_income</th>\n",
       "      <th>fico_score</th>\n",
       "      <th>rev_balance</th>\n",
       "      <th>inquiries</th>\n",
       "      <th>records</th>\n",
       "    </tr>\n",
       "  </thead>\n",
       "  <tbody>\n",
       "    <tr>\n",
       "      <th>count</th>\n",
       "      <td>9516.000000</td>\n",
       "      <td>9516.000000</td>\n",
       "      <td>9516.000000</td>\n",
       "      <td>9516.000000</td>\n",
       "      <td>9516.000000</td>\n",
       "      <td>9516.000000</td>\n",
       "      <td>9516.000000</td>\n",
       "    </tr>\n",
       "    <tr>\n",
       "      <th>mean</th>\n",
       "      <td>0.159836</td>\n",
       "      <td>320.142077</td>\n",
       "      <td>4.748656</td>\n",
       "      <td>710.841950</td>\n",
       "      <td>16.988948</td>\n",
       "      <td>1.572930</td>\n",
       "      <td>0.062211</td>\n",
       "    </tr>\n",
       "    <tr>\n",
       "      <th>std</th>\n",
       "      <td>0.366473</td>\n",
       "      <td>207.066550</td>\n",
       "      <td>0.265017</td>\n",
       "      <td>37.956246</td>\n",
       "      <td>33.721352</td>\n",
       "      <td>2.200329</td>\n",
       "      <td>0.262406</td>\n",
       "    </tr>\n",
       "    <tr>\n",
       "      <th>min</th>\n",
       "      <td>0.000000</td>\n",
       "      <td>16.000000</td>\n",
       "      <td>3.280000</td>\n",
       "      <td>612.000000</td>\n",
       "      <td>0.000000</td>\n",
       "      <td>0.000000</td>\n",
       "      <td>0.000000</td>\n",
       "    </tr>\n",
       "    <tr>\n",
       "      <th>25%</th>\n",
       "      <td>0.000000</td>\n",
       "      <td>164.000000</td>\n",
       "      <td>4.590000</td>\n",
       "      <td>682.000000</td>\n",
       "      <td>3.270000</td>\n",
       "      <td>0.000000</td>\n",
       "      <td>0.000000</td>\n",
       "    </tr>\n",
       "    <tr>\n",
       "      <th>50%</th>\n",
       "      <td>0.000000</td>\n",
       "      <td>269.500000</td>\n",
       "      <td>4.750000</td>\n",
       "      <td>707.000000</td>\n",
       "      <td>8.690000</td>\n",
       "      <td>1.000000</td>\n",
       "      <td>0.000000</td>\n",
       "    </tr>\n",
       "    <tr>\n",
       "      <th>75%</th>\n",
       "      <td>0.000000</td>\n",
       "      <td>435.250000</td>\n",
       "      <td>4.900000</td>\n",
       "      <td>737.000000</td>\n",
       "      <td>18.355000</td>\n",
       "      <td>2.000000</td>\n",
       "      <td>0.000000</td>\n",
       "    </tr>\n",
       "    <tr>\n",
       "      <th>max</th>\n",
       "      <td>1.000000</td>\n",
       "      <td>940.000000</td>\n",
       "      <td>6.310000</td>\n",
       "      <td>827.000000</td>\n",
       "      <td>1207.360000</td>\n",
       "      <td>33.000000</td>\n",
       "      <td>5.000000</td>\n",
       "    </tr>\n",
       "  </tbody>\n",
       "</table>\n",
       "</div>"
      ],
      "text/plain": [
       "           default  installment   log_income   fico_score  rev_balance    inquiries      records\n",
       "count  9516.000000  9516.000000  9516.000000  9516.000000  9516.000000  9516.000000  9516.000000\n",
       "mean      0.159836   320.142077     4.748656   710.841950    16.988948     1.572930     0.062211\n",
       "std       0.366473   207.066550     0.265017    37.956246    33.721352     2.200329     0.262406\n",
       "min       0.000000    16.000000     3.280000   612.000000     0.000000     0.000000     0.000000\n",
       "25%       0.000000   164.000000     4.590000   682.000000     3.270000     0.000000     0.000000\n",
       "50%       0.000000   269.500000     4.750000   707.000000     8.690000     1.000000     0.000000\n",
       "75%       0.000000   435.250000     4.900000   737.000000    18.355000     2.000000     0.000000\n",
       "max       1.000000   940.000000     6.310000   827.000000  1207.360000    33.000000     5.000000"
      ]
     },
     "execution_count": 5,
     "metadata": {},
     "output_type": "execute_result"
    }
   ],
   "source": [
    "df.describe()"
   ]
  },
  {
   "cell_type": "markdown",
   "metadata": {},
   "source": [
    "<span style=\"color: cyan;\">\n",
    "\n",
    "The `skim(df)` function call is used to generate a comprehensive visual summary of the DataFrame `df`. This function is part of the `skimpy` library, which provides an alternative to the traditional `pandas.DataFrame.describe()` method by offering a more detailed and visually appealing overview of the data.\n",
    "\n",
    "The `skim` function takes a DataFrame as input and produces a summary table that is displayed in the console. This summary includes various statistics and information about each column in the DataFrame, tailored to the specific data types of the columns. For example, it might show the distribution of values, the number of missing values, and other relevant metrics.\n",
    "\n",
    "The function is designed to handle both Pandas and Polars DataFrames, making it versatile for different data manipulation libraries. However, it does not support DataFrames with multi-column indexes, and it is recommended to ensure that the data types of the columns are correctly set before running the function to get the best results.\n",
    "\n",
    "By using `skim(df)`, you can quickly gain insights into the structure and content of your dataset, which is particularly useful during the initial stages of data exploration and analysis. This helps in identifying potential issues, such as missing values or incorrect data types, and provides a solid foundation for further data processing and modeling."
   ]
  },
  {
   "cell_type": "code",
   "execution_count": 6,
   "metadata": {
    "colab": {
     "base_uri": "https://localhost:8080/",
     "height": 364
    },
    "executionInfo": {
     "elapsed": 552,
     "status": "ok",
     "timestamp": 1739336697462,
     "user": {
      "displayName": "Hatice Kuey",
      "userId": "00862202582568672734"
     },
     "user_tz": 360
    },
    "id": "Ej8oDS5gpWC6",
    "outputId": "72eaedbb-84c6-4e01-e196-edc71b49673b"
   },
   "outputs": [
    {
     "data": {
      "text/html": [
       "<pre style=\"white-space:pre;overflow-x:auto;line-height:normal;font-family:Menlo,'DejaVu Sans Mono',consolas,'Courier New',monospace\">╭──────────────────────────────────────────────── skimpy summary ─────────────────────────────────────────────────╮\n",
       "│ <span style=\"font-style: italic\">         Data Summary         </span> <span style=\"font-style: italic\">      Data Types       </span>                                                          │\n",
       "│ ┏━━━━━━━━━━━━━━━━━━━┳━━━━━━━━┓ ┏━━━━━━━━━━━━━┳━━━━━━━┓                                                          │\n",
       "│ ┃<span style=\"color: #008080; text-decoration-color: #008080; font-weight: bold\"> Dataframe         </span>┃<span style=\"color: #008080; text-decoration-color: #008080; font-weight: bold\"> Values </span>┃ ┃<span style=\"color: #008080; text-decoration-color: #008080; font-weight: bold\"> Column Type </span>┃<span style=\"color: #008080; text-decoration-color: #008080; font-weight: bold\"> Count </span>┃                                                          │\n",
       "│ ┡━━━━━━━━━━━━━━━━━━━╇━━━━━━━━┩ ┡━━━━━━━━━━━━━╇━━━━━━━┩                                                          │\n",
       "│ │ Number of rows    │ 9516   │ │ int64       │ 5     │                                                          │\n",
       "│ │ Number of columns │ 7      │ │ float64     │ 2     │                                                          │\n",
       "│ └───────────────────┴────────┘ └─────────────┴───────┘                                                          │\n",
       "│ <span style=\"font-style: italic\">                                                    number                                                    </span>  │\n",
       "│ ┏━━━━━━━━━━━━━━━━┳━━━━━┳━━━━━━━━┳━━━━━━━━━━━┳━━━━━━━━━━┳━━━━━━━━┳━━━━━━━━┳━━━━━━━━┳━━━━━━━━┳━━━━━━━┳━━━━━━━━━┓  │\n",
       "│ ┃<span style=\"font-weight: bold\"> column         </span>┃<span style=\"font-weight: bold\"> NA  </span>┃<span style=\"font-weight: bold\"> NA %   </span>┃<span style=\"font-weight: bold\"> mean      </span>┃<span style=\"font-weight: bold\"> sd       </span>┃<span style=\"font-weight: bold\"> p0     </span>┃<span style=\"font-weight: bold\"> p25    </span>┃<span style=\"font-weight: bold\"> p50    </span>┃<span style=\"font-weight: bold\"> p75    </span>┃<span style=\"font-weight: bold\"> p100  </span>┃<span style=\"font-weight: bold\"> hist    </span>┃  │\n",
       "│ ┡━━━━━━━━━━━━━━━━╇━━━━━╇━━━━━━━━╇━━━━━━━━━━━╇━━━━━━━━━━╇━━━━━━━━╇━━━━━━━━╇━━━━━━━━╇━━━━━━━━╇━━━━━━━╇━━━━━━━━━┩  │\n",
       "│ │ <span style=\"color: #af87ff; text-decoration-color: #af87ff\">default       </span> │ <span style=\"color: #008080; text-decoration-color: #008080\">  0</span> │ <span style=\"color: #008080; text-decoration-color: #008080\">     0</span> │ <span style=\"color: #008080; text-decoration-color: #008080\">   0.1598</span> │ <span style=\"color: #008080; text-decoration-color: #008080\">  0.3665</span> │ <span style=\"color: #008080; text-decoration-color: #008080\">     0</span> │ <span style=\"color: #008080; text-decoration-color: #008080\">     0</span> │ <span style=\"color: #008080; text-decoration-color: #008080\">     0</span> │ <span style=\"color: #008080; text-decoration-color: #008080\">     0</span> │ <span style=\"color: #008080; text-decoration-color: #008080\">    1</span> │ <span style=\"color: #008000; text-decoration-color: #008000\">█    ▂ </span> │  │\n",
       "│ │ <span style=\"color: #af87ff; text-decoration-color: #af87ff\">installment   </span> │ <span style=\"color: #008080; text-decoration-color: #008080\">  0</span> │ <span style=\"color: #008080; text-decoration-color: #008080\">     0</span> │ <span style=\"color: #008080; text-decoration-color: #008080\">    320.1</span> │ <span style=\"color: #008080; text-decoration-color: #008080\">   207.1</span> │ <span style=\"color: #008080; text-decoration-color: #008080\">    16</span> │ <span style=\"color: #008080; text-decoration-color: #008080\">   164</span> │ <span style=\"color: #008080; text-decoration-color: #008080\"> 269.5</span> │ <span style=\"color: #008080; text-decoration-color: #008080\"> 435.2</span> │ <span style=\"color: #008080; text-decoration-color: #008080\">  940</span> │ <span style=\"color: #008000; text-decoration-color: #008000\">▇█▅▃▂▁ </span> │  │\n",
       "│ │ <span style=\"color: #af87ff; text-decoration-color: #af87ff\">log_income    </span> │ <span style=\"color: #008080; text-decoration-color: #008080\">  0</span> │ <span style=\"color: #008080; text-decoration-color: #008080\">     0</span> │ <span style=\"color: #008080; text-decoration-color: #008080\">    4.749</span> │ <span style=\"color: #008080; text-decoration-color: #008080\">   0.265</span> │ <span style=\"color: #008080; text-decoration-color: #008080\">  3.28</span> │ <span style=\"color: #008080; text-decoration-color: #008080\">  4.59</span> │ <span style=\"color: #008080; text-decoration-color: #008080\">  4.75</span> │ <span style=\"color: #008080; text-decoration-color: #008080\">   4.9</span> │ <span style=\"color: #008080; text-decoration-color: #008080\"> 6.31</span> │ <span style=\"color: #008000; text-decoration-color: #008000\">  ▁█▆  </span> │  │\n",
       "│ │ <span style=\"color: #af87ff; text-decoration-color: #af87ff\">fico_score    </span> │ <span style=\"color: #008080; text-decoration-color: #008080\">  0</span> │ <span style=\"color: #008080; text-decoration-color: #008080\">     0</span> │ <span style=\"color: #008080; text-decoration-color: #008080\">    710.8</span> │ <span style=\"color: #008080; text-decoration-color: #008080\">   37.96</span> │ <span style=\"color: #008080; text-decoration-color: #008080\">   612</span> │ <span style=\"color: #008080; text-decoration-color: #008080\">   682</span> │ <span style=\"color: #008080; text-decoration-color: #008080\">   707</span> │ <span style=\"color: #008080; text-decoration-color: #008080\">   737</span> │ <span style=\"color: #008080; text-decoration-color: #008080\">  827</span> │ <span style=\"color: #008000; text-decoration-color: #008000\">▁▆█▅▃▁ </span> │  │\n",
       "│ │ <span style=\"color: #af87ff; text-decoration-color: #af87ff\">rev_balance   </span> │ <span style=\"color: #008080; text-decoration-color: #008080\">  0</span> │ <span style=\"color: #008080; text-decoration-color: #008080\">     0</span> │ <span style=\"color: #008080; text-decoration-color: #008080\">    16.99</span> │ <span style=\"color: #008080; text-decoration-color: #008080\">   33.72</span> │ <span style=\"color: #008080; text-decoration-color: #008080\">     0</span> │ <span style=\"color: #008080; text-decoration-color: #008080\">  3.27</span> │ <span style=\"color: #008080; text-decoration-color: #008080\">  8.69</span> │ <span style=\"color: #008080; text-decoration-color: #008080\"> 18.36</span> │ <span style=\"color: #008080; text-decoration-color: #008080\"> 1207</span> │ <span style=\"color: #008000; text-decoration-color: #008000\">   █   </span> │  │\n",
       "│ │ <span style=\"color: #af87ff; text-decoration-color: #af87ff\">inquiries     </span> │ <span style=\"color: #008080; text-decoration-color: #008080\">  0</span> │ <span style=\"color: #008080; text-decoration-color: #008080\">     0</span> │ <span style=\"color: #008080; text-decoration-color: #008080\">    1.573</span> │ <span style=\"color: #008080; text-decoration-color: #008080\">     2.2</span> │ <span style=\"color: #008080; text-decoration-color: #008080\">     0</span> │ <span style=\"color: #008080; text-decoration-color: #008080\">     0</span> │ <span style=\"color: #008080; text-decoration-color: #008080\">     1</span> │ <span style=\"color: #008080; text-decoration-color: #008080\">     2</span> │ <span style=\"color: #008080; text-decoration-color: #008080\">   33</span> │ <span style=\"color: #008000; text-decoration-color: #008000\">   █   </span> │  │\n",
       "│ │ <span style=\"color: #af87ff; text-decoration-color: #af87ff\">records       </span> │ <span style=\"color: #008080; text-decoration-color: #008080\">  0</span> │ <span style=\"color: #008080; text-decoration-color: #008080\">     0</span> │ <span style=\"color: #008080; text-decoration-color: #008080\">  0.06221</span> │ <span style=\"color: #008080; text-decoration-color: #008080\">  0.2624</span> │ <span style=\"color: #008080; text-decoration-color: #008080\">     0</span> │ <span style=\"color: #008080; text-decoration-color: #008080\">     0</span> │ <span style=\"color: #008080; text-decoration-color: #008080\">     0</span> │ <span style=\"color: #008080; text-decoration-color: #008080\">     0</span> │ <span style=\"color: #008080; text-decoration-color: #008080\">    5</span> │ <span style=\"color: #008000; text-decoration-color: #008000\">   █   </span> │  │\n",
       "│ └────────────────┴─────┴────────┴───────────┴──────────┴────────┴────────┴────────┴────────┴───────┴─────────┘  │\n",
       "╰────────────────────────────────────────────────────── End ──────────────────────────────────────────────────────╯\n",
       "</pre>\n"
      ],
      "text/plain": [
       "╭──────────────────────────────────────────────── skimpy summary ─────────────────────────────────────────────────╮\n",
       "│ \u001b[3m         Data Summary         \u001b[0m \u001b[3m      Data Types       \u001b[0m                                                          │\n",
       "│ ┏━━━━━━━━━━━━━━━━━━━┳━━━━━━━━┓ ┏━━━━━━━━━━━━━┳━━━━━━━┓                                                          │\n",
       "│ ┃\u001b[1;36m \u001b[0m\u001b[1;36mDataframe        \u001b[0m\u001b[1;36m \u001b[0m┃\u001b[1;36m \u001b[0m\u001b[1;36mValues\u001b[0m\u001b[1;36m \u001b[0m┃ ┃\u001b[1;36m \u001b[0m\u001b[1;36mColumn Type\u001b[0m\u001b[1;36m \u001b[0m┃\u001b[1;36m \u001b[0m\u001b[1;36mCount\u001b[0m\u001b[1;36m \u001b[0m┃                                                          │\n",
       "│ ┡━━━━━━━━━━━━━━━━━━━╇━━━━━━━━┩ ┡━━━━━━━━━━━━━╇━━━━━━━┩                                                          │\n",
       "│ │ Number of rows    │ 9516   │ │ int64       │ 5     │                                                          │\n",
       "│ │ Number of columns │ 7      │ │ float64     │ 2     │                                                          │\n",
       "│ └───────────────────┴────────┘ └─────────────┴───────┘                                                          │\n",
       "│ \u001b[3m                                                    number                                                    \u001b[0m  │\n",
       "│ ┏━━━━━━━━━━━━━━━━┳━━━━━┳━━━━━━━━┳━━━━━━━━━━━┳━━━━━━━━━━┳━━━━━━━━┳━━━━━━━━┳━━━━━━━━┳━━━━━━━━┳━━━━━━━┳━━━━━━━━━┓  │\n",
       "│ ┃\u001b[1m \u001b[0m\u001b[1mcolumn        \u001b[0m\u001b[1m \u001b[0m┃\u001b[1m \u001b[0m\u001b[1mNA \u001b[0m\u001b[1m \u001b[0m┃\u001b[1m \u001b[0m\u001b[1mNA %  \u001b[0m\u001b[1m \u001b[0m┃\u001b[1m \u001b[0m\u001b[1mmean     \u001b[0m\u001b[1m \u001b[0m┃\u001b[1m \u001b[0m\u001b[1msd      \u001b[0m\u001b[1m \u001b[0m┃\u001b[1m \u001b[0m\u001b[1mp0    \u001b[0m\u001b[1m \u001b[0m┃\u001b[1m \u001b[0m\u001b[1mp25   \u001b[0m\u001b[1m \u001b[0m┃\u001b[1m \u001b[0m\u001b[1mp50   \u001b[0m\u001b[1m \u001b[0m┃\u001b[1m \u001b[0m\u001b[1mp75   \u001b[0m\u001b[1m \u001b[0m┃\u001b[1m \u001b[0m\u001b[1mp100 \u001b[0m\u001b[1m \u001b[0m┃\u001b[1m \u001b[0m\u001b[1mhist   \u001b[0m\u001b[1m \u001b[0m┃  │\n",
       "│ ┡━━━━━━━━━━━━━━━━╇━━━━━╇━━━━━━━━╇━━━━━━━━━━━╇━━━━━━━━━━╇━━━━━━━━╇━━━━━━━━╇━━━━━━━━╇━━━━━━━━╇━━━━━━━╇━━━━━━━━━┩  │\n",
       "│ │ \u001b[38;5;141mdefault       \u001b[0m │ \u001b[36m  0\u001b[0m │ \u001b[36m     0\u001b[0m │ \u001b[36m   0.1598\u001b[0m │ \u001b[36m  0.3665\u001b[0m │ \u001b[36m     0\u001b[0m │ \u001b[36m     0\u001b[0m │ \u001b[36m     0\u001b[0m │ \u001b[36m     0\u001b[0m │ \u001b[36m    1\u001b[0m │ \u001b[32m█    ▂ \u001b[0m │  │\n",
       "│ │ \u001b[38;5;141minstallment   \u001b[0m │ \u001b[36m  0\u001b[0m │ \u001b[36m     0\u001b[0m │ \u001b[36m    320.1\u001b[0m │ \u001b[36m   207.1\u001b[0m │ \u001b[36m    16\u001b[0m │ \u001b[36m   164\u001b[0m │ \u001b[36m 269.5\u001b[0m │ \u001b[36m 435.2\u001b[0m │ \u001b[36m  940\u001b[0m │ \u001b[32m▇█▅▃▂▁ \u001b[0m │  │\n",
       "│ │ \u001b[38;5;141mlog_income    \u001b[0m │ \u001b[36m  0\u001b[0m │ \u001b[36m     0\u001b[0m │ \u001b[36m    4.749\u001b[0m │ \u001b[36m   0.265\u001b[0m │ \u001b[36m  3.28\u001b[0m │ \u001b[36m  4.59\u001b[0m │ \u001b[36m  4.75\u001b[0m │ \u001b[36m   4.9\u001b[0m │ \u001b[36m 6.31\u001b[0m │ \u001b[32m  ▁█▆  \u001b[0m │  │\n",
       "│ │ \u001b[38;5;141mfico_score    \u001b[0m │ \u001b[36m  0\u001b[0m │ \u001b[36m     0\u001b[0m │ \u001b[36m    710.8\u001b[0m │ \u001b[36m   37.96\u001b[0m │ \u001b[36m   612\u001b[0m │ \u001b[36m   682\u001b[0m │ \u001b[36m   707\u001b[0m │ \u001b[36m   737\u001b[0m │ \u001b[36m  827\u001b[0m │ \u001b[32m▁▆█▅▃▁ \u001b[0m │  │\n",
       "│ │ \u001b[38;5;141mrev_balance   \u001b[0m │ \u001b[36m  0\u001b[0m │ \u001b[36m     0\u001b[0m │ \u001b[36m    16.99\u001b[0m │ \u001b[36m   33.72\u001b[0m │ \u001b[36m     0\u001b[0m │ \u001b[36m  3.27\u001b[0m │ \u001b[36m  8.69\u001b[0m │ \u001b[36m 18.36\u001b[0m │ \u001b[36m 1207\u001b[0m │ \u001b[32m   █   \u001b[0m │  │\n",
       "│ │ \u001b[38;5;141minquiries     \u001b[0m │ \u001b[36m  0\u001b[0m │ \u001b[36m     0\u001b[0m │ \u001b[36m    1.573\u001b[0m │ \u001b[36m     2.2\u001b[0m │ \u001b[36m     0\u001b[0m │ \u001b[36m     0\u001b[0m │ \u001b[36m     1\u001b[0m │ \u001b[36m     2\u001b[0m │ \u001b[36m   33\u001b[0m │ \u001b[32m   █   \u001b[0m │  │\n",
       "│ │ \u001b[38;5;141mrecords       \u001b[0m │ \u001b[36m  0\u001b[0m │ \u001b[36m     0\u001b[0m │ \u001b[36m  0.06221\u001b[0m │ \u001b[36m  0.2624\u001b[0m │ \u001b[36m     0\u001b[0m │ \u001b[36m     0\u001b[0m │ \u001b[36m     0\u001b[0m │ \u001b[36m     0\u001b[0m │ \u001b[36m    5\u001b[0m │ \u001b[32m   █   \u001b[0m │  │\n",
       "│ └────────────────┴─────┴────────┴───────────┴──────────┴────────┴────────┴────────┴────────┴───────┴─────────┘  │\n",
       "╰────────────────────────────────────────────────────── End ──────────────────────────────────────────────────────╯\n"
      ]
     },
     "metadata": {},
     "output_type": "display_data"
    }
   ],
   "source": [
    "skim(df)"
   ]
  },
  {
   "cell_type": "markdown",
   "metadata": {},
   "source": [
    "<span style=\"color: cyan;\">\n",
    "\n",
    "This code uses the `skim` function from the `skimpy` library to generate visual summary statistics for two subsets of the DataFrame `df`. The subsets are created based on the values in the 'default' column, which likely indicates whether a certain condition (such as loan default) is met.\n",
    "\n",
    "1. `skim(df[df['default'] == 0])`: This line filters the DataFrame `df` to include only the rows where the 'default' column has a value of 0. This subset represents the population that did not default. The `skim` function is then called on this subset to provide a detailed summary of its structure and content. This summary includes various statistics and information about each column, helping to understand the characteristics of the non-defaulting population.\n",
    "\n",
    "2. `skim(df[df['default'] == 1])`: Similarly, this line filters the DataFrame `df` to include only the rows where the 'default' column has a value of 1. This subset represents the population that did default. The `skim` function is called on this subset to generate a visual summary, offering insights into the characteristics of the defaulting population.\n",
    "\n",
    "By skimming these two subsets separately, you can compare the summary statistics and distributions of the features for the defaulting and non-defaulting populations. This comparison can reveal important differences and patterns that may be useful for further analysis, such as identifying risk factors associated with default. The `skim` function provides a quick and comprehensive overview, making it easier to spot trends and anomalies in the data."
   ]
  },
  {
   "cell_type": "code",
   "execution_count": 7,
   "metadata": {
    "colab": {
     "base_uri": "https://localhost:8080/",
     "height": 710
    },
    "executionInfo": {
     "elapsed": 422,
     "status": "ok",
     "timestamp": 1739336700009,
     "user": {
      "displayName": "Hatice Kuey",
      "userId": "00862202582568672734"
     },
     "user_tz": 360
    },
    "id": "f5XSwUWnqlF-",
    "outputId": "4ff65ece-95e6-4ab7-cf44-1a47e7ea3657"
   },
   "outputs": [
    {
     "data": {
      "text/html": [
       "<pre style=\"white-space:pre;overflow-x:auto;line-height:normal;font-family:Menlo,'DejaVu Sans Mono',consolas,'Courier New',monospace\">╭──────────────────────────────────────────────── skimpy summary ─────────────────────────────────────────────────╮\n",
       "│ <span style=\"font-style: italic\">         Data Summary         </span> <span style=\"font-style: italic\">      Data Types       </span>                                                          │\n",
       "│ ┏━━━━━━━━━━━━━━━━━━━┳━━━━━━━━┓ ┏━━━━━━━━━━━━━┳━━━━━━━┓                                                          │\n",
       "│ ┃<span style=\"color: #008080; text-decoration-color: #008080; font-weight: bold\"> Dataframe         </span>┃<span style=\"color: #008080; text-decoration-color: #008080; font-weight: bold\"> Values </span>┃ ┃<span style=\"color: #008080; text-decoration-color: #008080; font-weight: bold\"> Column Type </span>┃<span style=\"color: #008080; text-decoration-color: #008080; font-weight: bold\"> Count </span>┃                                                          │\n",
       "│ ┡━━━━━━━━━━━━━━━━━━━╇━━━━━━━━┩ ┡━━━━━━━━━━━━━╇━━━━━━━┩                                                          │\n",
       "│ │ Number of rows    │ 7995   │ │ int64       │ 5     │                                                          │\n",
       "│ │ Number of columns │ 7      │ │ float64     │ 2     │                                                          │\n",
       "│ └───────────────────┴────────┘ └─────────────┴───────┘                                                          │\n",
       "│ <span style=\"font-style: italic\">                                                    number                                                    </span>  │\n",
       "│ ┏━━━━━━━━━━━━━━━━━┳━━━━━┳━━━━━━━━┳━━━━━━━━━━━┳━━━━━━━━━━┳━━━━━━━━┳━━━━━━━━┳━━━━━━━┳━━━━━━━━┳━━━━━━━┳━━━━━━━━━┓  │\n",
       "│ ┃<span style=\"font-weight: bold\"> column          </span>┃<span style=\"font-weight: bold\"> NA  </span>┃<span style=\"font-weight: bold\"> NA %   </span>┃<span style=\"font-weight: bold\"> mean      </span>┃<span style=\"font-weight: bold\"> sd       </span>┃<span style=\"font-weight: bold\"> p0     </span>┃<span style=\"font-weight: bold\"> p25    </span>┃<span style=\"font-weight: bold\"> p50   </span>┃<span style=\"font-weight: bold\"> p75    </span>┃<span style=\"font-weight: bold\"> p100  </span>┃<span style=\"font-weight: bold\"> hist    </span>┃  │\n",
       "│ ┡━━━━━━━━━━━━━━━━━╇━━━━━╇━━━━━━━━╇━━━━━━━━━━━╇━━━━━━━━━━╇━━━━━━━━╇━━━━━━━━╇━━━━━━━╇━━━━━━━━╇━━━━━━━╇━━━━━━━━━┩  │\n",
       "│ │ <span style=\"color: #af87ff; text-decoration-color: #af87ff\">default        </span> │ <span style=\"color: #008080; text-decoration-color: #008080\">  0</span> │ <span style=\"color: #008080; text-decoration-color: #008080\">     0</span> │ <span style=\"color: #008080; text-decoration-color: #008080\">        0</span> │ <span style=\"color: #008080; text-decoration-color: #008080\">       0</span> │ <span style=\"color: #008080; text-decoration-color: #008080\">     0</span> │ <span style=\"color: #008080; text-decoration-color: #008080\">     0</span> │ <span style=\"color: #008080; text-decoration-color: #008080\">    0</span> │ <span style=\"color: #008080; text-decoration-color: #008080\">     0</span> │ <span style=\"color: #008080; text-decoration-color: #008080\">    0</span> │ <span style=\"color: #008000; text-decoration-color: #008000\">    █  </span> │  │\n",
       "│ │ <span style=\"color: #af87ff; text-decoration-color: #af87ff\">installment    </span> │ <span style=\"color: #008080; text-decoration-color: #008080\">  0</span> │ <span style=\"color: #008080; text-decoration-color: #008080\">     0</span> │ <span style=\"color: #008080; text-decoration-color: #008080\">    315.5</span> │ <span style=\"color: #008080; text-decoration-color: #008080\">   203.4</span> │ <span style=\"color: #008080; text-decoration-color: #008080\">    16</span> │ <span style=\"color: #008080; text-decoration-color: #008080\">   163</span> │ <span style=\"color: #008080; text-decoration-color: #008080\">  268</span> │ <span style=\"color: #008080; text-decoration-color: #008080\"> 425.5</span> │ <span style=\"color: #008080; text-decoration-color: #008080\">  940</span> │ <span style=\"color: #008000; text-decoration-color: #008000\">▇█▅▃▂▁ </span> │  │\n",
       "│ │ <span style=\"color: #af87ff; text-decoration-color: #af87ff\">log_income     </span> │ <span style=\"color: #008080; text-decoration-color: #008080\">  0</span> │ <span style=\"color: #008080; text-decoration-color: #008080\">     0</span> │ <span style=\"color: #008080; text-decoration-color: #008080\">    4.752</span> │ <span style=\"color: #008080; text-decoration-color: #008080\">  0.2607</span> │ <span style=\"color: #008080; text-decoration-color: #008080\">  3.28</span> │ <span style=\"color: #008080; text-decoration-color: #008080\">   4.6</span> │ <span style=\"color: #008080; text-decoration-color: #008080\"> 4.75</span> │ <span style=\"color: #008080; text-decoration-color: #008080\">  4.91</span> │ <span style=\"color: #008080; text-decoration-color: #008080\"> 6.31</span> │ <span style=\"color: #008000; text-decoration-color: #008000\">   █▆  </span> │  │\n",
       "│ │ <span style=\"color: #af87ff; text-decoration-color: #af87ff\">fico_score     </span> │ <span style=\"color: #008080; text-decoration-color: #008080\">  0</span> │ <span style=\"color: #008080; text-decoration-color: #008080\">     0</span> │ <span style=\"color: #008080; text-decoration-color: #008080\">    713.3</span> │ <span style=\"color: #008080; text-decoration-color: #008080\">   38.21</span> │ <span style=\"color: #008080; text-decoration-color: #008080\">   612</span> │ <span style=\"color: #008080; text-decoration-color: #008080\">   682</span> │ <span style=\"color: #008080; text-decoration-color: #008080\">  707</span> │ <span style=\"color: #008080; text-decoration-color: #008080\">   742</span> │ <span style=\"color: #008080; text-decoration-color: #008080\">  827</span> │ <span style=\"color: #008000; text-decoration-color: #008000\"> ▆█▆▃▁ </span> │  │\n",
       "│ │ <span style=\"color: #af87ff; text-decoration-color: #af87ff\">rev_balance    </span> │ <span style=\"color: #008080; text-decoration-color: #008080\">  0</span> │ <span style=\"color: #008080; text-decoration-color: #008080\">     0</span> │ <span style=\"color: #008080; text-decoration-color: #008080\">    16.18</span> │ <span style=\"color: #008080; text-decoration-color: #008080\">   29.54</span> │ <span style=\"color: #008080; text-decoration-color: #008080\">     0</span> │ <span style=\"color: #008080; text-decoration-color: #008080\">  3.25</span> │ <span style=\"color: #008080; text-decoration-color: #008080\"> 8.63</span> │ <span style=\"color: #008080; text-decoration-color: #008080\">    18</span> │ <span style=\"color: #008080; text-decoration-color: #008080\">  952</span> │ <span style=\"color: #008000; text-decoration-color: #008000\">   █   </span> │  │\n",
       "│ │ <span style=\"color: #af87ff; text-decoration-color: #af87ff\">inquiries      </span> │ <span style=\"color: #008080; text-decoration-color: #008080\">  0</span> │ <span style=\"color: #008080; text-decoration-color: #008080\">     0</span> │ <span style=\"color: #008080; text-decoration-color: #008080\">    1.428</span> │ <span style=\"color: #008080; text-decoration-color: #008080\">   1.997</span> │ <span style=\"color: #008080; text-decoration-color: #008080\">     0</span> │ <span style=\"color: #008080; text-decoration-color: #008080\">     0</span> │ <span style=\"color: #008080; text-decoration-color: #008080\">    1</span> │ <span style=\"color: #008080; text-decoration-color: #008080\">     2</span> │ <span style=\"color: #008080; text-decoration-color: #008080\">   31</span> │ <span style=\"color: #008000; text-decoration-color: #008000\">   █   </span> │  │\n",
       "│ │ <span style=\"color: #af87ff; text-decoration-color: #af87ff\">records        </span> │ <span style=\"color: #008080; text-decoration-color: #008080\">  0</span> │ <span style=\"color: #008080; text-decoration-color: #008080\">     0</span> │ <span style=\"color: #008080; text-decoration-color: #008080\">  0.05654</span> │ <span style=\"color: #008080; text-decoration-color: #008080\">  0.2556</span> │ <span style=\"color: #008080; text-decoration-color: #008080\">     0</span> │ <span style=\"color: #008080; text-decoration-color: #008080\">     0</span> │ <span style=\"color: #008080; text-decoration-color: #008080\">    0</span> │ <span style=\"color: #008080; text-decoration-color: #008080\">     0</span> │ <span style=\"color: #008080; text-decoration-color: #008080\">    5</span> │ <span style=\"color: #008000; text-decoration-color: #008000\">   █   </span> │  │\n",
       "│ └─────────────────┴─────┴────────┴───────────┴──────────┴────────┴────────┴───────┴────────┴───────┴─────────┘  │\n",
       "╰────────────────────────────────────────────────────── End ──────────────────────────────────────────────────────╯\n",
       "</pre>\n"
      ],
      "text/plain": [
       "╭──────────────────────────────────────────────── skimpy summary ─────────────────────────────────────────────────╮\n",
       "│ \u001b[3m         Data Summary         \u001b[0m \u001b[3m      Data Types       \u001b[0m                                                          │\n",
       "│ ┏━━━━━━━━━━━━━━━━━━━┳━━━━━━━━┓ ┏━━━━━━━━━━━━━┳━━━━━━━┓                                                          │\n",
       "│ ┃\u001b[1;36m \u001b[0m\u001b[1;36mDataframe        \u001b[0m\u001b[1;36m \u001b[0m┃\u001b[1;36m \u001b[0m\u001b[1;36mValues\u001b[0m\u001b[1;36m \u001b[0m┃ ┃\u001b[1;36m \u001b[0m\u001b[1;36mColumn Type\u001b[0m\u001b[1;36m \u001b[0m┃\u001b[1;36m \u001b[0m\u001b[1;36mCount\u001b[0m\u001b[1;36m \u001b[0m┃                                                          │\n",
       "│ ┡━━━━━━━━━━━━━━━━━━━╇━━━━━━━━┩ ┡━━━━━━━━━━━━━╇━━━━━━━┩                                                          │\n",
       "│ │ Number of rows    │ 7995   │ │ int64       │ 5     │                                                          │\n",
       "│ │ Number of columns │ 7      │ │ float64     │ 2     │                                                          │\n",
       "│ └───────────────────┴────────┘ └─────────────┴───────┘                                                          │\n",
       "│ \u001b[3m                                                    number                                                    \u001b[0m  │\n",
       "│ ┏━━━━━━━━━━━━━━━━━┳━━━━━┳━━━━━━━━┳━━━━━━━━━━━┳━━━━━━━━━━┳━━━━━━━━┳━━━━━━━━┳━━━━━━━┳━━━━━━━━┳━━━━━━━┳━━━━━━━━━┓  │\n",
       "│ ┃\u001b[1m \u001b[0m\u001b[1mcolumn         \u001b[0m\u001b[1m \u001b[0m┃\u001b[1m \u001b[0m\u001b[1mNA \u001b[0m\u001b[1m \u001b[0m┃\u001b[1m \u001b[0m\u001b[1mNA %  \u001b[0m\u001b[1m \u001b[0m┃\u001b[1m \u001b[0m\u001b[1mmean     \u001b[0m\u001b[1m \u001b[0m┃\u001b[1m \u001b[0m\u001b[1msd      \u001b[0m\u001b[1m \u001b[0m┃\u001b[1m \u001b[0m\u001b[1mp0    \u001b[0m\u001b[1m \u001b[0m┃\u001b[1m \u001b[0m\u001b[1mp25   \u001b[0m\u001b[1m \u001b[0m┃\u001b[1m \u001b[0m\u001b[1mp50  \u001b[0m\u001b[1m \u001b[0m┃\u001b[1m \u001b[0m\u001b[1mp75   \u001b[0m\u001b[1m \u001b[0m┃\u001b[1m \u001b[0m\u001b[1mp100 \u001b[0m\u001b[1m \u001b[0m┃\u001b[1m \u001b[0m\u001b[1mhist   \u001b[0m\u001b[1m \u001b[0m┃  │\n",
       "│ ┡━━━━━━━━━━━━━━━━━╇━━━━━╇━━━━━━━━╇━━━━━━━━━━━╇━━━━━━━━━━╇━━━━━━━━╇━━━━━━━━╇━━━━━━━╇━━━━━━━━╇━━━━━━━╇━━━━━━━━━┩  │\n",
       "│ │ \u001b[38;5;141mdefault        \u001b[0m │ \u001b[36m  0\u001b[0m │ \u001b[36m     0\u001b[0m │ \u001b[36m        0\u001b[0m │ \u001b[36m       0\u001b[0m │ \u001b[36m     0\u001b[0m │ \u001b[36m     0\u001b[0m │ \u001b[36m    0\u001b[0m │ \u001b[36m     0\u001b[0m │ \u001b[36m    0\u001b[0m │ \u001b[32m    █  \u001b[0m │  │\n",
       "│ │ \u001b[38;5;141minstallment    \u001b[0m │ \u001b[36m  0\u001b[0m │ \u001b[36m     0\u001b[0m │ \u001b[36m    315.5\u001b[0m │ \u001b[36m   203.4\u001b[0m │ \u001b[36m    16\u001b[0m │ \u001b[36m   163\u001b[0m │ \u001b[36m  268\u001b[0m │ \u001b[36m 425.5\u001b[0m │ \u001b[36m  940\u001b[0m │ \u001b[32m▇█▅▃▂▁ \u001b[0m │  │\n",
       "│ │ \u001b[38;5;141mlog_income     \u001b[0m │ \u001b[36m  0\u001b[0m │ \u001b[36m     0\u001b[0m │ \u001b[36m    4.752\u001b[0m │ \u001b[36m  0.2607\u001b[0m │ \u001b[36m  3.28\u001b[0m │ \u001b[36m   4.6\u001b[0m │ \u001b[36m 4.75\u001b[0m │ \u001b[36m  4.91\u001b[0m │ \u001b[36m 6.31\u001b[0m │ \u001b[32m   █▆  \u001b[0m │  │\n",
       "│ │ \u001b[38;5;141mfico_score     \u001b[0m │ \u001b[36m  0\u001b[0m │ \u001b[36m     0\u001b[0m │ \u001b[36m    713.3\u001b[0m │ \u001b[36m   38.21\u001b[0m │ \u001b[36m   612\u001b[0m │ \u001b[36m   682\u001b[0m │ \u001b[36m  707\u001b[0m │ \u001b[36m   742\u001b[0m │ \u001b[36m  827\u001b[0m │ \u001b[32m ▆█▆▃▁ \u001b[0m │  │\n",
       "│ │ \u001b[38;5;141mrev_balance    \u001b[0m │ \u001b[36m  0\u001b[0m │ \u001b[36m     0\u001b[0m │ \u001b[36m    16.18\u001b[0m │ \u001b[36m   29.54\u001b[0m │ \u001b[36m     0\u001b[0m │ \u001b[36m  3.25\u001b[0m │ \u001b[36m 8.63\u001b[0m │ \u001b[36m    18\u001b[0m │ \u001b[36m  952\u001b[0m │ \u001b[32m   █   \u001b[0m │  │\n",
       "│ │ \u001b[38;5;141minquiries      \u001b[0m │ \u001b[36m  0\u001b[0m │ \u001b[36m     0\u001b[0m │ \u001b[36m    1.428\u001b[0m │ \u001b[36m   1.997\u001b[0m │ \u001b[36m     0\u001b[0m │ \u001b[36m     0\u001b[0m │ \u001b[36m    1\u001b[0m │ \u001b[36m     2\u001b[0m │ \u001b[36m   31\u001b[0m │ \u001b[32m   █   \u001b[0m │  │\n",
       "│ │ \u001b[38;5;141mrecords        \u001b[0m │ \u001b[36m  0\u001b[0m │ \u001b[36m     0\u001b[0m │ \u001b[36m  0.05654\u001b[0m │ \u001b[36m  0.2556\u001b[0m │ \u001b[36m     0\u001b[0m │ \u001b[36m     0\u001b[0m │ \u001b[36m    0\u001b[0m │ \u001b[36m     0\u001b[0m │ \u001b[36m    5\u001b[0m │ \u001b[32m   █   \u001b[0m │  │\n",
       "│ └─────────────────┴─────┴────────┴───────────┴──────────┴────────┴────────┴───────┴────────┴───────┴─────────┘  │\n",
       "╰────────────────────────────────────────────────────── End ──────────────────────────────────────────────────────╯\n"
      ]
     },
     "metadata": {},
     "output_type": "display_data"
    },
    {
     "data": {
      "text/html": [
       "<pre style=\"white-space:pre;overflow-x:auto;line-height:normal;font-family:Menlo,'DejaVu Sans Mono',consolas,'Courier New',monospace\">╭──────────────────────────────────────────────── skimpy summary ─────────────────────────────────────────────────╮\n",
       "│ <span style=\"font-style: italic\">         Data Summary         </span> <span style=\"font-style: italic\">      Data Types       </span>                                                          │\n",
       "│ ┏━━━━━━━━━━━━━━━━━━━┳━━━━━━━━┓ ┏━━━━━━━━━━━━━┳━━━━━━━┓                                                          │\n",
       "│ ┃<span style=\"color: #008080; text-decoration-color: #008080; font-weight: bold\"> Dataframe         </span>┃<span style=\"color: #008080; text-decoration-color: #008080; font-weight: bold\"> Values </span>┃ ┃<span style=\"color: #008080; text-decoration-color: #008080; font-weight: bold\"> Column Type </span>┃<span style=\"color: #008080; text-decoration-color: #008080; font-weight: bold\"> Count </span>┃                                                          │\n",
       "│ ┡━━━━━━━━━━━━━━━━━━━╇━━━━━━━━┩ ┡━━━━━━━━━━━━━╇━━━━━━━┩                                                          │\n",
       "│ │ Number of rows    │ 1521   │ │ int64       │ 5     │                                                          │\n",
       "│ │ Number of columns │ 7      │ │ float64     │ 2     │                                                          │\n",
       "│ └───────────────────┴────────┘ └─────────────┴───────┘                                                          │\n",
       "│ <span style=\"font-style: italic\">                                                    number                                                    </span>  │\n",
       "│ ┏━━━━━━━━━━━━━━━━━┳━━━━━━┳━━━━━━━━┳━━━━━━━━━━━━┳━━━━━━━━━━┳━━━━━━━┳━━━━━━━━┳━━━━━━━┳━━━━━━━┳━━━━━━━┳━━━━━━━━━┓  │\n",
       "│ ┃<span style=\"font-weight: bold\"> column          </span>┃<span style=\"font-weight: bold\"> NA   </span>┃<span style=\"font-weight: bold\"> NA %   </span>┃<span style=\"font-weight: bold\"> mean       </span>┃<span style=\"font-weight: bold\"> sd       </span>┃<span style=\"font-weight: bold\"> p0    </span>┃<span style=\"font-weight: bold\"> p25    </span>┃<span style=\"font-weight: bold\"> p50   </span>┃<span style=\"font-weight: bold\"> p75   </span>┃<span style=\"font-weight: bold\"> p100  </span>┃<span style=\"font-weight: bold\"> hist    </span>┃  │\n",
       "│ ┡━━━━━━━━━━━━━━━━━╇━━━━━━╇━━━━━━━━╇━━━━━━━━━━━━╇━━━━━━━━━━╇━━━━━━━╇━━━━━━━━╇━━━━━━━╇━━━━━━━╇━━━━━━━╇━━━━━━━━━┩  │\n",
       "│ │ <span style=\"color: #af87ff; text-decoration-color: #af87ff\">default        </span> │ <span style=\"color: #008080; text-decoration-color: #008080\">   0</span> │ <span style=\"color: #008080; text-decoration-color: #008080\">     0</span> │ <span style=\"color: #008080; text-decoration-color: #008080\">         1</span> │ <span style=\"color: #008080; text-decoration-color: #008080\">       0</span> │ <span style=\"color: #008080; text-decoration-color: #008080\">    1</span> │ <span style=\"color: #008080; text-decoration-color: #008080\">     1</span> │ <span style=\"color: #008080; text-decoration-color: #008080\">    1</span> │ <span style=\"color: #008080; text-decoration-color: #008080\">    1</span> │ <span style=\"color: #008080; text-decoration-color: #008080\">    1</span> │ <span style=\"color: #008000; text-decoration-color: #008000\">    █  </span> │  │\n",
       "│ │ <span style=\"color: #af87ff; text-decoration-color: #af87ff\">installment    </span> │ <span style=\"color: #008080; text-decoration-color: #008080\">   0</span> │ <span style=\"color: #008080; text-decoration-color: #008080\">     0</span> │ <span style=\"color: #008080; text-decoration-color: #008080\">     344.3</span> │ <span style=\"color: #008080; text-decoration-color: #008080\">   224.1</span> │ <span style=\"color: #008080; text-decoration-color: #008080\">   16</span> │ <span style=\"color: #008080; text-decoration-color: #008080\">   169</span> │ <span style=\"color: #008080; text-decoration-color: #008080\">  290</span> │ <span style=\"color: #008080; text-decoration-color: #008080\">  492</span> │ <span style=\"color: #008080; text-decoration-color: #008080\">  927</span> │ <span style=\"color: #008000; text-decoration-color: #008000\">▆█▅▃▂▂ </span> │  │\n",
       "│ │ <span style=\"color: #af87ff; text-decoration-color: #af87ff\">log_income     </span> │ <span style=\"color: #008080; text-decoration-color: #008080\">   0</span> │ <span style=\"color: #008080; text-decoration-color: #008080\">     0</span> │ <span style=\"color: #008080; text-decoration-color: #008080\">     4.731</span> │ <span style=\"color: #008080; text-decoration-color: #008080\">  0.2863</span> │ <span style=\"color: #008080; text-decoration-color: #008080\">  3.3</span> │ <span style=\"color: #008080; text-decoration-color: #008080\">  4.56</span> │ <span style=\"color: #008080; text-decoration-color: #008080\"> 4.73</span> │ <span style=\"color: #008080; text-decoration-color: #008080\">  4.9</span> │ <span style=\"color: #008080; text-decoration-color: #008080\"> 5.85</span> │ <span style=\"color: #008000; text-decoration-color: #008000\">   ▄█▂ </span> │  │\n",
       "│ │ <span style=\"color: #af87ff; text-decoration-color: #af87ff\">fico_score     </span> │ <span style=\"color: #008080; text-decoration-color: #008080\">   0</span> │ <span style=\"color: #008080; text-decoration-color: #008080\">     0</span> │ <span style=\"color: #008080; text-decoration-color: #008080\">     697.9</span> │ <span style=\"color: #008080; text-decoration-color: #008080\">   33.76</span> │ <span style=\"color: #008080; text-decoration-color: #008080\">  617</span> │ <span style=\"color: #008080; text-decoration-color: #008080\">   672</span> │ <span style=\"color: #008080; text-decoration-color: #008080\">  692</span> │ <span style=\"color: #008080; text-decoration-color: #008080\">  717</span> │ <span style=\"color: #008080; text-decoration-color: #008080\">  822</span> │ <span style=\"color: #008000; text-decoration-color: #008000\"> ▁██▄▁ </span> │  │\n",
       "│ │ <span style=\"color: #af87ff; text-decoration-color: #af87ff\">rev_balance    </span> │ <span style=\"color: #008080; text-decoration-color: #008080\">   0</span> │ <span style=\"color: #008080; text-decoration-color: #008080\">     0</span> │ <span style=\"color: #008080; text-decoration-color: #008080\">     21.23</span> │ <span style=\"color: #008080; text-decoration-color: #008080\">   50.07</span> │ <span style=\"color: #008080; text-decoration-color: #008080\">    0</span> │ <span style=\"color: #008080; text-decoration-color: #008080\">   3.4</span> │ <span style=\"color: #008080; text-decoration-color: #008080\"> 8.94</span> │ <span style=\"color: #008080; text-decoration-color: #008080\"> 20.7</span> │ <span style=\"color: #008080; text-decoration-color: #008080\"> 1207</span> │ <span style=\"color: #008000; text-decoration-color: #008000\">   █   </span> │  │\n",
       "│ │ <span style=\"color: #af87ff; text-decoration-color: #af87ff\">inquiries      </span> │ <span style=\"color: #008080; text-decoration-color: #008080\">   0</span> │ <span style=\"color: #008080; text-decoration-color: #008080\">     0</span> │ <span style=\"color: #008080; text-decoration-color: #008080\">     2.334</span> │ <span style=\"color: #008080; text-decoration-color: #008080\">   2.938</span> │ <span style=\"color: #008080; text-decoration-color: #008080\">    0</span> │ <span style=\"color: #008080; text-decoration-color: #008080\">     0</span> │ <span style=\"color: #008080; text-decoration-color: #008080\">    1</span> │ <span style=\"color: #008080; text-decoration-color: #008080\">    3</span> │ <span style=\"color: #008080; text-decoration-color: #008080\">   33</span> │ <span style=\"color: #008000; text-decoration-color: #008000\">  █▁   </span> │  │\n",
       "│ │ <span style=\"color: #af87ff; text-decoration-color: #af87ff\">records        </span> │ <span style=\"color: #008080; text-decoration-color: #008080\">   0</span> │ <span style=\"color: #008080; text-decoration-color: #008080\">     0</span> │ <span style=\"color: #008080; text-decoration-color: #008080\">   0.09204</span> │ <span style=\"color: #008080; text-decoration-color: #008080\">  0.2937</span> │ <span style=\"color: #008080; text-decoration-color: #008080\">    0</span> │ <span style=\"color: #008080; text-decoration-color: #008080\">     0</span> │ <span style=\"color: #008080; text-decoration-color: #008080\">    0</span> │ <span style=\"color: #008080; text-decoration-color: #008080\">    0</span> │ <span style=\"color: #008080; text-decoration-color: #008080\">    2</span> │ <span style=\"color: #008000; text-decoration-color: #008000\"> █  ▁  </span> │  │\n",
       "│ └─────────────────┴──────┴────────┴────────────┴──────────┴───────┴────────┴───────┴───────┴───────┴─────────┘  │\n",
       "╰────────────────────────────────────────────────────── End ──────────────────────────────────────────────────────╯\n",
       "</pre>\n"
      ],
      "text/plain": [
       "╭──────────────────────────────────────────────── skimpy summary ─────────────────────────────────────────────────╮\n",
       "│ \u001b[3m         Data Summary         \u001b[0m \u001b[3m      Data Types       \u001b[0m                                                          │\n",
       "│ ┏━━━━━━━━━━━━━━━━━━━┳━━━━━━━━┓ ┏━━━━━━━━━━━━━┳━━━━━━━┓                                                          │\n",
       "│ ┃\u001b[1;36m \u001b[0m\u001b[1;36mDataframe        \u001b[0m\u001b[1;36m \u001b[0m┃\u001b[1;36m \u001b[0m\u001b[1;36mValues\u001b[0m\u001b[1;36m \u001b[0m┃ ┃\u001b[1;36m \u001b[0m\u001b[1;36mColumn Type\u001b[0m\u001b[1;36m \u001b[0m┃\u001b[1;36m \u001b[0m\u001b[1;36mCount\u001b[0m\u001b[1;36m \u001b[0m┃                                                          │\n",
       "│ ┡━━━━━━━━━━━━━━━━━━━╇━━━━━━━━┩ ┡━━━━━━━━━━━━━╇━━━━━━━┩                                                          │\n",
       "│ │ Number of rows    │ 1521   │ │ int64       │ 5     │                                                          │\n",
       "│ │ Number of columns │ 7      │ │ float64     │ 2     │                                                          │\n",
       "│ └───────────────────┴────────┘ └─────────────┴───────┘                                                          │\n",
       "│ \u001b[3m                                                    number                                                    \u001b[0m  │\n",
       "│ ┏━━━━━━━━━━━━━━━━━┳━━━━━━┳━━━━━━━━┳━━━━━━━━━━━━┳━━━━━━━━━━┳━━━━━━━┳━━━━━━━━┳━━━━━━━┳━━━━━━━┳━━━━━━━┳━━━━━━━━━┓  │\n",
       "│ ┃\u001b[1m \u001b[0m\u001b[1mcolumn         \u001b[0m\u001b[1m \u001b[0m┃\u001b[1m \u001b[0m\u001b[1mNA  \u001b[0m\u001b[1m \u001b[0m┃\u001b[1m \u001b[0m\u001b[1mNA %  \u001b[0m\u001b[1m \u001b[0m┃\u001b[1m \u001b[0m\u001b[1mmean      \u001b[0m\u001b[1m \u001b[0m┃\u001b[1m \u001b[0m\u001b[1msd      \u001b[0m\u001b[1m \u001b[0m┃\u001b[1m \u001b[0m\u001b[1mp0   \u001b[0m\u001b[1m \u001b[0m┃\u001b[1m \u001b[0m\u001b[1mp25   \u001b[0m\u001b[1m \u001b[0m┃\u001b[1m \u001b[0m\u001b[1mp50  \u001b[0m\u001b[1m \u001b[0m┃\u001b[1m \u001b[0m\u001b[1mp75  \u001b[0m\u001b[1m \u001b[0m┃\u001b[1m \u001b[0m\u001b[1mp100 \u001b[0m\u001b[1m \u001b[0m┃\u001b[1m \u001b[0m\u001b[1mhist   \u001b[0m\u001b[1m \u001b[0m┃  │\n",
       "│ ┡━━━━━━━━━━━━━━━━━╇━━━━━━╇━━━━━━━━╇━━━━━━━━━━━━╇━━━━━━━━━━╇━━━━━━━╇━━━━━━━━╇━━━━━━━╇━━━━━━━╇━━━━━━━╇━━━━━━━━━┩  │\n",
       "│ │ \u001b[38;5;141mdefault        \u001b[0m │ \u001b[36m   0\u001b[0m │ \u001b[36m     0\u001b[0m │ \u001b[36m         1\u001b[0m │ \u001b[36m       0\u001b[0m │ \u001b[36m    1\u001b[0m │ \u001b[36m     1\u001b[0m │ \u001b[36m    1\u001b[0m │ \u001b[36m    1\u001b[0m │ \u001b[36m    1\u001b[0m │ \u001b[32m    █  \u001b[0m │  │\n",
       "│ │ \u001b[38;5;141minstallment    \u001b[0m │ \u001b[36m   0\u001b[0m │ \u001b[36m     0\u001b[0m │ \u001b[36m     344.3\u001b[0m │ \u001b[36m   224.1\u001b[0m │ \u001b[36m   16\u001b[0m │ \u001b[36m   169\u001b[0m │ \u001b[36m  290\u001b[0m │ \u001b[36m  492\u001b[0m │ \u001b[36m  927\u001b[0m │ \u001b[32m▆█▅▃▂▂ \u001b[0m │  │\n",
       "│ │ \u001b[38;5;141mlog_income     \u001b[0m │ \u001b[36m   0\u001b[0m │ \u001b[36m     0\u001b[0m │ \u001b[36m     4.731\u001b[0m │ \u001b[36m  0.2863\u001b[0m │ \u001b[36m  3.3\u001b[0m │ \u001b[36m  4.56\u001b[0m │ \u001b[36m 4.73\u001b[0m │ \u001b[36m  4.9\u001b[0m │ \u001b[36m 5.85\u001b[0m │ \u001b[32m   ▄█▂ \u001b[0m │  │\n",
       "│ │ \u001b[38;5;141mfico_score     \u001b[0m │ \u001b[36m   0\u001b[0m │ \u001b[36m     0\u001b[0m │ \u001b[36m     697.9\u001b[0m │ \u001b[36m   33.76\u001b[0m │ \u001b[36m  617\u001b[0m │ \u001b[36m   672\u001b[0m │ \u001b[36m  692\u001b[0m │ \u001b[36m  717\u001b[0m │ \u001b[36m  822\u001b[0m │ \u001b[32m ▁██▄▁ \u001b[0m │  │\n",
       "│ │ \u001b[38;5;141mrev_balance    \u001b[0m │ \u001b[36m   0\u001b[0m │ \u001b[36m     0\u001b[0m │ \u001b[36m     21.23\u001b[0m │ \u001b[36m   50.07\u001b[0m │ \u001b[36m    0\u001b[0m │ \u001b[36m   3.4\u001b[0m │ \u001b[36m 8.94\u001b[0m │ \u001b[36m 20.7\u001b[0m │ \u001b[36m 1207\u001b[0m │ \u001b[32m   █   \u001b[0m │  │\n",
       "│ │ \u001b[38;5;141minquiries      \u001b[0m │ \u001b[36m   0\u001b[0m │ \u001b[36m     0\u001b[0m │ \u001b[36m     2.334\u001b[0m │ \u001b[36m   2.938\u001b[0m │ \u001b[36m    0\u001b[0m │ \u001b[36m     0\u001b[0m │ \u001b[36m    1\u001b[0m │ \u001b[36m    3\u001b[0m │ \u001b[36m   33\u001b[0m │ \u001b[32m  █▁   \u001b[0m │  │\n",
       "│ │ \u001b[38;5;141mrecords        \u001b[0m │ \u001b[36m   0\u001b[0m │ \u001b[36m     0\u001b[0m │ \u001b[36m   0.09204\u001b[0m │ \u001b[36m  0.2937\u001b[0m │ \u001b[36m    0\u001b[0m │ \u001b[36m     0\u001b[0m │ \u001b[36m    0\u001b[0m │ \u001b[36m    0\u001b[0m │ \u001b[36m    2\u001b[0m │ \u001b[32m █  ▁  \u001b[0m │  │\n",
       "│ └─────────────────┴──────┴────────┴────────────┴──────────┴───────┴────────┴───────┴───────┴───────┴─────────┘  │\n",
       "╰────────────────────────────────────────────────────── End ──────────────────────────────────────────────────────╯\n"
      ]
     },
     "metadata": {},
     "output_type": "display_data"
    }
   ],
   "source": [
    "skim(df[df['default'] == 0])\n",
    "skim(df[df['default'] == 1])"
   ]
  },
  {
   "cell_type": "markdown",
   "metadata": {},
   "source": [
    "<span style=\"color: cyan;\">\n",
    "\n",
    "This code counts the occurrences of each unique value in the `'default'` column of the DataFrame `df`. The `value_counts()` method returns a Series where the index represents the unique values found in the column (such as `0` and `1`, or `'yes'` and `'no'`), and the values represent how many times each appears in the column. This is useful for quickly summarizing the distribution of categorical data, such as checking how many customers have defaulted versus those who have not in a credit risk dataset."
   ]
  },
  {
   "cell_type": "code",
   "execution_count": 8,
   "metadata": {},
   "outputs": [
    {
     "data": {
      "application/vnd.microsoft.datawrangler.viewer.v0+json": {
       "columns": [
        {
         "name": "default",
         "rawType": "int64",
         "type": "integer"
        },
        {
         "name": "count",
         "rawType": "int64",
         "type": "integer"
        }
       ],
       "ref": "cf0df82e-212f-49e5-9517-090503acce1e",
       "rows": [
        [
         "0",
         "7995"
        ],
        [
         "1",
         "1521"
        ]
       ],
       "shape": {
        "columns": 1,
        "rows": 2
       }
      },
      "text/plain": [
       "default\n",
       "0    7995\n",
       "1    1521\n",
       "Name: count, dtype: int64"
      ]
     },
     "execution_count": 8,
     "metadata": {},
     "output_type": "execute_result"
    }
   ],
   "source": [
    "df['default'].value_counts()"
   ]
  },
  {
   "cell_type": "markdown",
   "metadata": {},
   "source": [
    "<span style=\"color: cyan;\">\n",
    "\n",
    "The code `df.head()` displays the first five rows of the DataFrame `df`. This method is commonly used in data analysis to quickly inspect the initial entries of a dataset. By viewing these rows, you can verify that the data has been loaded correctly, check the column names, and get an initial sense of the structure and contents of the DataFrame before performing further analysis or processing."
   ]
  },
  {
   "cell_type": "code",
   "execution_count": 9,
   "metadata": {},
   "outputs": [
    {
     "data": {
      "application/vnd.microsoft.datawrangler.viewer.v0+json": {
       "columns": [
        {
         "name": "index",
         "rawType": "int64",
         "type": "integer"
        },
        {
         "name": "default",
         "rawType": "int64",
         "type": "integer"
        },
        {
         "name": "installment",
         "rawType": "int64",
         "type": "integer"
        },
        {
         "name": "log_income",
         "rawType": "float64",
         "type": "float"
        },
        {
         "name": "fico_score",
         "rawType": "int64",
         "type": "integer"
        },
        {
         "name": "rev_balance",
         "rawType": "float64",
         "type": "float"
        },
        {
         "name": "inquiries",
         "rawType": "int64",
         "type": "integer"
        },
        {
         "name": "records",
         "rawType": "int64",
         "type": "integer"
        }
       ],
       "ref": "b5fc0172-a573-474d-8d30-cbb9dda26e5e",
       "rows": [
        [
         "0",
         "0",
         "829",
         "4.93",
         "737",
         "28.85",
         "0",
         "0"
        ],
        [
         "1",
         "0",
         "228",
         "4.81",
         "707",
         "33.62",
         "0",
         "0"
        ],
        [
         "2",
         "0",
         "367",
         "4.51",
         "682",
         "3.51",
         "1",
         "0"
        ],
        [
         "3",
         "0",
         "162",
         "4.93",
         "712",
         "33.67",
         "1",
         "0"
        ],
        [
         "4",
         "0",
         "103",
         "4.91",
         "667",
         "4.74",
         "0",
         "0"
        ]
       ],
       "shape": {
        "columns": 7,
        "rows": 5
       }
      },
      "text/html": [
       "<div>\n",
       "<style scoped>\n",
       "    .dataframe tbody tr th:only-of-type {\n",
       "        vertical-align: middle;\n",
       "    }\n",
       "\n",
       "    .dataframe tbody tr th {\n",
       "        vertical-align: top;\n",
       "    }\n",
       "\n",
       "    .dataframe thead th {\n",
       "        text-align: right;\n",
       "    }\n",
       "</style>\n",
       "<table border=\"1\" class=\"dataframe\">\n",
       "  <thead>\n",
       "    <tr style=\"text-align: right;\">\n",
       "      <th></th>\n",
       "      <th>default</th>\n",
       "      <th>installment</th>\n",
       "      <th>log_income</th>\n",
       "      <th>fico_score</th>\n",
       "      <th>rev_balance</th>\n",
       "      <th>inquiries</th>\n",
       "      <th>records</th>\n",
       "    </tr>\n",
       "  </thead>\n",
       "  <tbody>\n",
       "    <tr>\n",
       "      <th>0</th>\n",
       "      <td>0</td>\n",
       "      <td>829</td>\n",
       "      <td>4.93</td>\n",
       "      <td>737</td>\n",
       "      <td>28.85</td>\n",
       "      <td>0</td>\n",
       "      <td>0</td>\n",
       "    </tr>\n",
       "    <tr>\n",
       "      <th>1</th>\n",
       "      <td>0</td>\n",
       "      <td>228</td>\n",
       "      <td>4.81</td>\n",
       "      <td>707</td>\n",
       "      <td>33.62</td>\n",
       "      <td>0</td>\n",
       "      <td>0</td>\n",
       "    </tr>\n",
       "    <tr>\n",
       "      <th>2</th>\n",
       "      <td>0</td>\n",
       "      <td>367</td>\n",
       "      <td>4.51</td>\n",
       "      <td>682</td>\n",
       "      <td>3.51</td>\n",
       "      <td>1</td>\n",
       "      <td>0</td>\n",
       "    </tr>\n",
       "    <tr>\n",
       "      <th>3</th>\n",
       "      <td>0</td>\n",
       "      <td>162</td>\n",
       "      <td>4.93</td>\n",
       "      <td>712</td>\n",
       "      <td>33.67</td>\n",
       "      <td>1</td>\n",
       "      <td>0</td>\n",
       "    </tr>\n",
       "    <tr>\n",
       "      <th>4</th>\n",
       "      <td>0</td>\n",
       "      <td>103</td>\n",
       "      <td>4.91</td>\n",
       "      <td>667</td>\n",
       "      <td>4.74</td>\n",
       "      <td>0</td>\n",
       "      <td>0</td>\n",
       "    </tr>\n",
       "  </tbody>\n",
       "</table>\n",
       "</div>"
      ],
      "text/plain": [
       "   default  installment  log_income  fico_score  rev_balance  inquiries  records\n",
       "0        0          829        4.93         737        28.85          0        0\n",
       "1        0          228        4.81         707        33.62          0        0\n",
       "2        0          367        4.51         682         3.51          1        0\n",
       "3        0          162        4.93         712        33.67          1        0\n",
       "4        0          103        4.91         667         4.74          0        0"
      ]
     },
     "execution_count": 9,
     "metadata": {},
     "output_type": "execute_result"
    }
   ],
   "source": [
    "df.head()"
   ]
  },
  {
   "cell_type": "markdown",
   "metadata": {},
   "source": [
    "<span style=\"color: cyan;\">\n",
    "\n",
    "This code visualizes the distribution of four selected features in the DataFrame `df`: `'fico_score'`, `'log_income'`, `'installment'`, and `'rev_balance'`. It iterates over each feature in the `features` list and creates a histogram using Seaborn's `histplot` function. The `kde=True` argument adds a Kernel Density Estimate curve to the plot, providing a smoothed view of the data distribution.\n",
    "\n",
    "For each feature, the plot is titled with its name for clarity, and `plt.show()` displays the histogram in the output pane. This approach helps you quickly assess the shape, spread, and potential outliers of each variable, which is useful for understanding the data and identifying preprocessing needs before modeling."
   ]
  },
  {
   "cell_type": "code",
   "execution_count": 10,
   "metadata": {
    "colab": {
     "base_uri": "https://localhost:8080/",
     "height": 1000
    },
    "executionInfo": {
     "elapsed": 6264,
     "status": "ok",
     "timestamp": 1740083233587,
     "user": {
      "displayName": "Pablo Aguirre Solana",
      "userId": "09295983483986446252"
     },
     "user_tz": 360
    },
    "id": "FKrc32OSvVRR",
    "outputId": "30e11507-3bf4-45f5-f0ca-bd503cddaf8a"
   },
   "outputs": [
    {
     "data": {
      "image/png": "[encoded data removed]",
      "text/plain": [
       "<Figure size 640x480 with 1 Axes>"
      ]
     },
     "metadata": {},
     "output_type": "display_data"
    },
    {
     "data": {
      "image/png": "[encoded data removed]",
      "text/plain": [
       "<Figure size 640x480 with 1 Axes>"
      ]
     },
     "metadata": {},
     "output_type": "display_data"
    },
    {
     "data": {
      "image/png": "[encoded data removed]",
      "text/plain": [
       "<Figure size 640x480 with 1 Axes>"
      ]
     },
     "metadata": {},
     "output_type": "display_data"
    },
    {
     "data": {
      "image/png": "[encoded data removed]",
      "text/plain": [
       "<Figure size 640x480 with 1 Axes>"
      ]
     },
     "metadata": {},
     "output_type": "display_data"
    }
   ],
   "source": [
    "features = ['fico_score', 'log_income', 'installment', 'rev_balance']\n",
    "for feature in features:\n",
    "    sns.histplot(df[feature], kde=True)\n",
    "    plt.title(f'Distribution of {feature}')\n",
    "    plt.show()"
   ]
  },
  {
   "cell_type": "markdown",
   "metadata": {},
   "source": [
    "<span style=\"color: cyan;\">\n",
    "\n",
    "The code `df.head()` displays the first five rows of the DataFrame `df`. This method is commonly used in data analysis to quickly inspect the initial entries of a dataset. By viewing these rows, you can verify that the data has been loaded correctly, check the column names, and get an initial sense of the structure and contents of the DataFrame before performing further analysis or processing."
   ]
  },
  {
   "cell_type": "code",
   "execution_count": 11,
   "metadata": {},
   "outputs": [
    {
     "data": {
      "application/vnd.microsoft.datawrangler.viewer.v0+json": {
       "columns": [
        {
         "name": "index",
         "rawType": "int64",
         "type": "integer"
        },
        {
         "name": "default",
         "rawType": "int64",
         "type": "integer"
        },
        {
         "name": "installment",
         "rawType": "int64",
         "type": "integer"
        },
        {
         "name": "log_income",
         "rawType": "float64",
         "type": "float"
        },
        {
         "name": "fico_score",
         "rawType": "int64",
         "type": "integer"
        },
        {
         "name": "rev_balance",
         "rawType": "float64",
         "type": "float"
        },
        {
         "name": "inquiries",
         "rawType": "int64",
         "type": "integer"
        },
        {
         "name": "records",
         "rawType": "int64",
         "type": "integer"
        }
       ],
       "ref": "8e9648de-a68e-4d25-a567-ed3064ecce6e",
       "rows": [
        [
         "0",
         "0",
         "829",
         "4.93",
         "737",
         "28.85",
         "0",
         "0"
        ],
        [
         "1",
         "0",
         "228",
         "4.81",
         "707",
         "33.62",
         "0",
         "0"
        ],
        [
         "2",
         "0",
         "367",
         "4.51",
         "682",
         "3.51",
         "1",
         "0"
        ],
        [
         "3",
         "0",
         "162",
         "4.93",
         "712",
         "33.67",
         "1",
         "0"
        ],
        [
         "4",
         "0",
         "103",
         "4.91",
         "667",
         "4.74",
         "0",
         "0"
        ]
       ],
       "shape": {
        "columns": 7,
        "rows": 5
       }
      },
      "text/html": [
       "<div>\n",
       "<style scoped>\n",
       "    .dataframe tbody tr th:only-of-type {\n",
       "        vertical-align: middle;\n",
       "    }\n",
       "\n",
       "    .dataframe tbody tr th {\n",
       "        vertical-align: top;\n",
       "    }\n",
       "\n",
       "    .dataframe thead th {\n",
       "        text-align: right;\n",
       "    }\n",
       "</style>\n",
       "<table border=\"1\" class=\"dataframe\">\n",
       "  <thead>\n",
       "    <tr style=\"text-align: right;\">\n",
       "      <th></th>\n",
       "      <th>default</th>\n",
       "      <th>installment</th>\n",
       "      <th>log_income</th>\n",
       "      <th>fico_score</th>\n",
       "      <th>rev_balance</th>\n",
       "      <th>inquiries</th>\n",
       "      <th>records</th>\n",
       "    </tr>\n",
       "  </thead>\n",
       "  <tbody>\n",
       "    <tr>\n",
       "      <th>0</th>\n",
       "      <td>0</td>\n",
       "      <td>829</td>\n",
       "      <td>4.93</td>\n",
       "      <td>737</td>\n",
       "      <td>28.85</td>\n",
       "      <td>0</td>\n",
       "      <td>0</td>\n",
       "    </tr>\n",
       "    <tr>\n",
       "      <th>1</th>\n",
       "      <td>0</td>\n",
       "      <td>228</td>\n",
       "      <td>4.81</td>\n",
       "      <td>707</td>\n",
       "      <td>33.62</td>\n",
       "      <td>0</td>\n",
       "      <td>0</td>\n",
       "    </tr>\n",
       "    <tr>\n",
       "      <th>2</th>\n",
       "      <td>0</td>\n",
       "      <td>367</td>\n",
       "      <td>4.51</td>\n",
       "      <td>682</td>\n",
       "      <td>3.51</td>\n",
       "      <td>1</td>\n",
       "      <td>0</td>\n",
       "    </tr>\n",
       "    <tr>\n",
       "      <th>3</th>\n",
       "      <td>0</td>\n",
       "      <td>162</td>\n",
       "      <td>4.93</td>\n",
       "      <td>712</td>\n",
       "      <td>33.67</td>\n",
       "      <td>1</td>\n",
       "      <td>0</td>\n",
       "    </tr>\n",
       "    <tr>\n",
       "      <th>4</th>\n",
       "      <td>0</td>\n",
       "      <td>103</td>\n",
       "      <td>4.91</td>\n",
       "      <td>667</td>\n",
       "      <td>4.74</td>\n",
       "      <td>0</td>\n",
       "      <td>0</td>\n",
       "    </tr>\n",
       "  </tbody>\n",
       "</table>\n",
       "</div>"
      ],
      "text/plain": [
       "   default  installment  log_income  fico_score  rev_balance  inquiries  records\n",
       "0        0          829        4.93         737        28.85          0        0\n",
       "1        0          228        4.81         707        33.62          0        0\n",
       "2        0          367        4.51         682         3.51          1        0\n",
       "3        0          162        4.93         712        33.67          1        0\n",
       "4        0          103        4.91         667         4.74          0        0"
      ]
     },
     "execution_count": 11,
     "metadata": {},
     "output_type": "execute_result"
    }
   ],
   "source": [
    "df.head()"
   ]
  },
  {
   "cell_type": "markdown",
   "metadata": {},
   "source": [
    "<span style=\"color: cyan;\">\n",
    "\n",
    "This code prepares the dataset for modeling and addresses class imbalance using the Synthetic Minority Over-sampling Technique (SMOTE). First, it separates the features (`X`) from the target variable (`y`) by dropping the `'default'` column from the DataFrame `df` and assigning it to `X`, while `y` is set to the `'default'` column itself.\n",
    "\n",
    "Next, it creates an instance of the `SMOTE` class, which is used to generate synthetic samples for the minority class in imbalanced datasets. The `fit_resample` method is then applied to `X` and `y`, producing new feature and target arrays (`X_res` and `y_res`) with balanced class distributions.\n",
    "\n",
    "Finally, `y_res.value_counts()` is called to display the number of samples in each class after resampling. This helps confirm that SMOTE has successfully balanced the dataset, which is important for improving the performance and fairness of classification models."
   ]
  },
  {
   "cell_type": "code",
   "execution_count": 12,
   "metadata": {
    "colab": {
     "base_uri": "https://localhost:8080/"
    },
    "executionInfo": {
     "elapsed": 1852,
     "status": "ok",
     "timestamp": 1740083282254,
     "user": {
      "displayName": "Pablo Aguirre Solana",
      "userId": "09295983483986446252"
     },
     "user_tz": 360
    },
    "id": "dSk2yEk-wVsx",
    "outputId": "18fc84d0-6e21-44d7-90bc-a735567494fe"
   },
   "outputs": [
    {
     "data": {
      "application/vnd.microsoft.datawrangler.viewer.v0+json": {
       "columns": [
        {
         "name": "default",
         "rawType": "int64",
         "type": "integer"
        },
        {
         "name": "count",
         "rawType": "int64",
         "type": "integer"
        }
       ],
       "ref": "f47dad51-76e1-4006-aa3a-d8bd6286502b",
       "rows": [
        [
         "0",
         "7995"
        ],
        [
         "1",
         "7995"
        ]
       ],
       "shape": {
        "columns": 1,
        "rows": 2
       }
      },
      "text/plain": [
       "default\n",
       "0    7995\n",
       "1    7995\n",
       "Name: count, dtype: int64"
      ]
     },
     "execution_count": 12,
     "metadata": {},
     "output_type": "execute_result"
    }
   ],
   "source": [
    "X            = df.drop('default', axis=1)\n",
    "y            = df['default']\n",
    "smote        = SMOTE()\n",
    "X_res, y_res = smote.fit_resample(X, y)\n",
    "y_res.value_counts()"
   ]
  },
  {
   "cell_type": "markdown",
   "metadata": {},
   "source": [
    "<span style=\"color: cyan;\">\n",
    "\n",
    "This code snippet performs several key steps in preparing and fitting a logistic regression model using the `statsmodels` library in Python. Here's a detailed explanation of each step:\n",
    "\n",
    "1. **Splitting the Data**:\n",
    "   - `X_train, X_val, y_train, y_val = train_test_split(X_res, y_res, test_size=0.2, _split`: This line splits the resampled feature matrix (`X_res`) and target variable (`y_res`) into training and validation sets. The `train_test_split` function from `sklearn.model_selection` is used to randomly split the data. The `test_size=0.2` parameter specifies that 20% of the data should be used for validation, while the remaining 80% is used for training. The `random_state=42` parameter ensures that the split is reproducible.\n",
    "\n",
    "2. **Adding a Constant Term**:\n",
    "   - `X_train_sm =`: This line adds a constant term (intercept) to the training feature matrix (`X_train`). The `add_constant` function from `statsmodels` is used to add a column of ones to the feature matrix, which is necessary for fitting an intercept in the logistic regression model.\n",
    "\n",
    "3. **Defining the Logistic Regression Model**:\n",
    "   - `logit_model = sm.Logit(y_train, X_train_sm, method='bfgs'`: This line defines a logistic regression model using the `Logit` class from `statsmodels`. The model is specified with the training target variable (`y_train`) and the training feature matrix with the added constant (`X_train_sm`). The `method='bfgs'` parameter specifies that the Broyden–Fletcher–Goldfarb–Shanno (BFGS) algorithm should be used for optimization. The `maxiter=2000` parameter sets the maximum number of iterations for the optimization algorithm to 2000.\n",
    "\n",
    "4. **Fitting the Model**:\n",
    "   - `result = logit_model.fit(max_iter=2000)`: This line fits the logistic regression model to the training data. The `fit` method is called on the `logit_model` object, and the `max_iter=2000` parameter ensures that the optimization algorithm has sufficient iterations to converge. The result of the fitting process is stored in the `result` object, which contains various details about the fitted model.\n",
    "\n",
    "5. **Displaying the Model Summary**:\n",
    "   - This line prints a summary of the fitted logistic regression model. The `summary` method of the `result` object generates a detailed report that includes information such as the coefficients of the model, standard errors, z-values, p-values, and various goodness-of-fit statistics. This summary is useful for interpreting the results of the logistic regression analysis and understanding the significance of the predictors.\n",
    "\n",
    "By executing this code, you can train a logistic regression model on the resampled dataset, ensuring that the model accounts for class imbalance. The model summary provides valuable insights into the relationships between the predictors and the target variable, helping you to evaluate the model's performance and interpret its coefficients."
   ]
  },
  {
   "cell_type": "code",
   "execution_count": 13,
   "metadata": {
    "colab": {
     "base_uri": "https://localhost:8080/"
    },
    "executionInfo": {
     "elapsed": 3002,
     "status": "ok",
     "timestamp": 1740083444004,
     "user": {
      "displayName": "Pablo Aguirre Solana",
      "userId": "09295983483986446252"
     },
     "user_tz": 360
    },
    "id": "8eLsU8n_Dh-i",
    "outputId": "a2d1dbec-f5f4-4340-e1c3-910ab4e84e2b"
   },
   "outputs": [
    {
     "name": "stdout",
     "output_type": "stream",
     "text": [
      "Optimization terminated successfully.\n",
      "         Current function value: 0.654840\n",
      "         Iterations 5\n"
     ]
    },
    {
     "data": {
      "text/html": [
       "<table class=\"simpletable\">\n",
       "<caption>Logit Regression Results</caption>\n",
       "<tr>\n",
       "  <th>Dep. Variable:</th>        <td>default</td>     <th>  No. Observations:  </th>   <td> 12792</td>  \n",
       "</tr>\n",
       "<tr>\n",
       "  <th>Model:</th>                 <td>Logit</td>      <th>  Df Residuals:      </th>   <td> 12785</td>  \n",
       "</tr>\n",
       "<tr>\n",
       "  <th>Method:</th>                 <td>MLE</td>       <th>  Df Model:          </th>   <td>     6</td>  \n",
       "</tr>\n",
       "<tr>\n",
       "  <th>Date:</th>            <td>Sun, 27 Jul 2025</td> <th>  Pseudo R-squ.:     </th>   <td>0.05527</td> \n",
       "</tr>\n",
       "<tr>\n",
       "  <th>Time:</th>                <td>12:54:32</td>     <th>  Log-Likelihood:    </th>  <td> -8376.7</td> \n",
       "</tr>\n",
       "<tr>\n",
       "  <th>converged:</th>             <td>True</td>       <th>  LL-Null:           </th>  <td> -8866.7</td> \n",
       "</tr>\n",
       "<tr>\n",
       "  <th>Covariance Type:</th>     <td>nonrobust</td>    <th>  LLR p-value:       </th> <td>1.849e-208</td>\n",
       "</tr>\n",
       "</table>\n",
       "<table class=\"simpletable\">\n",
       "<tr>\n",
       "       <td></td>          <th>coef</th>     <th>std err</th>      <th>z</th>      <th>P>|z|</th>  <th>[0.025</th>    <th>0.975]</th>  \n",
       "</tr>\n",
       "<tr>\n",
       "  <th>const</th>       <td>   12.4767</td> <td>    0.548</td> <td>   22.773</td> <td> 0.000</td> <td>   11.403</td> <td>   13.551</td>\n",
       "</tr>\n",
       "<tr>\n",
       "  <th>installment</th> <td>    0.0013</td> <td>    0.000</td> <td>   13.173</td> <td> 0.000</td> <td>    0.001</td> <td>    0.002</td>\n",
       "</tr>\n",
       "<tr>\n",
       "  <th>log_income</th>  <td>   -0.9423</td> <td>    0.091</td> <td>  -10.384</td> <td> 0.000</td> <td>   -1.120</td> <td>   -0.764</td>\n",
       "</tr>\n",
       "<tr>\n",
       "  <th>fico_score</th>  <td>   -0.0122</td> <td>    0.001</td> <td>  -22.492</td> <td> 0.000</td> <td>   -0.013</td> <td>   -0.011</td>\n",
       "</tr>\n",
       "<tr>\n",
       "  <th>rev_balance</th> <td>    0.0039</td> <td>    0.001</td> <td>    5.843</td> <td> 0.000</td> <td>    0.003</td> <td>    0.005</td>\n",
       "</tr>\n",
       "<tr>\n",
       "  <th>inquiries</th>   <td>    0.0783</td> <td>    0.009</td> <td>    8.534</td> <td> 0.000</td> <td>    0.060</td> <td>    0.096</td>\n",
       "</tr>\n",
       "<tr>\n",
       "  <th>records</th>     <td>   -0.8798</td> <td>    0.093</td> <td>   -9.470</td> <td> 0.000</td> <td>   -1.062</td> <td>   -0.698</td>\n",
       "</tr>\n",
       "</table>"
      ],
      "text/latex": [
       "\\begin{center}\n",
       "\\begin{tabular}{lclc}\n",
       "\\toprule\n",
       "\\textbf{Dep. Variable:}   &     default      & \\textbf{  No. Observations:  } &    12792    \\\\\n",
       "\\textbf{Model:}           &      Logit       & \\textbf{  Df Residuals:      } &    12785    \\\\\n",
       "\\textbf{Method:}          &       MLE        & \\textbf{  Df Model:          } &        6    \\\\\n",
       "\\textbf{Date:}            & Sun, 27 Jul 2025 & \\textbf{  Pseudo R-squ.:     } &  0.05527    \\\\\n",
       "\\textbf{Time:}            &     12:54:32     & \\textbf{  Log-Likelihood:    } &   -8376.7   \\\\\n",
       "\\textbf{converged:}       &       True       & \\textbf{  LL-Null:           } &   -8866.7   \\\\\n",
       "\\textbf{Covariance Type:} &    nonrobust     & \\textbf{  LLR p-value:       } & 1.849e-208  \\\\\n",
       "\\bottomrule\n",
       "\\end{tabular}\n",
       "\\begin{tabular}{lcccccc}\n",
       "                      & \\textbf{coef} & \\textbf{std err} & \\textbf{z} & \\textbf{P$> |$z$|$} & \\textbf{[0.025} & \\textbf{0.975]}  \\\\\n",
       "\\midrule\n",
       "\\textbf{const}        &      12.4767  &        0.548     &    22.773  &         0.000        &       11.403    &       13.551     \\\\\n",
       "\\textbf{installment}  &       0.0013  &        0.000     &    13.173  &         0.000        &        0.001    &        0.002     \\\\\n",
       "\\textbf{log\\_income}  &      -0.9423  &        0.091     &   -10.384  &         0.000        &       -1.120    &       -0.764     \\\\\n",
       "\\textbf{fico\\_score}  &      -0.0122  &        0.001     &   -22.492  &         0.000        &       -0.013    &       -0.011     \\\\\n",
       "\\textbf{rev\\_balance} &       0.0039  &        0.001     &     5.843  &         0.000        &        0.003    &        0.005     \\\\\n",
       "\\textbf{inquiries}    &       0.0783  &        0.009     &     8.534  &         0.000        &        0.060    &        0.096     \\\\\n",
       "\\textbf{records}      &      -0.8798  &        0.093     &    -9.470  &         0.000        &       -1.062    &       -0.698     \\\\\n",
       "\\bottomrule\n",
       "\\end{tabular}\n",
       "%\\caption{Logit Regression Results}\n",
       "\\end{center}"
      ],
      "text/plain": [
       "<class 'statsmodels.iolib.summary.Summary'>\n",
       "\"\"\"\n",
       "                           Logit Regression Results                           \n",
       "==============================================================================\n",
       "Dep. Variable:                default   No. Observations:                12792\n",
       "Model:                          Logit   Df Residuals:                    12785\n",
       "Method:                           MLE   Df Model:                            6\n",
       "Date:                Sun, 27 Jul 2025   Pseudo R-squ.:                 0.05527\n",
       "Time:                        12:54:32   Log-Likelihood:                -8376.7\n",
       "converged:                       True   LL-Null:                       -8866.7\n",
       "Covariance Type:            nonrobust   LLR p-value:                1.849e-208\n",
       "===============================================================================\n",
       "                  coef    std err          z      P>|z|      [0.025      0.975]\n",
       "-------------------------------------------------------------------------------\n",
       "const          12.4767      0.548     22.773      0.000      11.403      13.551\n",
       "installment     0.0013      0.000     13.173      0.000       0.001       0.002\n",
       "log_income     -0.9423      0.091    -10.384      0.000      -1.120      -0.764\n",
       "fico_score     -0.0122      0.001    -22.492      0.000      -0.013      -0.011\n",
       "rev_balance     0.0039      0.001      5.843      0.000       0.003       0.005\n",
       "inquiries       0.0783      0.009      8.534      0.000       0.060       0.096\n",
       "records        -0.8798      0.093     -9.470      0.000      -1.062      -0.698\n",
       "===============================================================================\n",
       "\"\"\""
      ]
     },
     "execution_count": 13,
     "metadata": {},
     "output_type": "execute_result"
    }
   ],
   "source": [
    "X_train, X_val, y_train, y_val = train_test_split(X_res, y_res, test_size=0.2, random_state=42)\n",
    "X_train_sm  = sm.add_constant(X_train)\n",
    "logit_model = sm.Logit(y_train, X_train_sm, method='bfgs', maxiter=2000)\n",
    "result      = logit_model.fit(max_iter=2000)\n",
    "result.summary()"
   ]
  },
  {
   "cell_type": "markdown",
   "metadata": {},
   "source": [
    "<span style=\"color: cyan;\">\n",
    "\n",
    "This code performs several key steps in training and evaluating a logistic regression model using the `scikit-learn` library in Python. Here's a detailed explanation of each step:\n",
    "\n",
    "1. **Splitting the Data**:\n",
    "   - `X_train, X_val, y_train, y_val = train_test_split(X_res, y_res, test_size=0.2`: This line splits the resampled feature matrix (`X_res`) and target variable (`y_res`) into training and validation sets. The `train_test_split` function from `sklearn.model_selection` is used to randomly split the data. The `test_size=0.2` parameter specifies that 20% of the data should be used for validation, while the remaining 80% is used for training. The `random_state=42` parameter ensures that the split is reproducible.\n",
    "\n",
    "2. **Defining and Training the Logistic Regression Model**:\n",
    "   - `model = `: This line initializes a logistic regression model using the `LogisticRegression` class from `scikit-learn`. The `max_iter=1000` parameter sets the maximum number of iterations for the optimization algorithm to 1000, ensuring that the model has sufficient iterations to converge.\n",
    "   - `model.fit(X_train,y_train`: This line fits the logistic regression model to the training data. The `fit` method is called on the `model` object, using the training feature matrix (`X_train`) and the training target variable (`y_train`). This step trains the model by finding the optimal coefficients that minimize the logistic loss function.\n",
    "\n",
    "3. **Making Predictions**:\n",
    "   - `y_pred =`: This line uses the trained logistic regression model to make predictions on the validation set. The `predict` method is called on the `model` object, using the validation feature matrix (`X_val`). The predicted labels are stored in the `y_pred` variable.\n",
    "\n",
    "4. **Evaluating the Model**:\n",
    "   - `print(\"Accuracy:\", accuracy_score(y_val,y_pred)`: This line calculates and prints the accuracy of the model on the validation set. The `accuracy_score` function from `sklearn.metrics` is used to compute the accuracy, which is the fraction of correctly classified samples. The true labels (`y_val`) and the predicted labels (`y_pred`) are passed as arguments to the function.\n",
    "   - `print(\"Confusion Matrix:\\n\", confusion_matrix(y_val, y_pred)`: This line calculates and prints the confusion matrix for the validation set. The `confusion_matrix` function from `sklearn.metrics` is used to compute the confusion matrix, which provides a summary of the prediction results by showing the counts of true positives, true negatives, false positives, and false negatives. The true labels (`y_val`) and the predicted labels (`y_pred`) are passed as arguments to the function.\n",
    "\n",
    "By executing this code, you can train a logistic regression model on the resampled dataset, make predictions on the validation set, and evaluate the model's performance using accuracy and the confusion matrix. These evaluation metrics provide insights into how well the model is performing and help identify areas for improvement."
   ]
  },
  {
   "cell_type": "code",
   "execution_count": 14,
   "metadata": {
    "colab": {
     "base_uri": "https://localhost:8080/"
    },
    "executionInfo": {
     "elapsed": 113,
     "status": "ok",
     "timestamp": 1740083301101,
     "user": {
      "displayName": "Pablo Aguirre Solana",
      "userId": "09295983483986446252"
     },
     "user_tz": 360
    },
    "id": "mraEV2-pwhYw",
    "outputId": "6ac81fdd-268e-42e8-f42a-b4a2905b8e2b"
   },
   "outputs": [
    {
     "name": "stdout",
     "output_type": "stream",
     "text": [
      "Accuracy: 0.6053783614759225\n",
      "Confusion Matrix:\n",
      " [[ 908  690]\n",
      " [ 572 1028]]\n"
     ]
    }
   ],
   "source": [
    "X_train, X_val, y_train, y_val = train_test_split(X_res, y_res, test_size=0.2, random_state=42)\n",
    "model = LogisticRegression(max_iter=1000)\n",
    "model.fit(X_train, y_train)\n",
    "y_pred = model.predict(X_val)\n",
    "print(\"Accuracy:\", accuracy_score(y_val, y_pred))\n",
    "print(\"Confusion Matrix:\\n\", confusion_matrix(y_val, y_pred))"
   ]
  },
  {
   "cell_type": "markdown",
   "metadata": {},
   "source": [
    "<span style=\"color: cyan;\">\n",
    "\n",
    "This code performs several key steps in preprocessing the data, training a logistic regression model, and evaluating its performance using the `scikit-learn` library in Python. Here's a detailed explanation of each step:\n",
    "\n",
    "1. **Standardizing the Data**:\n",
    "   - `scaler =`: This line initializes an instance of the `StandardScaler` class from `scikit-learn`. The `StandardScaler` standardizes features by removing the mean and scaling to unit variance, which is a common preprocessing step for many machine learning algorithms.\n",
    "   - `X_train_scaled =`: This line fits the `StandardScaler` to the training data (`X_train`) and then transforms it. The `fit_transform` method computes the mean and standard deviation of the training data and scales it accordingly.\n",
    "   - `X_val_scaled =`: This line transforms the validation data (`X_val`) using the same scaling parameters computed from the training data. The `transform` method scales the validation data based on the mean and standard deviation of the training data, ensuring that both datasets are standardized in the same way.\n",
    "\n",
    "2. **Training the Logistic Regression Model**:\n",
    "   - `model =`: This line initializes a logistic regression model using the `LogisticRegression` class from `scikit-learn`. The `max_iter=1000` parameter sets the maximum number of iterations for the optimization algorithm to 1000, ensuring that the model has sufficient iterations to converge.\n",
    "   - `model.fit(X_train_scaled,`: This line fits the logistic regression model to the standardized training data (`X_train_scaled`) and the training target variable (`y_train`). The `fit` method trains the model by finding the optimal coefficients that minimize the logistic loss function.\n",
    "\n",
    "3. **Making Predictions**:\n",
    "   - `y_pred =`: This line uses the trained logistic regression model to make predictions on the standardized validation data (`X_val_scaled`). The `predict` method is called on the `model` object, and the predicted labels are stored in the `y_pred` variable.\n",
    "\n",
    "4. **Evaluating the Model**:\n",
    "   - `print(\"Accuracy:\", accuracy_score(y_val,`: This line calculates and prints the accuracy of the model on the validation set. The `accuracy_score` function from `sklearn.metrics` is used to compute the accuracy, which is the fraction of correctly classified samples. The true labels (`y_val`) and the predicted labels (`y_pred`) are passed as arguments to the function.\n",
    "   - `print(\"Confusion Matrix:\\n\", confusion_matrix(y_val,`: This line calculates and prints the confusion matrix for the validation set. The `confusion_matrix` function from `sklearn.metrics` is used to compute the confusion matrix, which provides a summary of the prediction results by showing the counts of true positives, true negatives, false positives, and false negatives. The true labels (`y_val`) and the predicted labels (`y_pred`) are passed as arguments to the function.\n",
    "\n",
    "5. **Displaying the First Few Rows of the DataFrame**:\n",
    "   - This line prints the first six rows of the DataFrame (`df`). The `head` method is used to quickly inspect the initial entries of the DataFrame, providing a snapshot of the data structure and content.\n",
    "\n",
    "By executing this code, you can preprocess the data by standardizing it, train a logistic regression model on the standardized training data, make predictions on the standardized validation data, and evaluate the model's performance using accuracy and the confusion matrix. These evaluation metrics provide insights into how well the model is performing and help identify areas for improvement. Additionally, displaying the first few rows of the DataFrame helps verify that the data has been loaded correctly and provides an initial sense of the dataset."
   ]
  },
  {
   "cell_type": "code",
   "execution_count": 15,
   "metadata": {
    "id": "8I9jm7KmwsEs"
   },
   "outputs": [
    {
     "name": "stdout",
     "output_type": "stream",
     "text": [
      "Accuracy: 0.6056910569105691\n",
      "Confusion Matrix:\n",
      " [[ 908  690]\n",
      " [ 571 1029]]\n"
     ]
    },
    {
     "data": {
      "application/vnd.microsoft.datawrangler.viewer.v0+json": {
       "columns": [
        {
         "name": "index",
         "rawType": "int64",
         "type": "integer"
        },
        {
         "name": "default",
         "rawType": "int64",
         "type": "integer"
        },
        {
         "name": "installment",
         "rawType": "int64",
         "type": "integer"
        },
        {
         "name": "log_income",
         "rawType": "float64",
         "type": "float"
        },
        {
         "name": "fico_score",
         "rawType": "int64",
         "type": "integer"
        },
        {
         "name": "rev_balance",
         "rawType": "float64",
         "type": "float"
        },
        {
         "name": "inquiries",
         "rawType": "int64",
         "type": "integer"
        },
        {
         "name": "records",
         "rawType": "int64",
         "type": "integer"
        }
       ],
       "ref": "150812a6-b184-4eff-9321-386087aeb49f",
       "rows": [
        [
         "0",
         "0",
         "829",
         "4.93",
         "737",
         "28.85",
         "0",
         "0"
        ],
        [
         "1",
         "0",
         "228",
         "4.81",
         "707",
         "33.62",
         "0",
         "0"
        ],
        [
         "2",
         "0",
         "367",
         "4.51",
         "682",
         "3.51",
         "1",
         "0"
        ],
        [
         "3",
         "0",
         "162",
         "4.93",
         "712",
         "33.67",
         "1",
         "0"
        ],
        [
         "4",
         "0",
         "103",
         "4.91",
         "667",
         "4.74",
         "0",
         "0"
        ]
       ],
       "shape": {
        "columns": 7,
        "rows": 5
       }
      },
      "text/html": [
       "<div>\n",
       "<style scoped>\n",
       "    .dataframe tbody tr th:only-of-type {\n",
       "        vertical-align: middle;\n",
       "    }\n",
       "\n",
       "    .dataframe tbody tr th {\n",
       "        vertical-align: top;\n",
       "    }\n",
       "\n",
       "    .dataframe thead th {\n",
       "        text-align: right;\n",
       "    }\n",
       "</style>\n",
       "<table border=\"1\" class=\"dataframe\">\n",
       "  <thead>\n",
       "    <tr style=\"text-align: right;\">\n",
       "      <th></th>\n",
       "      <th>default</th>\n",
       "      <th>installment</th>\n",
       "      <th>log_income</th>\n",
       "      <th>fico_score</th>\n",
       "      <th>rev_balance</th>\n",
       "      <th>inquiries</th>\n",
       "      <th>records</th>\n",
       "    </tr>\n",
       "  </thead>\n",
       "  <tbody>\n",
       "    <tr>\n",
       "      <th>0</th>\n",
       "      <td>0</td>\n",
       "      <td>829</td>\n",
       "      <td>4.93</td>\n",
       "      <td>737</td>\n",
       "      <td>28.85</td>\n",
       "      <td>0</td>\n",
       "      <td>0</td>\n",
       "    </tr>\n",
       "    <tr>\n",
       "      <th>1</th>\n",
       "      <td>0</td>\n",
       "      <td>228</td>\n",
       "      <td>4.81</td>\n",
       "      <td>707</td>\n",
       "      <td>33.62</td>\n",
       "      <td>0</td>\n",
       "      <td>0</td>\n",
       "    </tr>\n",
       "    <tr>\n",
       "      <th>2</th>\n",
       "      <td>0</td>\n",
       "      <td>367</td>\n",
       "      <td>4.51</td>\n",
       "      <td>682</td>\n",
       "      <td>3.51</td>\n",
       "      <td>1</td>\n",
       "      <td>0</td>\n",
       "    </tr>\n",
       "    <tr>\n",
       "      <th>3</th>\n",
       "      <td>0</td>\n",
       "      <td>162</td>\n",
       "      <td>4.93</td>\n",
       "      <td>712</td>\n",
       "      <td>33.67</td>\n",
       "      <td>1</td>\n",
       "      <td>0</td>\n",
       "    </tr>\n",
       "    <tr>\n",
       "      <th>4</th>\n",
       "      <td>0</td>\n",
       "      <td>103</td>\n",
       "      <td>4.91</td>\n",
       "      <td>667</td>\n",
       "      <td>4.74</td>\n",
       "      <td>0</td>\n",
       "      <td>0</td>\n",
       "    </tr>\n",
       "  </tbody>\n",
       "</table>\n",
       "</div>"
      ],
      "text/plain": [
       "   default  installment  log_income  fico_score  rev_balance  inquiries  records\n",
       "0        0          829        4.93         737        28.85          0        0\n",
       "1        0          228        4.81         707        33.62          0        0\n",
       "2        0          367        4.51         682         3.51          1        0\n",
       "3        0          162        4.93         712        33.67          1        0\n",
       "4        0          103        4.91         667         4.74          0        0"
      ]
     },
     "execution_count": 15,
     "metadata": {},
     "output_type": "execute_result"
    }
   ],
   "source": [
    "scaler         = StandardScaler()\n",
    "X_train_scaled = scaler.fit_transform(X_train)\n",
    "X_val_scaled   = scaler.transform(X_val)\n",
    "model          = LogisticRegression(max_iter=1000)\n",
    "model.fit(X_train_scaled, y_train)\n",
    "y_pred         = model.predict(X_val_scaled)\n",
    "print(\"Accuracy:\", accuracy_score(y_val, y_pred))\n",
    "print(\"Confusion Matrix:\\n\", confusion_matrix(y_val, y_pred))\n",
    "df.head(5)"
   ]
  }
 ],
 "metadata": {
  "colab": {
   "provenance": [
    {
     "file_id": "1GP3mLxRc0u3UuekWvG7_72ktmsZpKTfs",
     "timestamp": 1741205606280
    },
    {
     "file_id": "1aYcNxa5tcJ6x19l3pYrRMz0ZUh2Qo2SB",
     "timestamp": 1651767952568
    },
    {
     "file_id": "1Pcz0iI2GAHs1lnZ-iD34ScEo-GokSHdq",
     "timestamp": 1651761890037
    }
   ]
  },
  "kernelspec": {
   "display_name": "tf-env",
   "language": "python",
   "name": "python3"
  },
  "language_info": {
   "codemirror_mode": {
    "name": "ipython",
    "version": 3
   },
   "file_extension": ".py",
   "mimetype": "text/x-python",
   "name": "python",
   "nbconvert_exporter": "python",
   "pygments_lexer": "ipython3",
   "version": "3.11.13"
  }
 },
 "nbformat": 4,
 "nbformat_minor": 0
}
